{
 "cells": [
  {
   "cell_type": "code",
   "execution_count": 3,
   "metadata": {},
   "outputs": [
    {
     "name": "stderr",
     "output_type": "stream",
     "text": [
      "/Users/albertcortbanke/miniconda3/envs/msngdata/lib/python3.9/site-packages/libpysal/cg/alpha_shapes.py:39: NumbaDeprecationWarning: The 'nopython' keyword argument was not supplied to the 'numba.jit' decorator. The implicit default value for this argument is currently False, but it will be changed to True in Numba 0.59.0. See https://numba.readthedocs.io/en/stable/reference/deprecation.html#deprecation-of-object-mode-fall-back-behaviour-when-using-jit for details.\n",
      "  def nb_dist(x, y):\n",
      "/Users/albertcortbanke/miniconda3/envs/msngdata/lib/python3.9/site-packages/libpysal/cg/alpha_shapes.py:165: NumbaDeprecationWarning: The 'nopython' keyword argument was not supplied to the 'numba.jit' decorator. The implicit default value for this argument is currently False, but it will be changed to True in Numba 0.59.0. See https://numba.readthedocs.io/en/stable/reference/deprecation.html#deprecation-of-object-mode-fall-back-behaviour-when-using-jit for details.\n",
      "  def get_faces(triangle):\n",
      "/Users/albertcortbanke/miniconda3/envs/msngdata/lib/python3.9/site-packages/libpysal/cg/alpha_shapes.py:199: NumbaDeprecationWarning: The 'nopython' keyword argument was not supplied to the 'numba.jit' decorator. The implicit default value for this argument is currently False, but it will be changed to True in Numba 0.59.0. See https://numba.readthedocs.io/en/stable/reference/deprecation.html#deprecation-of-object-mode-fall-back-behaviour-when-using-jit for details.\n",
      "  def build_faces(faces, triangles_is, num_triangles, num_faces_single):\n",
      "/Users/albertcortbanke/miniconda3/envs/msngdata/lib/python3.9/site-packages/libpysal/cg/alpha_shapes.py:261: NumbaDeprecationWarning: The 'nopython' keyword argument was not supplied to the 'numba.jit' decorator. The implicit default value for this argument is currently False, but it will be changed to True in Numba 0.59.0. See https://numba.readthedocs.io/en/stable/reference/deprecation.html#deprecation-of-object-mode-fall-back-behaviour-when-using-jit for details.\n",
      "  def nb_mask_faces(mask, faces):\n"
     ]
    }
   ],
   "source": [
    "# Read libraries\n",
    "\n",
    "# Data wrangling\n",
    "import pandas as pd\n",
    "import numpy as np\n",
    "import re\n",
    "from shapely import wkt\n",
    "import fiona\n",
    "\n",
    "# Visualization \n",
    "import missingno as msno\n",
    "import matplotlib\n",
    "import mapclassify\n",
    "import matplotlib.pyplot as plt\n",
    "import plotly.express as px\n",
    "import plotly.subplots as sp\n",
    "import plotly.graph_objects as go\n",
    "import seaborn as sns\n",
    "import geopandas as gpd\n",
    "\n",
    "\n",
    "# Geostatistics\n",
    "from mgwr.gwr import GWR\n",
    "from mgwr.sel_bw import Sel_BW\n",
    "import libpysal as ps\n",
    "import matplotlib.pyplot as plt\n",
    "import seaborn as sns\n",
    "from pysal.lib import weights\n",
    "from pysal.model import spreg\n",
    "import statsmodels.api as sm\n",
    "from statsmodels.formula.api import ols\n",
    "from statsmodels.compat import lzip\n",
    "from esda.moran import Moran_Local\n",
    "from splot.esda import lisa_cluster\n",
    "from pysal.lib import weights\n",
    "from splot.libpysal import plot_spatial_weights\n",
    "from spreg import OLS\n",
    "from spreg import MoranRes\n",
    "from spreg import ML_Lag\n",
    "from spreg import ML_Error\n",
    "\n",
    "# Machine learning \n",
    "from sklearn.cluster import KMeans\n",
    "from sklearn.preprocessing import StandardScaler\n",
    "\n",
    "import warnings\n",
    "warnings.filterwarnings('ignore')"
   ]
  },
  {
   "cell_type": "code",
   "execution_count": 4,
   "metadata": {},
   "outputs": [],
   "source": [
    "# Read the GeoParquet file without one-hot sampling\n",
    "gdf_no_oh = gpd.read_parquet('gdf_no_ohe.parquet')"
   ]
  },
  {
   "cell_type": "code",
   "execution_count": 7,
   "metadata": {},
   "outputs": [
    {
     "data": {
      "text/plain": [
       "Index(['year', 'countries', 'region', 'pf_ss_disappearances_disap',\n",
       "       'pf_ss_disappearances_violent', 'pf_ss_disappearances_violent_data',\n",
       "       'pf_ss_disappearances_organized', 'pf_ss_disappearances_fatalities',\n",
       "       'pf_ss_disappearances_fatalities_data', 'pf_ss_disappearances_injuries',\n",
       "       'pf_ss_disappearances_injuries_data', 'pf_ss_disappearances', 'pf_ss',\n",
       "       'pf_expression_direct_killed', 'pf_expression_direct_killed_data',\n",
       "       'pf_expression_direct_jailed', 'pf_expression_direct_jailed_data',\n",
       "       'pf_expression_direct', 'pf_expression_cld', 'pf_identity_divorce',\n",
       "       'pf_identity_fgm', 'ef_government_tax_income_data',\n",
       "       'ef_government_tax_payroll_data', 'ef_government_soa', 'ef_government',\n",
       "       'ef_legal_protection', 'ef_legal_military', 'ef_legal_integrity',\n",
       "       'ef_legal_enforcement', 'ef_legal_regulatory', 'ef_legal_police',\n",
       "       'ef_gender', 'ef_money_sd', 'ef_money_sd_data', 'ef_money_inflation',\n",
       "       'ef_money_inflation_data', 'ef_money_currency', 'ef_money',\n",
       "       'ef_trade_tariffs_revenue', 'ef_trade_tariffs_revenue_data',\n",
       "       'ef_trade_tariffs_sd', 'ef_trade_tariffs_sd_data', 'ef_trade_tariffs',\n",
       "       'ef_trade_regulatory_nontariff', 'ef_trade_black',\n",
       "       'ef_trade_movement_capital', 'ef_trade_movement_visit',\n",
       "       'ef_regulation_credit_ownership', 'ef_regulation_credit_private',\n",
       "       'ef_regulation_credit_interest', 'ef_regulation_credit',\n",
       "       'ef_regulation_labor_minwage', 'ef_regulation_labor_firing',\n",
       "       'ef_regulation_labor_bargain', 'ef_regulation_labor_hours',\n",
       "       'ef_regulation_labor_dismissal', 'ef_regulation_labor_conscription',\n",
       "       'ef_regulation_labor', 'ef_regulation_business_adm',\n",
       "       'ef_regulation_business_burden', 'ef_regulation_business_start',\n",
       "       'ef_regulation_business_impartial', 'ef_regulation_business_licensing',\n",
       "       'ef_regulation_business_compliance', 'ef_regulation_business',\n",
       "       'ef_regulation', 'country_code', 'geometry', 'globalNorth', 'ef_score',\n",
       "       'hf_score', 'pf_expression_bti', 'pf_rol_civil'],\n",
       "      dtype='object')"
      ]
     },
     "execution_count": 7,
     "metadata": {},
     "output_type": "execute_result"
    }
   ],
   "source": [
    "gdf_no_oh.columns"
   ]
  },
  {
   "cell_type": "code",
   "execution_count": 9,
   "metadata": {},
   "outputs": [],
   "source": [
    "w_knn = weights.KNN.from_dataframe(gdf_no_oh, k=4)\n",
    "w_queen = weights.contiguity.Queen.from_dataframe(gdf_no_oh)"
   ]
  },
  {
   "cell_type": "code",
   "execution_count": 8,
   "metadata": {},
   "outputs": [],
   "source": [
    "y_name = 'ef_score'\n",
    "y = gdf_no_oh[y_name].values\n",
    "\n",
    "x_names = ['pf_ss_disappearances_injuries',\n",
    "       'pf_ss_disappearances_injuries_data', 'pf_ss_disappearances', 'pf_ss',\n",
    "       'pf_expression_direct_killed', 'pf_expression_direct_killed_data',\n",
    "       'pf_expression_direct_jailed', 'pf_expression_direct_jailed_data',\n",
    "       'pf_expression_direct', 'pf_expression_cld', 'pf_identity_divorce',\n",
    "       'pf_identity_fgm', 'ef_government_tax_income_data',\n",
    "       'ef_government_tax_payroll_data', 'ef_government_soa', 'ef_government',\n",
    "       'ef_legal_protection', 'ef_legal_military', 'ef_legal_integrity',\n",
    "       'ef_legal_enforcement', 'ef_legal_regulatory', 'ef_legal_police',\n",
    "       'ef_gender', 'ef_money_sd', 'ef_money_sd_data', 'ef_money_inflation']\n",
    "x = np.array(gdf_no_oh[x_names])"
   ]
  },
  {
   "cell_type": "code",
   "execution_count": 13,
   "metadata": {},
   "outputs": [
    {
     "name": "stdout",
     "output_type": "stream",
     "text": [
      "REGRESSION\n",
      "----------\n",
      "SUMMARY OF OUTPUT: ORDINARY LEAST SQUARES\n",
      "-----------------------------------------\n",
      "Data set            :   gdf_no_oh\n",
      "Weights matrix      :       w_knn\n",
      "Dependent Variable  :    ef_score                Number of Observations:        3486\n",
      "Mean dependent var  :      0.1096                Number of Variables   :          27\n",
      "S.D. dependent var  :      0.3124                Degrees of Freedom    :        3459\n",
      "R-squared           :     -1.5104\n",
      "Adjusted R-squared  :     -1.5293\n",
      "Sum squared residual:     853.894                F-statistic           :     98.0395\n",
      "Sigma-square        :       0.247                Prob(F-statistic)     :           0\n",
      "S.E. of regression  :       0.497                Log likelihood        :   -2494.537\n",
      "Sigma-square ML     :       0.245                Akaike info criterion :    5043.073\n",
      "S.E of regression ML:      0.4949                Schwarz criterion     :    5209.299\n",
      "\n",
      "------------------------------------------------------------------------------------\n",
      "            Variable     Coefficient       Std.Error     t-Statistic     Probability\n",
      "------------------------------------------------------------------------------------\n",
      "            CONSTANT      -0.4307850       0.1136771      -3.7895494       0.0001535\n",
      "pf_ss_disappearances_injuries       0.1814199       0.0061267      29.6114109       0.0000000\n",
      "pf_ss_disappearances_injuries_data       0.0002212       0.0000136      16.2184107       0.0000000\n",
      "pf_ss_disappearances      -0.0038095       0.0104172      -0.3656970       0.7146135\n",
      "               pf_ss      -0.0000410       0.0086668      -0.0047298       0.9962264\n",
      "pf_expression_direct_killed      -0.1055693    65123.3412970      -0.0000016       0.9999987\n",
      "pf_expression_direct_killed_data      -0.0008730       0.0015600      -0.5596276       0.5757697\n",
      "pf_expression_direct_jailed      -0.0193036    65123.3412970      -0.0000003       0.9999998\n",
      "pf_expression_direct_jailed_data      -0.0017382       0.0004881      -3.5613067       0.0003740\n",
      "pf_expression_direct       0.1045119    130246.6825941       0.0000008       0.9999994\n",
      "   pf_expression_cld      -0.0155751       0.0047825      -3.2567031       0.0011380\n",
      " pf_identity_divorce      -0.0082566       0.0032012      -2.5792461       0.0099425\n",
      "     pf_identity_fgm      -0.0019266       0.0053462      -0.3603700       0.7185925\n",
      "ef_government_tax_income_data       0.0004803       0.0012266       0.3915688       0.6954010\n",
      "ef_government_tax_payroll_data      -0.0016395       0.0013075      -1.2538997       0.2099632\n",
      "   ef_government_soa      -0.0186066       0.0097543      -1.9075342       0.0565342\n",
      "       ef_government      -0.0529282       0.0098461      -5.3755417       0.0000001\n",
      " ef_legal_protection      -0.0064067       0.0093203      -0.6873914       0.4918822\n",
      "   ef_legal_military      -0.0066337       0.0053394      -1.2424209       0.2141655\n",
      "  ef_legal_integrity      -0.0051030       0.0102198      -0.4993256       0.6175818\n",
      "ef_legal_enforcement       0.0265021       0.0072085       3.6764864       0.0002401\n",
      " ef_legal_regulatory      -0.0035831       0.0051451      -0.6963990       0.4862258\n",
      "     ef_legal_police      -0.0007507       0.0077438      -0.0969357       0.9227831\n",
      "           ef_gender      -0.0349455       0.0656313      -0.5324516       0.5944475\n",
      "         ef_money_sd       0.0085019       0.0062039       1.3704103       0.1706478\n",
      "    ef_money_sd_data      -0.0000057       0.0000053      -1.0754917       0.2822296\n",
      "  ef_money_inflation      -0.0088883       0.0073741      -1.2053484       0.2281513\n",
      "------------------------------------------------------------------------------------\n",
      "\n",
      "REGRESSION DIAGNOSTICS\n",
      "MULTICOLLINEARITY CONDITION NUMBER    456081035.108\n",
      "\n",
      "TEST ON NORMALITY OF ERRORS\n",
      "TEST                             DF        VALUE           PROB\n",
      "Jarque-Bera                       2         409.855           0.0000\n",
      "\n",
      "DIAGNOSTICS FOR HETEROSKEDASTICITY\n",
      "RANDOM COEFFICIENTS\n",
      "TEST                             DF        VALUE           PROB\n",
      "Breusch-Pagan test               26        3004.826           0.0000\n",
      "Koenker-Bassett test             26        1684.581           0.0000\n",
      "\n",
      "SPECIFICATION ROBUST TEST\n",
      "Not computed due to multicollinearity.\n",
      "\n",
      "DIAGNOSTICS FOR SPATIAL DEPENDENCE\n",
      "TEST                           MI/DF       VALUE           PROB\n",
      "Moran's I (error)              0.4484        49.138           0.0000\n",
      "Lagrange Multiplier (lag)         1          88.168           0.0000\n",
      "Robust LM (lag)                   1      -16440.896           1.0000\n",
      "Lagrange Multiplier (error)       1        2264.058           0.0000\n",
      "Robust LM (error)                 1      -14265.006           1.0000\n",
      "Lagrange Multiplier (SARMA)       2      -14176.838           1.0000\n",
      "\n",
      "================================ END OF REPORT =====================================\n"
     ]
    }
   ],
   "source": [
    "ols = OLS(y = y, x = x, w = w_knn, name_y=y_name, name_x = x_names, \n",
    "        name_w=\"w_knn\", name_ds='gdf_no_oh', \n",
    "        white_test=True, spat_diag=True, moran=True)\n",
    "print(ols.summary)"
   ]
  }
 ],
 "metadata": {
  "kernelspec": {
   "display_name": "msngdata",
   "language": "python",
   "name": "python3"
  },
  "language_info": {
   "codemirror_mode": {
    "name": "ipython",
    "version": 3
   },
   "file_extension": ".py",
   "mimetype": "text/x-python",
   "name": "python",
   "nbconvert_exporter": "python",
   "pygments_lexer": "ipython3",
   "version": "3.9.16"
  },
  "orig_nbformat": 4
 },
 "nbformat": 4,
 "nbformat_minor": 2
}

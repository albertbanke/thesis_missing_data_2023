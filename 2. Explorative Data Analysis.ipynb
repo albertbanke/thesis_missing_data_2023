{
 "cells": [
  {
   "cell_type": "code",
   "execution_count": 1,
   "metadata": {},
   "outputs": [],
   "source": [
    "# Read libraries\n",
    "\n",
    "# Data wrangling\n",
    "import pandas as pd\n",
    "import numpy as np\n",
    "import re\n",
    "import pycountry\n",
    "from shapely import wkt\n",
    "import fiona\n",
    "\n",
    "# Visualization \n",
    "import missingno as msno\n",
    "import matplotlib\n",
    "import matplotlib.pyplot as plt\n",
    "import plotly.express as px\n",
    "import plotly.graph_objects as go\n",
    "import seaborn as sns\n",
    "import geopandas as gpd\n",
    "\n",
    "# Machine learning \n",
    "from sklearn.cluster import KMeans\n",
    "from sklearn.preprocessing import StandardScaler\n",
    "\n",
    "import warnings\n",
    "warnings.filterwarnings('ignore')"
   ]
  },
  {
   "cell_type": "code",
   "execution_count": 2,
   "metadata": {},
   "outputs": [
    {
     "data": {
      "text/html": [
       "<div>\n",
       "<style scoped>\n",
       "    .dataframe tbody tr th:only-of-type {\n",
       "        vertical-align: middle;\n",
       "    }\n",
       "\n",
       "    .dataframe tbody tr th {\n",
       "        vertical-align: top;\n",
       "    }\n",
       "\n",
       "    .dataframe thead th {\n",
       "        text-align: right;\n",
       "    }\n",
       "</style>\n",
       "<table border=\"1\" class=\"dataframe\">\n",
       "  <thead>\n",
       "    <tr style=\"text-align: right;\">\n",
       "      <th></th>\n",
       "      <th>year</th>\n",
       "      <th>countries</th>\n",
       "      <th>region</th>\n",
       "      <th>pf_ss_disappearances_disap</th>\n",
       "      <th>pf_ss_disappearances_violent</th>\n",
       "      <th>pf_ss_disappearances_violent_data</th>\n",
       "      <th>pf_ss_disappearances_organized</th>\n",
       "      <th>pf_ss_disappearances_fatalities</th>\n",
       "      <th>pf_ss_disappearances_fatalities_data</th>\n",
       "      <th>pf_ss_disappearances_injuries</th>\n",
       "      <th>...</th>\n",
       "      <th>region_Caucasus &amp; Central Asia</th>\n",
       "      <th>region_East Asia</th>\n",
       "      <th>region_Eastern Europe</th>\n",
       "      <th>region_Latin America &amp; the Caribbean</th>\n",
       "      <th>region_Middle East &amp; North Africa</th>\n",
       "      <th>region_North America</th>\n",
       "      <th>region_Oceania</th>\n",
       "      <th>region_South Asia</th>\n",
       "      <th>region_Sub-Saharan Africa</th>\n",
       "      <th>region_Western Europe</th>\n",
       "    </tr>\n",
       "  </thead>\n",
       "  <tbody>\n",
       "    <tr>\n",
       "      <th>0</th>\n",
       "      <td>2020</td>\n",
       "      <td>Albania</td>\n",
       "      <td>Eastern Europe</td>\n",
       "      <td>10.0</td>\n",
       "      <td>10.000000</td>\n",
       "      <td>0.0</td>\n",
       "      <td>7.5</td>\n",
       "      <td>10.000000</td>\n",
       "      <td>0.0</td>\n",
       "      <td>10.000000</td>\n",
       "      <td>...</td>\n",
       "      <td>0</td>\n",
       "      <td>0</td>\n",
       "      <td>1</td>\n",
       "      <td>0</td>\n",
       "      <td>0</td>\n",
       "      <td>0</td>\n",
       "      <td>0</td>\n",
       "      <td>0</td>\n",
       "      <td>0</td>\n",
       "      <td>0</td>\n",
       "    </tr>\n",
       "    <tr>\n",
       "      <th>1</th>\n",
       "      <td>2020</td>\n",
       "      <td>Algeria</td>\n",
       "      <td>Middle East &amp; North Africa</td>\n",
       "      <td>10.0</td>\n",
       "      <td>9.687083</td>\n",
       "      <td>25.0</td>\n",
       "      <td>5.0</td>\n",
       "      <td>10.000000</td>\n",
       "      <td>0.0</td>\n",
       "      <td>10.000000</td>\n",
       "      <td>...</td>\n",
       "      <td>0</td>\n",
       "      <td>0</td>\n",
       "      <td>0</td>\n",
       "      <td>0</td>\n",
       "      <td>1</td>\n",
       "      <td>0</td>\n",
       "      <td>0</td>\n",
       "      <td>0</td>\n",
       "      <td>0</td>\n",
       "      <td>0</td>\n",
       "    </tr>\n",
       "    <tr>\n",
       "      <th>2</th>\n",
       "      <td>2020</td>\n",
       "      <td>Angola</td>\n",
       "      <td>Sub-Saharan Africa</td>\n",
       "      <td>10.0</td>\n",
       "      <td>9.582498</td>\n",
       "      <td>25.0</td>\n",
       "      <td>7.5</td>\n",
       "      <td>9.736578</td>\n",
       "      <td>5.0</td>\n",
       "      <td>9.971733</td>\n",
       "      <td>...</td>\n",
       "      <td>0</td>\n",
       "      <td>0</td>\n",
       "      <td>0</td>\n",
       "      <td>0</td>\n",
       "      <td>0</td>\n",
       "      <td>0</td>\n",
       "      <td>0</td>\n",
       "      <td>0</td>\n",
       "      <td>1</td>\n",
       "      <td>0</td>\n",
       "    </tr>\n",
       "    <tr>\n",
       "      <th>3</th>\n",
       "      <td>2020</td>\n",
       "      <td>Argentina</td>\n",
       "      <td>Latin America &amp; the Caribbean</td>\n",
       "      <td>5.0</td>\n",
       "      <td>10.000000</td>\n",
       "      <td>0.0</td>\n",
       "      <td>7.5</td>\n",
       "      <td>9.925379</td>\n",
       "      <td>2.0</td>\n",
       "      <td>10.000000</td>\n",
       "      <td>...</td>\n",
       "      <td>0</td>\n",
       "      <td>0</td>\n",
       "      <td>0</td>\n",
       "      <td>1</td>\n",
       "      <td>0</td>\n",
       "      <td>0</td>\n",
       "      <td>0</td>\n",
       "      <td>0</td>\n",
       "      <td>0</td>\n",
       "      <td>0</td>\n",
       "    </tr>\n",
       "    <tr>\n",
       "      <th>4</th>\n",
       "      <td>2020</td>\n",
       "      <td>Armenia</td>\n",
       "      <td>Caucasus &amp; Central Asia</td>\n",
       "      <td>10.0</td>\n",
       "      <td>10.000000</td>\n",
       "      <td>0.0</td>\n",
       "      <td>7.5</td>\n",
       "      <td>10.000000</td>\n",
       "      <td>0.0</td>\n",
       "      <td>10.000000</td>\n",
       "      <td>...</td>\n",
       "      <td>1</td>\n",
       "      <td>0</td>\n",
       "      <td>0</td>\n",
       "      <td>0</td>\n",
       "      <td>0</td>\n",
       "      <td>0</td>\n",
       "      <td>0</td>\n",
       "      <td>0</td>\n",
       "      <td>0</td>\n",
       "      <td>0</td>\n",
       "    </tr>\n",
       "    <tr>\n",
       "      <th>...</th>\n",
       "      <td>...</td>\n",
       "      <td>...</td>\n",
       "      <td>...</td>\n",
       "      <td>...</td>\n",
       "      <td>...</td>\n",
       "      <td>...</td>\n",
       "      <td>...</td>\n",
       "      <td>...</td>\n",
       "      <td>...</td>\n",
       "      <td>...</td>\n",
       "      <td>...</td>\n",
       "      <td>...</td>\n",
       "      <td>...</td>\n",
       "      <td>...</td>\n",
       "      <td>...</td>\n",
       "      <td>...</td>\n",
       "      <td>...</td>\n",
       "      <td>...</td>\n",
       "      <td>...</td>\n",
       "      <td>...</td>\n",
       "      <td>...</td>\n",
       "    </tr>\n",
       "    <tr>\n",
       "      <th>3481</th>\n",
       "      <td>2000</td>\n",
       "      <td>Venezuela</td>\n",
       "      <td>Latin America &amp; the Caribbean</td>\n",
       "      <td>10.0</td>\n",
       "      <td>10.000000</td>\n",
       "      <td>0.0</td>\n",
       "      <td>NaN</td>\n",
       "      <td>10.000000</td>\n",
       "      <td>0.0</td>\n",
       "      <td>10.000000</td>\n",
       "      <td>...</td>\n",
       "      <td>0</td>\n",
       "      <td>0</td>\n",
       "      <td>0</td>\n",
       "      <td>1</td>\n",
       "      <td>0</td>\n",
       "      <td>0</td>\n",
       "      <td>0</td>\n",
       "      <td>0</td>\n",
       "      <td>0</td>\n",
       "      <td>0</td>\n",
       "    </tr>\n",
       "    <tr>\n",
       "      <th>3482</th>\n",
       "      <td>2000</td>\n",
       "      <td>Vietnam</td>\n",
       "      <td>South Asia</td>\n",
       "      <td>10.0</td>\n",
       "      <td>10.000000</td>\n",
       "      <td>0.0</td>\n",
       "      <td>NaN</td>\n",
       "      <td>10.000000</td>\n",
       "      <td>0.0</td>\n",
       "      <td>10.000000</td>\n",
       "      <td>...</td>\n",
       "      <td>0</td>\n",
       "      <td>0</td>\n",
       "      <td>0</td>\n",
       "      <td>0</td>\n",
       "      <td>0</td>\n",
       "      <td>0</td>\n",
       "      <td>0</td>\n",
       "      <td>1</td>\n",
       "      <td>0</td>\n",
       "      <td>0</td>\n",
       "    </tr>\n",
       "    <tr>\n",
       "      <th>3483</th>\n",
       "      <td>2000</td>\n",
       "      <td>Yemen</td>\n",
       "      <td>Middle East &amp; North Africa</td>\n",
       "      <td>5.0</td>\n",
       "      <td>10.000000</td>\n",
       "      <td>0.0</td>\n",
       "      <td>NaN</td>\n",
       "      <td>8.170079</td>\n",
       "      <td>19.0</td>\n",
       "      <td>7.932996</td>\n",
       "      <td>...</td>\n",
       "      <td>0</td>\n",
       "      <td>0</td>\n",
       "      <td>0</td>\n",
       "      <td>0</td>\n",
       "      <td>1</td>\n",
       "      <td>0</td>\n",
       "      <td>0</td>\n",
       "      <td>0</td>\n",
       "      <td>0</td>\n",
       "      <td>0</td>\n",
       "    </tr>\n",
       "    <tr>\n",
       "      <th>3484</th>\n",
       "      <td>2000</td>\n",
       "      <td>Zambia</td>\n",
       "      <td>Sub-Saharan Africa</td>\n",
       "      <td>10.0</td>\n",
       "      <td>10.000000</td>\n",
       "      <td>0.0</td>\n",
       "      <td>NaN</td>\n",
       "      <td>10.000000</td>\n",
       "      <td>0.0</td>\n",
       "      <td>9.827262</td>\n",
       "      <td>...</td>\n",
       "      <td>0</td>\n",
       "      <td>0</td>\n",
       "      <td>0</td>\n",
       "      <td>0</td>\n",
       "      <td>0</td>\n",
       "      <td>0</td>\n",
       "      <td>0</td>\n",
       "      <td>0</td>\n",
       "      <td>1</td>\n",
       "      <td>0</td>\n",
       "    </tr>\n",
       "    <tr>\n",
       "      <th>3485</th>\n",
       "      <td>2000</td>\n",
       "      <td>Zimbabwe</td>\n",
       "      <td>Sub-Saharan Africa</td>\n",
       "      <td>5.0</td>\n",
       "      <td>10.000000</td>\n",
       "      <td>0.0</td>\n",
       "      <td>NaN</td>\n",
       "      <td>10.000000</td>\n",
       "      <td>0.0</td>\n",
       "      <td>10.000000</td>\n",
       "      <td>...</td>\n",
       "      <td>0</td>\n",
       "      <td>0</td>\n",
       "      <td>0</td>\n",
       "      <td>0</td>\n",
       "      <td>0</td>\n",
       "      <td>0</td>\n",
       "      <td>0</td>\n",
       "      <td>0</td>\n",
       "      <td>1</td>\n",
       "      <td>0</td>\n",
       "    </tr>\n",
       "  </tbody>\n",
       "</table>\n",
       "<p>3486 rows × 247 columns</p>\n",
       "</div>"
      ],
      "text/plain": [
       "      year  countries                         region  \\\n",
       "0     2020    Albania                 Eastern Europe   \n",
       "1     2020    Algeria     Middle East & North Africa   \n",
       "2     2020     Angola             Sub-Saharan Africa   \n",
       "3     2020  Argentina  Latin America & the Caribbean   \n",
       "4     2020    Armenia        Caucasus & Central Asia   \n",
       "...    ...        ...                            ...   \n",
       "3481  2000  Venezuela  Latin America & the Caribbean   \n",
       "3482  2000    Vietnam                     South Asia   \n",
       "3483  2000      Yemen     Middle East & North Africa   \n",
       "3484  2000     Zambia             Sub-Saharan Africa   \n",
       "3485  2000   Zimbabwe             Sub-Saharan Africa   \n",
       "\n",
       "      pf_ss_disappearances_disap  pf_ss_disappearances_violent  \\\n",
       "0                           10.0                     10.000000   \n",
       "1                           10.0                      9.687083   \n",
       "2                           10.0                      9.582498   \n",
       "3                            5.0                     10.000000   \n",
       "4                           10.0                     10.000000   \n",
       "...                          ...                           ...   \n",
       "3481                        10.0                     10.000000   \n",
       "3482                        10.0                     10.000000   \n",
       "3483                         5.0                     10.000000   \n",
       "3484                        10.0                     10.000000   \n",
       "3485                         5.0                     10.000000   \n",
       "\n",
       "      pf_ss_disappearances_violent_data  pf_ss_disappearances_organized  \\\n",
       "0                                   0.0                             7.5   \n",
       "1                                  25.0                             5.0   \n",
       "2                                  25.0                             7.5   \n",
       "3                                   0.0                             7.5   \n",
       "4                                   0.0                             7.5   \n",
       "...                                 ...                             ...   \n",
       "3481                                0.0                             NaN   \n",
       "3482                                0.0                             NaN   \n",
       "3483                                0.0                             NaN   \n",
       "3484                                0.0                             NaN   \n",
       "3485                                0.0                             NaN   \n",
       "\n",
       "      pf_ss_disappearances_fatalities  pf_ss_disappearances_fatalities_data  \\\n",
       "0                           10.000000                                   0.0   \n",
       "1                           10.000000                                   0.0   \n",
       "2                            9.736578                                   5.0   \n",
       "3                            9.925379                                   2.0   \n",
       "4                           10.000000                                   0.0   \n",
       "...                               ...                                   ...   \n",
       "3481                        10.000000                                   0.0   \n",
       "3482                        10.000000                                   0.0   \n",
       "3483                         8.170079                                  19.0   \n",
       "3484                        10.000000                                   0.0   \n",
       "3485                        10.000000                                   0.0   \n",
       "\n",
       "      pf_ss_disappearances_injuries  ...  region_Caucasus & Central Asia  \\\n",
       "0                         10.000000  ...                               0   \n",
       "1                         10.000000  ...                               0   \n",
       "2                          9.971733  ...                               0   \n",
       "3                         10.000000  ...                               0   \n",
       "4                         10.000000  ...                               1   \n",
       "...                             ...  ...                             ...   \n",
       "3481                      10.000000  ...                               0   \n",
       "3482                      10.000000  ...                               0   \n",
       "3483                       7.932996  ...                               0   \n",
       "3484                       9.827262  ...                               0   \n",
       "3485                      10.000000  ...                               0   \n",
       "\n",
       "      region_East Asia  region_Eastern Europe  \\\n",
       "0                    0                      1   \n",
       "1                    0                      0   \n",
       "2                    0                      0   \n",
       "3                    0                      0   \n",
       "4                    0                      0   \n",
       "...                ...                    ...   \n",
       "3481                 0                      0   \n",
       "3482                 0                      0   \n",
       "3483                 0                      0   \n",
       "3484                 0                      0   \n",
       "3485                 0                      0   \n",
       "\n",
       "      region_Latin America & the Caribbean  region_Middle East & North Africa  \\\n",
       "0                                        0                                  0   \n",
       "1                                        0                                  1   \n",
       "2                                        0                                  0   \n",
       "3                                        1                                  0   \n",
       "4                                        0                                  0   \n",
       "...                                    ...                                ...   \n",
       "3481                                     1                                  0   \n",
       "3482                                     0                                  0   \n",
       "3483                                     0                                  1   \n",
       "3484                                     0                                  0   \n",
       "3485                                     0                                  0   \n",
       "\n",
       "      region_North America  region_Oceania  region_South Asia  \\\n",
       "0                        0               0                  0   \n",
       "1                        0               0                  0   \n",
       "2                        0               0                  0   \n",
       "3                        0               0                  0   \n",
       "4                        0               0                  0   \n",
       "...                    ...             ...                ...   \n",
       "3481                     0               0                  0   \n",
       "3482                     0               0                  1   \n",
       "3483                     0               0                  0   \n",
       "3484                     0               0                  0   \n",
       "3485                     0               0                  0   \n",
       "\n",
       "      region_Sub-Saharan Africa  region_Western Europe  \n",
       "0                             0                      0  \n",
       "1                             0                      0  \n",
       "2                             1                      0  \n",
       "3                             0                      0  \n",
       "4                             0                      0  \n",
       "...                         ...                    ...  \n",
       "3481                          0                      0  \n",
       "3482                          0                      0  \n",
       "3483                          0                      0  \n",
       "3484                          1                      0  \n",
       "3485                          1                      0  \n",
       "\n",
       "[3486 rows x 247 columns]"
      ]
     },
     "execution_count": 2,
     "metadata": {},
     "output_type": "execute_result"
    }
   ],
   "source": [
    "# Read the Parquet file\n",
    "df_encoded = pd.read_parquet('df_encoded.parquet')\n",
    "\n",
    "# Display the DataFrame\n",
    "df_encoded"
   ]
  },
  {
   "attachments": {},
   "cell_type": "markdown",
   "metadata": {},
   "source": [
    "### 1) Statistics"
   ]
  },
  {
   "cell_type": "code",
   "execution_count": 3,
   "metadata": {},
   "outputs": [
    {
     "name": "stdout",
     "output_type": "stream",
     "text": [
      "<class 'pandas.core.frame.DataFrame'>\n",
      "RangeIndex: 3486 entries, 0 to 3485\n",
      "Columns: 247 entries, year to region_Western Europe\n",
      "dtypes: float64(62), int64(3), object(7), uint8(175)\n",
      "memory usage: 2.5+ MB\n"
     ]
    }
   ],
   "source": [
    "# Data frame information (columns, dtypes, mem usage)\n",
    "df_encoded.info() "
   ]
  },
  {
   "cell_type": "code",
   "execution_count": 4,
   "metadata": {},
   "outputs": [
    {
     "data": {
      "text/html": [
       "<div>\n",
       "<style scoped>\n",
       "    .dataframe tbody tr th:only-of-type {\n",
       "        vertical-align: middle;\n",
       "    }\n",
       "\n",
       "    .dataframe tbody tr th {\n",
       "        vertical-align: top;\n",
       "    }\n",
       "\n",
       "    .dataframe thead th {\n",
       "        text-align: right;\n",
       "    }\n",
       "</style>\n",
       "<table border=\"1\" class=\"dataframe\">\n",
       "  <thead>\n",
       "    <tr style=\"text-align: right;\">\n",
       "      <th></th>\n",
       "      <th>year</th>\n",
       "      <th>pf_ss_disappearances_disap</th>\n",
       "      <th>pf_ss_disappearances_violent</th>\n",
       "      <th>pf_ss_disappearances_violent_data</th>\n",
       "      <th>pf_ss_disappearances_organized</th>\n",
       "      <th>pf_ss_disappearances_fatalities</th>\n",
       "      <th>pf_ss_disappearances_fatalities_data</th>\n",
       "      <th>pf_ss_disappearances_injuries</th>\n",
       "      <th>pf_ss_disappearances_injuries_data</th>\n",
       "      <th>pf_ss_killings</th>\n",
       "      <th>...</th>\n",
       "      <th>region_Caucasus &amp; Central Asia</th>\n",
       "      <th>region_East Asia</th>\n",
       "      <th>region_Eastern Europe</th>\n",
       "      <th>region_Latin America &amp; the Caribbean</th>\n",
       "      <th>region_Middle East &amp; North Africa</th>\n",
       "      <th>region_North America</th>\n",
       "      <th>region_Oceania</th>\n",
       "      <th>region_South Asia</th>\n",
       "      <th>region_Sub-Saharan Africa</th>\n",
       "      <th>region_Western Europe</th>\n",
       "    </tr>\n",
       "  </thead>\n",
       "  <tbody>\n",
       "    <tr>\n",
       "      <th>count</th>\n",
       "      <td>3486.000000</td>\n",
       "      <td>3436.000000</td>\n",
       "      <td>3486.000000</td>\n",
       "      <td>3486.000000</td>\n",
       "      <td>1984.000000</td>\n",
       "      <td>3486.000000</td>\n",
       "      <td>3486.000000</td>\n",
       "      <td>3486.000000</td>\n",
       "      <td>3486.000000</td>\n",
       "      <td>3423.000000</td>\n",
       "      <td>...</td>\n",
       "      <td>3486.000000</td>\n",
       "      <td>3486.000000</td>\n",
       "      <td>3486.000000</td>\n",
       "      <td>3486.000000</td>\n",
       "      <td>3486.000000</td>\n",
       "      <td>3486.000000</td>\n",
       "      <td>3486.000000</td>\n",
       "      <td>3486.00000</td>\n",
       "      <td>3486.000000</td>\n",
       "      <td>3486.000000</td>\n",
       "    </tr>\n",
       "    <tr>\n",
       "      <th>mean</th>\n",
       "      <td>2010.000000</td>\n",
       "      <td>8.442957</td>\n",
       "      <td>9.218442</td>\n",
       "      <td>214.990964</td>\n",
       "      <td>6.602193</td>\n",
       "      <td>8.975160</td>\n",
       "      <td>75.381727</td>\n",
       "      <td>9.072712</td>\n",
       "      <td>108.331216</td>\n",
       "      <td>7.352308</td>\n",
       "      <td>...</td>\n",
       "      <td>0.036145</td>\n",
       "      <td>0.036145</td>\n",
       "      <td>0.132530</td>\n",
       "      <td>0.156627</td>\n",
       "      <td>0.114458</td>\n",
       "      <td>0.012048</td>\n",
       "      <td>0.024096</td>\n",
       "      <td>0.10241</td>\n",
       "      <td>0.271084</td>\n",
       "      <td>0.114458</td>\n",
       "    </tr>\n",
       "    <tr>\n",
       "      <th>std</th>\n",
       "      <td>6.056169</td>\n",
       "      <td>3.105136</td>\n",
       "      <td>2.380573</td>\n",
       "      <td>2130.057043</td>\n",
       "      <td>2.840456</td>\n",
       "      <td>2.607188</td>\n",
       "      <td>497.217838</td>\n",
       "      <td>2.412915</td>\n",
       "      <td>796.563634</td>\n",
       "      <td>2.570794</td>\n",
       "      <td>...</td>\n",
       "      <td>0.186677</td>\n",
       "      <td>0.186677</td>\n",
       "      <td>0.339115</td>\n",
       "      <td>0.363500</td>\n",
       "      <td>0.318412</td>\n",
       "      <td>0.109117</td>\n",
       "      <td>0.153370</td>\n",
       "      <td>0.30323</td>\n",
       "      <td>0.444583</td>\n",
       "      <td>0.318412</td>\n",
       "    </tr>\n",
       "    <tr>\n",
       "      <th>min</th>\n",
       "      <td>2000.000000</td>\n",
       "      <td>0.000000</td>\n",
       "      <td>0.000000</td>\n",
       "      <td>0.000000</td>\n",
       "      <td>0.000000</td>\n",
       "      <td>0.000000</td>\n",
       "      <td>0.000000</td>\n",
       "      <td>0.000000</td>\n",
       "      <td>0.000000</td>\n",
       "      <td>0.177500</td>\n",
       "      <td>...</td>\n",
       "      <td>0.000000</td>\n",
       "      <td>0.000000</td>\n",
       "      <td>0.000000</td>\n",
       "      <td>0.000000</td>\n",
       "      <td>0.000000</td>\n",
       "      <td>0.000000</td>\n",
       "      <td>0.000000</td>\n",
       "      <td>0.00000</td>\n",
       "      <td>0.000000</td>\n",
       "      <td>0.000000</td>\n",
       "    </tr>\n",
       "    <tr>\n",
       "      <th>25%</th>\n",
       "      <td>2005.000000</td>\n",
       "      <td>10.000000</td>\n",
       "      <td>10.000000</td>\n",
       "      <td>0.000000</td>\n",
       "      <td>5.000000</td>\n",
       "      <td>9.713830</td>\n",
       "      <td>0.000000</td>\n",
       "      <td>9.762162</td>\n",
       "      <td>0.000000</td>\n",
       "      <td>5.890000</td>\n",
       "      <td>...</td>\n",
       "      <td>0.000000</td>\n",
       "      <td>0.000000</td>\n",
       "      <td>0.000000</td>\n",
       "      <td>0.000000</td>\n",
       "      <td>0.000000</td>\n",
       "      <td>0.000000</td>\n",
       "      <td>0.000000</td>\n",
       "      <td>0.00000</td>\n",
       "      <td>0.000000</td>\n",
       "      <td>0.000000</td>\n",
       "    </tr>\n",
       "    <tr>\n",
       "      <th>50%</th>\n",
       "      <td>2010.000000</td>\n",
       "      <td>10.000000</td>\n",
       "      <td>10.000000</td>\n",
       "      <td>0.000000</td>\n",
       "      <td>7.500000</td>\n",
       "      <td>10.000000</td>\n",
       "      <td>0.000000</td>\n",
       "      <td>10.000000</td>\n",
       "      <td>0.000000</td>\n",
       "      <td>8.237500</td>\n",
       "      <td>...</td>\n",
       "      <td>0.000000</td>\n",
       "      <td>0.000000</td>\n",
       "      <td>0.000000</td>\n",
       "      <td>0.000000</td>\n",
       "      <td>0.000000</td>\n",
       "      <td>0.000000</td>\n",
       "      <td>0.000000</td>\n",
       "      <td>0.00000</td>\n",
       "      <td>0.000000</td>\n",
       "      <td>0.000000</td>\n",
       "    </tr>\n",
       "    <tr>\n",
       "      <th>75%</th>\n",
       "      <td>2015.000000</td>\n",
       "      <td>10.000000</td>\n",
       "      <td>10.000000</td>\n",
       "      <td>0.000000</td>\n",
       "      <td>10.000000</td>\n",
       "      <td>10.000000</td>\n",
       "      <td>3.000000</td>\n",
       "      <td>10.000000</td>\n",
       "      <td>6.000000</td>\n",
       "      <td>9.472500</td>\n",
       "      <td>...</td>\n",
       "      <td>0.000000</td>\n",
       "      <td>0.000000</td>\n",
       "      <td>0.000000</td>\n",
       "      <td>0.000000</td>\n",
       "      <td>0.000000</td>\n",
       "      <td>0.000000</td>\n",
       "      <td>0.000000</td>\n",
       "      <td>0.00000</td>\n",
       "      <td>1.000000</td>\n",
       "      <td>0.000000</td>\n",
       "    </tr>\n",
       "    <tr>\n",
       "      <th>max</th>\n",
       "      <td>2020.000000</td>\n",
       "      <td>10.000000</td>\n",
       "      <td>10.000000</td>\n",
       "      <td>69089.000000</td>\n",
       "      <td>10.000000</td>\n",
       "      <td>10.000000</td>\n",
       "      <td>13075.990000</td>\n",
       "      <td>10.000000</td>\n",
       "      <td>21894.000000</td>\n",
       "      <td>9.917500</td>\n",
       "      <td>...</td>\n",
       "      <td>1.000000</td>\n",
       "      <td>1.000000</td>\n",
       "      <td>1.000000</td>\n",
       "      <td>1.000000</td>\n",
       "      <td>1.000000</td>\n",
       "      <td>1.000000</td>\n",
       "      <td>1.000000</td>\n",
       "      <td>1.00000</td>\n",
       "      <td>1.000000</td>\n",
       "      <td>1.000000</td>\n",
       "    </tr>\n",
       "  </tbody>\n",
       "</table>\n",
       "<p>8 rows × 240 columns</p>\n",
       "</div>"
      ],
      "text/plain": [
       "              year  pf_ss_disappearances_disap  pf_ss_disappearances_violent  \\\n",
       "count  3486.000000                 3436.000000                   3486.000000   \n",
       "mean   2010.000000                    8.442957                      9.218442   \n",
       "std       6.056169                    3.105136                      2.380573   \n",
       "min    2000.000000                    0.000000                      0.000000   \n",
       "25%    2005.000000                   10.000000                     10.000000   \n",
       "50%    2010.000000                   10.000000                     10.000000   \n",
       "75%    2015.000000                   10.000000                     10.000000   \n",
       "max    2020.000000                   10.000000                     10.000000   \n",
       "\n",
       "       pf_ss_disappearances_violent_data  pf_ss_disappearances_organized  \\\n",
       "count                        3486.000000                     1984.000000   \n",
       "mean                          214.990964                        6.602193   \n",
       "std                          2130.057043                        2.840456   \n",
       "min                             0.000000                        0.000000   \n",
       "25%                             0.000000                        5.000000   \n",
       "50%                             0.000000                        7.500000   \n",
       "75%                             0.000000                       10.000000   \n",
       "max                         69089.000000                       10.000000   \n",
       "\n",
       "       pf_ss_disappearances_fatalities  pf_ss_disappearances_fatalities_data  \\\n",
       "count                      3486.000000                           3486.000000   \n",
       "mean                          8.975160                             75.381727   \n",
       "std                           2.607188                            497.217838   \n",
       "min                           0.000000                              0.000000   \n",
       "25%                           9.713830                              0.000000   \n",
       "50%                          10.000000                              0.000000   \n",
       "75%                          10.000000                              3.000000   \n",
       "max                          10.000000                          13075.990000   \n",
       "\n",
       "       pf_ss_disappearances_injuries  pf_ss_disappearances_injuries_data  \\\n",
       "count                    3486.000000                         3486.000000   \n",
       "mean                        9.072712                          108.331216   \n",
       "std                         2.412915                          796.563634   \n",
       "min                         0.000000                            0.000000   \n",
       "25%                         9.762162                            0.000000   \n",
       "50%                        10.000000                            0.000000   \n",
       "75%                        10.000000                            6.000000   \n",
       "max                        10.000000                        21894.000000   \n",
       "\n",
       "       pf_ss_killings  ...  region_Caucasus & Central Asia  region_East Asia  \\\n",
       "count     3423.000000  ...                     3486.000000       3486.000000   \n",
       "mean         7.352308  ...                        0.036145          0.036145   \n",
       "std          2.570794  ...                        0.186677          0.186677   \n",
       "min          0.177500  ...                        0.000000          0.000000   \n",
       "25%          5.890000  ...                        0.000000          0.000000   \n",
       "50%          8.237500  ...                        0.000000          0.000000   \n",
       "75%          9.472500  ...                        0.000000          0.000000   \n",
       "max          9.917500  ...                        1.000000          1.000000   \n",
       "\n",
       "       region_Eastern Europe  region_Latin America & the Caribbean  \\\n",
       "count            3486.000000                           3486.000000   \n",
       "mean                0.132530                              0.156627   \n",
       "std                 0.339115                              0.363500   \n",
       "min                 0.000000                              0.000000   \n",
       "25%                 0.000000                              0.000000   \n",
       "50%                 0.000000                              0.000000   \n",
       "75%                 0.000000                              0.000000   \n",
       "max                 1.000000                              1.000000   \n",
       "\n",
       "       region_Middle East & North Africa  region_North America  \\\n",
       "count                        3486.000000           3486.000000   \n",
       "mean                            0.114458              0.012048   \n",
       "std                             0.318412              0.109117   \n",
       "min                             0.000000              0.000000   \n",
       "25%                             0.000000              0.000000   \n",
       "50%                             0.000000              0.000000   \n",
       "75%                             0.000000              0.000000   \n",
       "max                             1.000000              1.000000   \n",
       "\n",
       "       region_Oceania  region_South Asia  region_Sub-Saharan Africa  \\\n",
       "count     3486.000000         3486.00000                3486.000000   \n",
       "mean         0.024096            0.10241                   0.271084   \n",
       "std          0.153370            0.30323                   0.444583   \n",
       "min          0.000000            0.00000                   0.000000   \n",
       "25%          0.000000            0.00000                   0.000000   \n",
       "50%          0.000000            0.00000                   0.000000   \n",
       "75%          0.000000            0.00000                   1.000000   \n",
       "max          1.000000            1.00000                   1.000000   \n",
       "\n",
       "       region_Western Europe  \n",
       "count            3486.000000  \n",
       "mean                0.114458  \n",
       "std                 0.318412  \n",
       "min                 0.000000  \n",
       "25%                 0.000000  \n",
       "50%                 0.000000  \n",
       "75%                 0.000000  \n",
       "max                 1.000000  \n",
       "\n",
       "[8 rows x 240 columns]"
      ]
     },
     "execution_count": 4,
     "metadata": {},
     "output_type": "execute_result"
    }
   ],
   "source": [
    "# Summary statistics\n",
    "df_encoded.describe()"
   ]
  },
  {
   "cell_type": "code",
   "execution_count": 5,
   "metadata": {},
   "outputs": [
    {
     "data": {
      "image/png": "[encoded data removed]",
      "text/plain": [
       "<Figure size 1200x600 with 1 Axes>"
      ]
     },
     "metadata": {},
     "output_type": "display_data"
    }
   ],
   "source": [
    "# Assuming you have a DataFrame named df_encoded\n",
    "missing_data = df_encoded.isnull()\n",
    "\n",
    "# Plot missing data heatmap\n",
    "plt.figure(figsize=(12, 6))\n",
    "sns.heatmap(missing_data, cbar=False, cmap=\"viridis\")\n",
    "plt.show()"
   ]
  },
  {
   "attachments": {},
   "cell_type": "markdown",
   "metadata": {},
   "source": [
    "### 2) Visualisations"
   ]
  },
  {
   "cell_type": "code",
   "execution_count": 8,
   "metadata": {},
   "outputs": [
    {
     "data": {
      "text/plain": [
       "array([2020, 2019, 2018, 2017, 2016, 2015, 2014, 2013, 2012, 2011, 2010,\n",
       "       2009, 2008, 2007, 2006, 2005, 2004, 2003, 2002, 2001, 2000])"
      ]
     },
     "execution_count": 8,
     "metadata": {},
     "output_type": "execute_result"
    }
   ],
   "source": [
    "df_encoded.year.unique()"
   ]
  },
  {
   "cell_type": "code",
   "execution_count": 6,
   "metadata": {},
   "outputs": [
    {
     "name": "stdout",
     "output_type": "stream",
     "text": [
      "Requirement already satisfied: nbformat in /Users/albertcortbanke/miniconda3/envs/msngdata/lib/python3.9/site-packages (5.8.0)\n",
      "Requirement already satisfied: jsonschema>=2.6 in /Users/albertcortbanke/miniconda3/envs/msngdata/lib/python3.9/site-packages (from nbformat) (4.17.3)\n",
      "Requirement already satisfied: jupyter-core in /Users/albertcortbanke/miniconda3/envs/msngdata/lib/python3.9/site-packages (from nbformat) (5.3.0)\n",
      "Requirement already satisfied: traitlets>=5.1 in /Users/albertcortbanke/miniconda3/envs/msngdata/lib/python3.9/site-packages (from nbformat) (5.9.0)\n",
      "Requirement already satisfied: fastjsonschema in /Users/albertcortbanke/miniconda3/envs/msngdata/lib/python3.9/site-packages (from nbformat) (2.16.3)\n",
      "Requirement already satisfied: pyrsistent!=0.17.0,!=0.17.1,!=0.17.2,>=0.14.0 in /Users/albertcortbanke/miniconda3/envs/msngdata/lib/python3.9/site-packages (from jsonschema>=2.6->nbformat) (0.19.3)\n",
      "Requirement already satisfied: attrs>=17.4.0 in /Users/albertcortbanke/miniconda3/envs/msngdata/lib/python3.9/site-packages (from jsonschema>=2.6->nbformat) (22.1.0)\n",
      "Requirement already satisfied: platformdirs>=2.5 in /Users/albertcortbanke/miniconda3/envs/msngdata/lib/python3.9/site-packages (from jupyter-core->nbformat) (3.2.0)\n",
      "Note: you may need to restart the kernel to use updated packages.\n"
     ]
    }
   ],
   "source": [
    "#%pip install -U nbformat"
   ]
  },
  {
   "cell_type": "code",
   "execution_count": 13,
   "metadata": {},
   "outputs": [
    {
     "data": {
      "application/vnd.plotly.v1+json": {
       "config": {
        "plotlyServerURL": "https://plot.ly"
       },
       "data": [
        {
         "marker": {
          "color": "blue"
         },
         "name": "Top 5",
         "text": [
          8.8,
          8.7,
          8.5,
          8.5,
          8.2
         ],
         "textposition": "auto",
         "type": "bar",
         "x": [
          "Hong Kong",
          "Singapore",
          "Switzerland",
          "New Zealand",
          "Denmark"
         ],
         "y": [
          8.823333333333332,
          8.703333333333333,
          8.47,
          8.46,
          8.176666666666668
         ]
        },
        {
         "marker": {
          "color": "red"
         },
         "name": "Bottom 5",
         "text": [
          4.8,
          4.8,
          4.6,
          3.8,
          3.2
         ],
         "textposition": "auto",
         "type": "bar",
         "x": [
          "Republic of the Congo",
          "Syrian Arab Republic",
          "Libya",
          "Sudan",
          "Venezuela"
         ],
         "y": [
          4.836666666666667,
          4.816666666666666,
          4.626666666666666,
          3.8366666666666664,
          3.1833333333333336
         ]
        }
       ],
       "layout": {
        "template": {
         "data": {
          "bar": [
           {
            "error_x": {
             "color": "#2a3f5f"
            },
            "error_y": {
             "color": "#2a3f5f"
            },
            "marker": {
             "line": {
              "color": "#E5ECF6",
              "width": 0.5
             },
             "pattern": {
              "fillmode": "overlay",
              "size": 10,
              "solidity": 0.2
             }
            },
            "type": "bar"
           }
          ],
          "barpolar": [
           {
            "marker": {
             "line": {
              "color": "#E5ECF6",
              "width": 0.5
             },
             "pattern": {
              "fillmode": "overlay",
              "size": 10,
              "solidity": 0.2
             }
            },
            "type": "barpolar"
           }
          ],
          "carpet": [
           {
            "aaxis": {
             "endlinecolor": "#2a3f5f",
             "gridcolor": "white",
             "linecolor": "white",
             "minorgridcolor": "white",
             "startlinecolor": "#2a3f5f"
            },
            "baxis": {
             "endlinecolor": "#2a3f5f",
             "gridcolor": "white",
             "linecolor": "white",
             "minorgridcolor": "white",
             "startlinecolor": "#2a3f5f"
            },
            "type": "carpet"
           }
          ],
          "choropleth": [
           {
            "colorbar": {
             "outlinewidth": 0,
             "ticks": ""
            },
            "type": "choropleth"
           }
          ],
          "contour": [
           {
            "colorbar": {
             "outlinewidth": 0,
             "ticks": ""
            },
            "colorscale": [
             [
              0,
              "#0d0887"
             ],
             [
              0.1111111111111111,
              "#46039f"
             ],
             [
              0.2222222222222222,
              "#7201a8"
             ],
             [
              0.3333333333333333,
              "#9c179e"
             ],
             [
              0.4444444444444444,
              "#bd3786"
             ],
             [
              0.5555555555555556,
              "#d8576b"
             ],
             [
              0.6666666666666666,
              "#ed7953"
             ],
             [
              0.7777777777777778,
              "#fb9f3a"
             ],
             [
              0.8888888888888888,
              "#fdca26"
             ],
             [
              1,
              "#f0f921"
             ]
            ],
            "type": "contour"
           }
          ],
          "contourcarpet": [
           {
            "colorbar": {
             "outlinewidth": 0,
             "ticks": ""
            },
            "type": "contourcarpet"
           }
          ],
          "heatmap": [
           {
            "colorbar": {
             "outlinewidth": 0,
             "ticks": ""
            },
            "colorscale": [
             [
              0,
              "#0d0887"
             ],
             [
              0.1111111111111111,
              "#46039f"
             ],
             [
              0.2222222222222222,
              "#7201a8"
             ],
             [
              0.3333333333333333,
              "#9c179e"
             ],
             [
              0.4444444444444444,
              "#bd3786"
             ],
             [
              0.5555555555555556,
              "#d8576b"
             ],
             [
              0.6666666666666666,
              "#ed7953"
             ],
             [
              0.7777777777777778,
              "#fb9f3a"
             ],
             [
              0.8888888888888888,
              "#fdca26"
             ],
             [
              1,
              "#f0f921"
             ]
            ],
            "type": "heatmap"
           }
          ],
          "heatmapgl": [
           {
            "colorbar": {
             "outlinewidth": 0,
             "ticks": ""
            },
            "colorscale": [
             [
              0,
              "#0d0887"
             ],
             [
              0.1111111111111111,
              "#46039f"
             ],
             [
              0.2222222222222222,
              "#7201a8"
             ],
             [
              0.3333333333333333,
              "#9c179e"
             ],
             [
              0.4444444444444444,
              "#bd3786"
             ],
             [
              0.5555555555555556,
              "#d8576b"
             ],
             [
              0.6666666666666666,
              "#ed7953"
             ],
             [
              0.7777777777777778,
              "#fb9f3a"
             ],
             [
              0.8888888888888888,
              "#fdca26"
             ],
             [
              1,
              "#f0f921"
             ]
            ],
            "type": "heatmapgl"
           }
          ],
          "histogram": [
           {
            "marker": {
             "pattern": {
              "fillmode": "overlay",
              "size": 10,
              "solidity": 0.2
             }
            },
            "type": "histogram"
           }
          ],
          "histogram2d": [
           {
            "colorbar": {
             "outlinewidth": 0,
             "ticks": ""
            },
            "colorscale": [
             [
              0,
              "#0d0887"
             ],
             [
              0.1111111111111111,
              "#46039f"
             ],
             [
              0.2222222222222222,
              "#7201a8"
             ],
             [
              0.3333333333333333,
              "#9c179e"
             ],
             [
              0.4444444444444444,
              "#bd3786"
             ],
             [
              0.5555555555555556,
              "#d8576b"
             ],
             [
              0.6666666666666666,
              "#ed7953"
             ],
             [
              0.7777777777777778,
              "#fb9f3a"
             ],
             [
              0.8888888888888888,
              "#fdca26"
             ],
             [
              1,
              "#f0f921"
             ]
            ],
            "type": "histogram2d"
           }
          ],
          "histogram2dcontour": [
           {
            "colorbar": {
             "outlinewidth": 0,
             "ticks": ""
            },
            "colorscale": [
             [
              0,
              "#0d0887"
             ],
             [
              0.1111111111111111,
              "#46039f"
             ],
             [
              0.2222222222222222,
              "#7201a8"
             ],
             [
              0.3333333333333333,
              "#9c179e"
             ],
             [
              0.4444444444444444,
              "#bd3786"
             ],
             [
              0.5555555555555556,
              "#d8576b"
             ],
             [
              0.6666666666666666,
              "#ed7953"
             ],
             [
              0.7777777777777778,
              "#fb9f3a"
             ],
             [
              0.8888888888888888,
              "#fdca26"
             ],
             [
              1,
              "#f0f921"
             ]
            ],
            "type": "histogram2dcontour"
           }
          ],
          "mesh3d": [
           {
            "colorbar": {
             "outlinewidth": 0,
             "ticks": ""
            },
            "type": "mesh3d"
           }
          ],
          "parcoords": [
           {
            "line": {
             "colorbar": {
              "outlinewidth": 0,
              "ticks": ""
             }
            },
            "type": "parcoords"
           }
          ],
          "pie": [
           {
            "automargin": true,
            "type": "pie"
           }
          ],
          "scatter": [
           {
            "fillpattern": {
             "fillmode": "overlay",
             "size": 10,
             "solidity": 0.2
            },
            "type": "scatter"
           }
          ],
          "scatter3d": [
           {
            "line": {
             "colorbar": {
              "outlinewidth": 0,
              "ticks": ""
             }
            },
            "marker": {
             "colorbar": {
              "outlinewidth": 0,
              "ticks": ""
             }
            },
            "type": "scatter3d"
           }
          ],
          "scattercarpet": [
           {
            "marker": {
             "colorbar": {
              "outlinewidth": 0,
              "ticks": ""
             }
            },
            "type": "scattercarpet"
           }
          ],
          "scattergeo": [
           {
            "marker": {
             "colorbar": {
              "outlinewidth": 0,
              "ticks": ""
             }
            },
            "type": "scattergeo"
           }
          ],
          "scattergl": [
           {
            "marker": {
             "colorbar": {
              "outlinewidth": 0,
              "ticks": ""
             }
            },
            "type": "scattergl"
           }
          ],
          "scattermapbox": [
           {
            "marker": {
             "colorbar": {
              "outlinewidth": 0,
              "ticks": ""
             }
            },
            "type": "scattermapbox"
           }
          ],
          "scatterpolar": [
           {
            "marker": {
             "colorbar": {
              "outlinewidth": 0,
              "ticks": ""
             }
            },
            "type": "scatterpolar"
           }
          ],
          "scatterpolargl": [
           {
            "marker": {
             "colorbar": {
              "outlinewidth": 0,
              "ticks": ""
             }
            },
            "type": "scatterpolargl"
           }
          ],
          "scatterternary": [
           {
            "marker": {
             "colorbar": {
              "outlinewidth": 0,
              "ticks": ""
             }
            },
            "type": "scatterternary"
           }
          ],
          "surface": [
           {
            "colorbar": {
             "outlinewidth": 0,
             "ticks": ""
            },
            "colorscale": [
             [
              0,
              "#0d0887"
             ],
             [
              0.1111111111111111,
              "#46039f"
             ],
             [
              0.2222222222222222,
              "#7201a8"
             ],
             [
              0.3333333333333333,
              "#9c179e"
             ],
             [
              0.4444444444444444,
              "#bd3786"
             ],
             [
              0.5555555555555556,
              "#d8576b"
             ],
             [
              0.6666666666666666,
              "#ed7953"
             ],
             [
              0.7777777777777778,
              "#fb9f3a"
             ],
             [
              0.8888888888888888,
              "#fdca26"
             ],
             [
              1,
              "#f0f921"
             ]
            ],
            "type": "surface"
           }
          ],
          "table": [
           {
            "cells": {
             "fill": {
              "color": "#EBF0F8"
             },
             "line": {
              "color": "white"
             }
            },
            "header": {
             "fill": {
              "color": "#C8D4E3"
             },
             "line": {
              "color": "white"
             }
            },
            "type": "table"
           }
          ]
         },
         "layout": {
          "annotationdefaults": {
           "arrowcolor": "#2a3f5f",
           "arrowhead": 0,
           "arrowwidth": 1
          },
          "autotypenumbers": "strict",
          "coloraxis": {
           "colorbar": {
            "outlinewidth": 0,
            "ticks": ""
           }
          },
          "colorscale": {
           "diverging": [
            [
             0,
             "#8e0152"
            ],
            [
             0.1,
             "#c51b7d"
            ],
            [
             0.2,
             "#de77ae"
            ],
            [
             0.3,
             "#f1b6da"
            ],
            [
             0.4,
             "#fde0ef"
            ],
            [
             0.5,
             "#f7f7f7"
            ],
            [
             0.6,
             "#e6f5d0"
            ],
            [
             0.7,
             "#b8e186"
            ],
            [
             0.8,
             "#7fbc41"
            ],
            [
             0.9,
             "#4d9221"
            ],
            [
             1,
             "#276419"
            ]
           ],
           "sequential": [
            [
             0,
             "#0d0887"
            ],
            [
             0.1111111111111111,
             "#46039f"
            ],
            [
             0.2222222222222222,
             "#7201a8"
            ],
            [
             0.3333333333333333,
             "#9c179e"
            ],
            [
             0.4444444444444444,
             "#bd3786"
            ],
            [
             0.5555555555555556,
             "#d8576b"
            ],
            [
             0.6666666666666666,
             "#ed7953"
            ],
            [
             0.7777777777777778,
             "#fb9f3a"
            ],
            [
             0.8888888888888888,
             "#fdca26"
            ],
            [
             1,
             "#f0f921"
            ]
           ],
           "sequentialminus": [
            [
             0,
             "#0d0887"
            ],
            [
             0.1111111111111111,
             "#46039f"
            ],
            [
             0.2222222222222222,
             "#7201a8"
            ],
            [
             0.3333333333333333,
             "#9c179e"
            ],
            [
             0.4444444444444444,
             "#bd3786"
            ],
            [
             0.5555555555555556,
             "#d8576b"
            ],
            [
             0.6666666666666666,
             "#ed7953"
            ],
            [
             0.7777777777777778,
             "#fb9f3a"
            ],
            [
             0.8888888888888888,
             "#fdca26"
            ],
            [
             1,
             "#f0f921"
            ]
           ]
          },
          "colorway": [
           "#636efa",
           "#EF553B",
           "#00cc96",
           "#ab63fa",
           "#FFA15A",
           "#19d3f3",
           "#FF6692",
           "#B6E880",
           "#FF97FF",
           "#FECB52"
          ],
          "font": {
           "color": "#2a3f5f"
          },
          "geo": {
           "bgcolor": "white",
           "lakecolor": "white",
           "landcolor": "#E5ECF6",
           "showlakes": true,
           "showland": true,
           "subunitcolor": "white"
          },
          "hoverlabel": {
           "align": "left"
          },
          "hovermode": "closest",
          "mapbox": {
           "style": "light"
          },
          "paper_bgcolor": "white",
          "plot_bgcolor": "#E5ECF6",
          "polar": {
           "angularaxis": {
            "gridcolor": "white",
            "linecolor": "white",
            "ticks": ""
           },
           "bgcolor": "#E5ECF6",
           "radialaxis": {
            "gridcolor": "white",
            "linecolor": "white",
            "ticks": ""
           }
          },
          "scene": {
           "xaxis": {
            "backgroundcolor": "#E5ECF6",
            "gridcolor": "white",
            "gridwidth": 2,
            "linecolor": "white",
            "showbackground": true,
            "ticks": "",
            "zerolinecolor": "white"
           },
           "yaxis": {
            "backgroundcolor": "#E5ECF6",
            "gridcolor": "white",
            "gridwidth": 2,
            "linecolor": "white",
            "showbackground": true,
            "ticks": "",
            "zerolinecolor": "white"
           },
           "zaxis": {
            "backgroundcolor": "#E5ECF6",
            "gridcolor": "white",
            "gridwidth": 2,
            "linecolor": "white",
            "showbackground": true,
            "ticks": "",
            "zerolinecolor": "white"
           }
          },
          "shapedefaults": {
           "line": {
            "color": "#2a3f5f"
           }
          },
          "ternary": {
           "aaxis": {
            "gridcolor": "white",
            "linecolor": "white",
            "ticks": ""
           },
           "baxis": {
            "gridcolor": "white",
            "linecolor": "white",
            "ticks": ""
           },
           "bgcolor": "#E5ECF6",
           "caxis": {
            "gridcolor": "white",
            "linecolor": "white",
            "ticks": ""
           }
          },
          "title": {
           "x": 0.05
          },
          "xaxis": {
           "automargin": true,
           "gridcolor": "white",
           "linecolor": "white",
           "ticks": "",
           "title": {
            "standoff": 15
           },
           "zerolinecolor": "white",
           "zerolinewidth": 2
          },
          "yaxis": {
           "automargin": true,
           "gridcolor": "white",
           "linecolor": "white",
           "ticks": "",
           "title": {
            "standoff": 15
           },
           "zerolinecolor": "white",
           "zerolinewidth": 2
          }
         }
        },
        "title": {
         "text": "Top 5 and Bottom 5 Countries by EF Score (2018-2020)"
        },
        "xaxis": {
         "title": {
          "text": "Countries"
         }
        },
        "yaxis": {
         "title": {
          "text": "EF Score"
         }
        }
       }
      }
     },
     "metadata": {},
     "output_type": "display_data"
    }
   ],
   "source": [
    "\n",
    "# Filter the data frame for the years 2018, 2019, and 2020\n",
    "filtered_data = df_encoded[df_encoded['year'].isin([2018, 2019, 2020])]\n",
    "\n",
    "# Aggregate the data by countries, taking the mean of the ef_score\n",
    "aggregated_data = filtered_data.groupby(['countries'])['ef_score'].mean().reset_index()\n",
    "\n",
    "# Sort the aggregated data by ef_score in descending order\n",
    "aggregated_data = aggregated_data.sort_values(by='ef_score', ascending=False)\n",
    "\n",
    "# Select the top 5 and bottom 5 countries\n",
    "top_5 = aggregated_data.head(5)\n",
    "bottom_5 = aggregated_data.tail(5)\n",
    "\n",
    "# Concatenate the top 5 and bottom 5 countries\n",
    "selected_data = pd.concat([top_5, bottom_5]).reset_index(drop=True)\n",
    "\n",
    "# Create a bar chart with two different colors for the top 5 and bottom 5 countries\n",
    "fig = go.Figure()\n",
    "\n",
    "fig.add_trace(go.Bar(x=top_5['countries'], y=top_5['ef_score'], text=top_5['ef_score'].round(1), name='Top 5', marker_color='blue'))\n",
    "fig.add_trace(go.Bar(x=bottom_5['countries'], y=bottom_5['ef_score'], text=bottom_5['ef_score'].round(1), name='Bottom 5', marker_color='red'))\n",
    "\n",
    "fig.update_traces(textposition='auto')\n",
    "\n",
    "fig.update_layout(title='Top 5 and Bottom 5 Countries by EF Score (2018-2020)', xaxis_title='Countries', yaxis_title='EF Score')\n",
    "\n",
    "fig.show()"
   ]
  }
 ],
 "metadata": {
  "kernelspec": {
   "display_name": "msngdata",
   "language": "python",
   "name": "python3"
  },
  "language_info": {
   "codemirror_mode": {
    "name": "ipython",
    "version": 3
   },
   "file_extension": ".py",
   "mimetype": "text/x-python",
   "name": "python",
   "nbconvert_exporter": "python",
   "pygments_lexer": "ipython3",
   "version": "3.9.16"
  },
  "orig_nbformat": 4
 },
 "nbformat": 4,
 "nbformat_minor": 2
}

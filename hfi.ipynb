{
 "cells": [
  {
   "cell_type": "code",
   "execution_count": 1,
   "metadata": {},
   "outputs": [
    {
     "name": "stdout",
     "output_type": "stream",
     "text": [
      "Requirement already satisfied: missingno in /Users/albertcortbanke/miniconda3/envs/msngdata/lib/python3.9/site-packages (0.4.2)\n",
      "Requirement already satisfied: numpy in /Users/albertcortbanke/miniconda3/envs/msngdata/lib/python3.9/site-packages (from missingno) (1.23.5)\n",
      "Requirement already satisfied: matplotlib in /Users/albertcortbanke/miniconda3/envs/msngdata/lib/python3.9/site-packages (from missingno) (3.7.1)\n",
      "Requirement already satisfied: seaborn in /Users/albertcortbanke/miniconda3/envs/msngdata/lib/python3.9/site-packages (from missingno) (0.12.2)\n",
      "Requirement already satisfied: scipy in /Users/albertcortbanke/miniconda3/envs/msngdata/lib/python3.9/site-packages (from missingno) (1.10.1)\n",
      "Requirement already satisfied: importlib-resources>=3.2.0 in /Users/albertcortbanke/miniconda3/envs/msngdata/lib/python3.9/site-packages (from matplotlib->missingno) (5.2.0)\n",
      "Requirement already satisfied: contourpy>=1.0.1 in /Users/albertcortbanke/miniconda3/envs/msngdata/lib/python3.9/site-packages (from matplotlib->missingno) (1.0.5)\n",
      "Requirement already satisfied: packaging>=20.0 in /Users/albertcortbanke/miniconda3/envs/msngdata/lib/python3.9/site-packages (from matplotlib->missingno) (23.0)\n",
      "Requirement already satisfied: cycler>=0.10 in /Users/albertcortbanke/miniconda3/envs/msngdata/lib/python3.9/site-packages (from matplotlib->missingno) (0.11.0)\n",
      "Requirement already satisfied: kiwisolver>=1.0.1 in /Users/albertcortbanke/miniconda3/envs/msngdata/lib/python3.9/site-packages (from matplotlib->missingno) (1.4.4)\n",
      "Requirement already satisfied: pillow>=6.2.0 in /Users/albertcortbanke/miniconda3/envs/msngdata/lib/python3.9/site-packages (from matplotlib->missingno) (9.4.0)\n",
      "Requirement already satisfied: fonttools>=4.22.0 in /Users/albertcortbanke/miniconda3/envs/msngdata/lib/python3.9/site-packages (from matplotlib->missingno) (4.25.0)\n",
      "Requirement already satisfied: python-dateutil>=2.7 in /Users/albertcortbanke/miniconda3/envs/msngdata/lib/python3.9/site-packages (from matplotlib->missingno) (2.8.2)\n",
      "Requirement already satisfied: pyparsing>=2.3.1 in /Users/albertcortbanke/miniconda3/envs/msngdata/lib/python3.9/site-packages (from matplotlib->missingno) (3.0.9)\n",
      "Requirement already satisfied: pandas>=0.25 in /Users/albertcortbanke/miniconda3/envs/msngdata/lib/python3.9/site-packages (from seaborn->missingno) (1.5.3)\n",
      "Requirement already satisfied: zipp>=3.1.0 in /Users/albertcortbanke/miniconda3/envs/msngdata/lib/python3.9/site-packages (from importlib-resources>=3.2.0->matplotlib->missingno) (3.11.0)\n",
      "Requirement already satisfied: pytz>=2020.1 in /Users/albertcortbanke/miniconda3/envs/msngdata/lib/python3.9/site-packages (from pandas>=0.25->seaborn->missingno) (2022.7)\n",
      "Requirement already satisfied: six>=1.5 in /Users/albertcortbanke/miniconda3/envs/msngdata/lib/python3.9/site-packages (from python-dateutil>=2.7->matplotlib->missingno) (1.16.0)\n",
      "Note: you may need to restart the kernel to use updated packages.\n"
     ]
    }
   ],
   "source": [
    "%pip install missingno"
   ]
  },
  {
   "cell_type": "code",
   "execution_count": 2,
   "metadata": {},
   "outputs": [],
   "source": [
    "# Read libraries\n",
    "\n",
    "# Data wrangling\n",
    "import pandas as pd\n",
    "import numpy as np\n",
    "import re\n",
    "\n",
    "# Visualization \n",
    "import missingno as msno\n",
    "import matplotlib.pyplot as plt\n",
    "import plotly.express as px\n",
    "import plotly.graph_objects as go\n",
    "\n",
    "# Machine learning \n",
    "from sklearn.cluster import KMeans\n",
    "from sklearn.preprocessing import StandardScaler"
   ]
  }
 ],
 "metadata": {
  "kernelspec": {
   "display_name": "msngdata",
   "language": "python",
   "name": "python3"
  },
  "language_info": {
   "codemirror_mode": {
    "name": "ipython",
    "version": 3
   },
   "file_extension": ".py",
   "mimetype": "text/x-python",
   "name": "python",
   "nbconvert_exporter": "python",
   "pygments_lexer": "ipython3",
   "version": "3.9.16"
  },
  "orig_nbformat": 4
 },
 "nbformat": 4,
 "nbformat_minor": 2
}

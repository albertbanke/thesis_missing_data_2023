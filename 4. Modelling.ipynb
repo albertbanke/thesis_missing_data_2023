{
 "cells": [
  {
   "cell_type": "code",
   "execution_count": 1,
   "metadata": {},
   "outputs": [
    {
     "name": "stderr",
     "output_type": "stream",
     "text": [
      "/Users/albertcortbanke/miniconda3/envs/msngdata/lib/python3.9/site-packages/libpysal/cg/alpha_shapes.py:39: NumbaDeprecationWarning: The 'nopython' keyword argument was not supplied to the 'numba.jit' decorator. The implicit default value for this argument is currently False, but it will be changed to True in Numba 0.59.0. See https://numba.readthedocs.io/en/stable/reference/deprecation.html#deprecation-of-object-mode-fall-back-behaviour-when-using-jit for details.\n",
      "  def nb_dist(x, y):\n",
      "/Users/albertcortbanke/miniconda3/envs/msngdata/lib/python3.9/site-packages/libpysal/cg/alpha_shapes.py:165: NumbaDeprecationWarning: The 'nopython' keyword argument was not supplied to the 'numba.jit' decorator. The implicit default value for this argument is currently False, but it will be changed to True in Numba 0.59.0. See https://numba.readthedocs.io/en/stable/reference/deprecation.html#deprecation-of-object-mode-fall-back-behaviour-when-using-jit for details.\n",
      "  def get_faces(triangle):\n",
      "/Users/albertcortbanke/miniconda3/envs/msngdata/lib/python3.9/site-packages/libpysal/cg/alpha_shapes.py:199: NumbaDeprecationWarning: The 'nopython' keyword argument was not supplied to the 'numba.jit' decorator. The implicit default value for this argument is currently False, but it will be changed to True in Numba 0.59.0. See https://numba.readthedocs.io/en/stable/reference/deprecation.html#deprecation-of-object-mode-fall-back-behaviour-when-using-jit for details.\n",
      "  def build_faces(faces, triangles_is, num_triangles, num_faces_single):\n",
      "/Users/albertcortbanke/miniconda3/envs/msngdata/lib/python3.9/site-packages/libpysal/cg/alpha_shapes.py:261: NumbaDeprecationWarning: The 'nopython' keyword argument was not supplied to the 'numba.jit' decorator. The implicit default value for this argument is currently False, but it will be changed to True in Numba 0.59.0. See https://numba.readthedocs.io/en/stable/reference/deprecation.html#deprecation-of-object-mode-fall-back-behaviour-when-using-jit for details.\n",
      "  def nb_mask_faces(mask, faces):\n"
     ]
    }
   ],
   "source": [
    "# Read libraries\n",
    "\n",
    "# Data wrangling\n",
    "import pandas as pd\n",
    "import numpy as np\n",
    "import re\n",
    "from shapely import wkt\n",
    "import fiona\n",
    "\n",
    "# Visualization \n",
    "import missingno as msno\n",
    "import matplotlib\n",
    "import mapclassify\n",
    "import matplotlib.pyplot as plt\n",
    "import plotly.express as px\n",
    "import plotly.subplots as sp\n",
    "import plotly.graph_objects as go\n",
    "import seaborn as sns\n",
    "import geopandas as gpd\n",
    "\n",
    "# Geostatistics\n",
    "from mgwr.gwr import GWR\n",
    "from mgwr.sel_bw import Sel_BW\n",
    "import libpysal as ps\n",
    "import matplotlib.pyplot as plt\n",
    "import seaborn as sns\n",
    "from pysal.lib import weights\n",
    "from pysal.model import spreg\n",
    "import statsmodels.api as sm\n",
    "from statsmodels.formula.api import ols\n",
    "from statsmodels.compat import lzip\n",
    "from esda.moran import Moran_Local\n",
    "from splot.esda import lisa_cluster\n",
    "from pysal.lib import weights\n",
    "from splot.libpysal import plot_spatial_weights\n",
    "from spreg import OLS\n",
    "from spreg import MoranRes\n",
    "from spreg import ML_Lag\n",
    "from spreg import ML_Error\n",
    "\n",
    "# Machine learning \n",
    "from sklearn.model_selection import train_test_split\n",
    "from sklearn.preprocessing import StandardScaler\n",
    "from sklearn.model_selection import TimeSeriesSplit\n",
    "from sklearn.linear_model import LogisticRegression\n",
    "from sklearn.ensemble import RandomForestClassifier, GradientBoostingClassifier\n",
    "from sklearn.svm import SVC\n",
    "from sklearn.metrics import mean_squared_error\n",
    "from sklearn.linear_model import LinearRegression\n",
    "from sklearn.feature_selection import RFE\n",
    "from sklearn.feature_selection import mutual_info_regression\n",
    "from sklearn.neural_network import MLPClassifier\n",
    "from sklearn.metrics import classification_report, accuracy_score\n",
    "from sklearn.model_selection import GridSearchCV\n",
    "import xgboost as xgb\n",
    "from xgboost import XGBClassifier\n",
    "from mlxtend.feature_selection import ExhaustiveFeatureSelector as EFS\n",
    "from sklearn.ensemble import RandomForestRegressor\n",
    "\n",
    "import warnings\n",
    "warnings.filterwarnings('ignore')"
   ]
  },
  {
   "cell_type": "code",
   "execution_count": 2,
   "metadata": {},
   "outputs": [],
   "source": [
    "# Read the GeoParquet file without one-hot sampling\n",
    "gdf_no_oh = gpd.read_parquet('gdf_no_ohe.parquet')"
   ]
  },
  {
   "cell_type": "code",
   "execution_count": 3,
   "metadata": {},
   "outputs": [],
   "source": [
    "gdf = gdf_no_oh"
   ]
  },
  {
   "attachments": {},
   "cell_type": "markdown",
   "metadata": {},
   "source": [
    "## Feature scaling"
   ]
  },
  {
   "attachments": {},
   "cell_type": "markdown",
   "metadata": {},
   "source": [
    "Feature scaling is a method used to standardize the range of independent variables or features of data. In data processing, it is also known as data normalization and is generally performed during the data preprocessing step.\n",
    "\n",
    "Note: Before doing feature scaling, make sure to split your data into train and test sets, to avoid data leakage. Data leakage can happen when information from outside your training dataset is used to create the model. This can cause the model to overestimate its accuracy."
   ]
  },
  {
   "attachments": {},
   "cell_type": "markdown",
   "metadata": {},
   "source": [
    "First, let's do a **Train-Test Split** with respect to the temporal data nature:"
   ]
  },
  {
   "cell_type": "code",
   "execution_count": 4,
   "metadata": {},
   "outputs": [],
   "source": [
    "# Sort the data by year\n",
    "gdf = gdf.sort_values('year')\n",
    "\n",
    "# Create the X and y variables\n",
    "X = gdf.drop(['ef_score', 'hf_score', 'pf_expression_bti', 'pf_rol_civil'], axis=1)  # Features\n",
    "y = gdf[['ef_score', 'hf_score', 'pf_expression_bti', 'pf_rol_civil']]  # Targets\n",
    "\n",
    "# Calculate the index at which to split the data\n",
    "split_index = int(len(X) * 0.7)\n",
    "\n",
    "# Perform a chronological train-test split\n",
    "X_train, X_test = X[:split_index], X[split_index:]\n",
    "y_train, y_test = y[:split_index], y[split_index:]\n",
    "\n",
    "# Important to scale on training and test seperately to avoid data leakage "
   ]
  },
  {
   "cell_type": "code",
   "execution_count": 5,
   "metadata": {},
   "outputs": [
    {
     "data": {
      "text/html": [
       "<div>\n",
       "<style scoped>\n",
       "    .dataframe tbody tr th:only-of-type {\n",
       "        vertical-align: middle;\n",
       "    }\n",
       "\n",
       "    .dataframe tbody tr th {\n",
       "        vertical-align: top;\n",
       "    }\n",
       "\n",
       "    .dataframe thead th {\n",
       "        text-align: right;\n",
       "    }\n",
       "</style>\n",
       "<table border=\"1\" class=\"dataframe\">\n",
       "  <thead>\n",
       "    <tr style=\"text-align: right;\">\n",
       "      <th></th>\n",
       "      <th>year</th>\n",
       "      <th>countries</th>\n",
       "      <th>region</th>\n",
       "      <th>pf_ss_disappearances_disap</th>\n",
       "      <th>pf_ss_disappearances_violent</th>\n",
       "      <th>pf_ss_disappearances_violent_data</th>\n",
       "      <th>pf_ss_disappearances_organized</th>\n",
       "      <th>pf_ss_disappearances_fatalities</th>\n",
       "      <th>pf_ss_disappearances_fatalities_data</th>\n",
       "      <th>pf_ss_disappearances_injuries</th>\n",
       "      <th>...</th>\n",
       "      <th>ef_regulation_business_burden</th>\n",
       "      <th>ef_regulation_business_start</th>\n",
       "      <th>ef_regulation_business_impartial</th>\n",
       "      <th>ef_regulation_business_licensing</th>\n",
       "      <th>ef_regulation_business_compliance</th>\n",
       "      <th>ef_regulation_business</th>\n",
       "      <th>ef_regulation</th>\n",
       "      <th>country_code</th>\n",
       "      <th>geometry</th>\n",
       "      <th>globalNorth</th>\n",
       "    </tr>\n",
       "  </thead>\n",
       "  <tbody>\n",
       "    <tr>\n",
       "      <th>1151</th>\n",
       "      <td>2014.0</td>\n",
       "      <td>Uganda</td>\n",
       "      <td>Sub-Saharan Africa</td>\n",
       "      <td>10.0</td>\n",
       "      <td>0.000000</td>\n",
       "      <td>864.0</td>\n",
       "      <td>5.0</td>\n",
       "      <td>10.000000</td>\n",
       "      <td>0.0</td>\n",
       "      <td>10.000000</td>\n",
       "      <td>...</td>\n",
       "      <td>3.555556</td>\n",
       "      <td>8.718526</td>\n",
       "      <td>5.2150</td>\n",
       "      <td>8.308705</td>\n",
       "      <td>7.657251</td>\n",
       "      <td>6.330298</td>\n",
       "      <td>8.137080</td>\n",
       "      <td>UGA</td>\n",
       "      <td>POLYGON ((33.92110 -1.00194, 33.92027 -1.00111...</td>\n",
       "      <td>0.0</td>\n",
       "    </tr>\n",
       "    <tr>\n",
       "      <th>1150</th>\n",
       "      <td>2014.0</td>\n",
       "      <td>Turkey</td>\n",
       "      <td>Middle East &amp; North Africa</td>\n",
       "      <td>5.0</td>\n",
       "      <td>10.000000</td>\n",
       "      <td>0.0</td>\n",
       "      <td>5.0</td>\n",
       "      <td>9.174996</td>\n",
       "      <td>38.0</td>\n",
       "      <td>9.056461</td>\n",
       "      <td>...</td>\n",
       "      <td>6.666667</td>\n",
       "      <td>9.549438</td>\n",
       "      <td>3.6500</td>\n",
       "      <td>9.233155</td>\n",
       "      <td>7.466692</td>\n",
       "      <td>6.780473</td>\n",
       "      <td>6.557095</td>\n",
       "      <td>TUR</td>\n",
       "      <td>MULTIPOLYGON (((25.82444 40.10026, 25.73167 40...</td>\n",
       "      <td>1.0</td>\n",
       "    </tr>\n",
       "    <tr>\n",
       "      <th>1149</th>\n",
       "      <td>2014.0</td>\n",
       "      <td>Tunisia</td>\n",
       "      <td>Middle East &amp; North Africa</td>\n",
       "      <td>10.0</td>\n",
       "      <td>10.000000</td>\n",
       "      <td>0.0</td>\n",
       "      <td>5.0</td>\n",
       "      <td>3.483083</td>\n",
       "      <td>43.0</td>\n",
       "      <td>4.795772</td>\n",
       "      <td>...</td>\n",
       "      <td>5.111111</td>\n",
       "      <td>9.606851</td>\n",
       "      <td>5.4100</td>\n",
       "      <td>9.398287</td>\n",
       "      <td>8.385857</td>\n",
       "      <td>6.950506</td>\n",
       "      <td>6.885396</td>\n",
       "      <td>TUN</td>\n",
       "      <td>MULTIPOLYGON (((10.99361 33.75000, 10.93778 33...</td>\n",
       "      <td>0.0</td>\n",
       "    </tr>\n",
       "    <tr>\n",
       "      <th>1148</th>\n",
       "      <td>2014.0</td>\n",
       "      <td>Trinidad and Tobago</td>\n",
       "      <td>Latin America &amp; the Caribbean</td>\n",
       "      <td>10.0</td>\n",
       "      <td>10.000000</td>\n",
       "      <td>0.0</td>\n",
       "      <td>7.5</td>\n",
       "      <td>10.000000</td>\n",
       "      <td>0.0</td>\n",
       "      <td>10.000000</td>\n",
       "      <td>...</td>\n",
       "      <td>6.666667</td>\n",
       "      <td>9.624457</td>\n",
       "      <td>6.0350</td>\n",
       "      <td>6.792369</td>\n",
       "      <td>7.646041</td>\n",
       "      <td>6.779593</td>\n",
       "      <td>7.405782</td>\n",
       "      <td>TTO</td>\n",
       "      <td>MULTIPOLYGON (((-60.92306 10.79722, -60.94445 ...</td>\n",
       "      <td>0.0</td>\n",
       "    </tr>\n",
       "    <tr>\n",
       "      <th>1147</th>\n",
       "      <td>2014.0</td>\n",
       "      <td>Togo</td>\n",
       "      <td>Sub-Saharan Africa</td>\n",
       "      <td>10.0</td>\n",
       "      <td>10.000000</td>\n",
       "      <td>0.0</td>\n",
       "      <td>7.5</td>\n",
       "      <td>10.000000</td>\n",
       "      <td>0.0</td>\n",
       "      <td>10.000000</td>\n",
       "      <td>...</td>\n",
       "      <td>1.555556</td>\n",
       "      <td>8.748823</td>\n",
       "      <td>4.0625</td>\n",
       "      <td>8.201228</td>\n",
       "      <td>6.973482</td>\n",
       "      <td>5.908318</td>\n",
       "      <td>5.359383</td>\n",
       "      <td>TGO</td>\n",
       "      <td>POLYGON ((0.91797 10.99640, 0.89056 10.91111, ...</td>\n",
       "      <td>0.0</td>\n",
       "    </tr>\n",
       "    <tr>\n",
       "      <th>...</th>\n",
       "      <td>...</td>\n",
       "      <td>...</td>\n",
       "      <td>...</td>\n",
       "      <td>...</td>\n",
       "      <td>...</td>\n",
       "      <td>...</td>\n",
       "      <td>...</td>\n",
       "      <td>...</td>\n",
       "      <td>...</td>\n",
       "      <td>...</td>\n",
       "      <td>...</td>\n",
       "      <td>...</td>\n",
       "      <td>...</td>\n",
       "      <td>...</td>\n",
       "      <td>...</td>\n",
       "      <td>...</td>\n",
       "      <td>...</td>\n",
       "      <td>...</td>\n",
       "      <td>...</td>\n",
       "      <td>...</td>\n",
       "      <td>...</td>\n",
       "    </tr>\n",
       "    <tr>\n",
       "      <th>108</th>\n",
       "      <td>2020.0</td>\n",
       "      <td>Netherlands</td>\n",
       "      <td>Western Europe</td>\n",
       "      <td>10.0</td>\n",
       "      <td>10.000000</td>\n",
       "      <td>0.0</td>\n",
       "      <td>10.0</td>\n",
       "      <td>9.613328</td>\n",
       "      <td>4.0</td>\n",
       "      <td>9.585069</td>\n",
       "      <td>...</td>\n",
       "      <td>6.000000</td>\n",
       "      <td>9.845924</td>\n",
       "      <td>8.7550</td>\n",
       "      <td>8.286935</td>\n",
       "      <td>8.666090</td>\n",
       "      <td>7.869562</td>\n",
       "      <td>7.777744</td>\n",
       "      <td>NLD</td>\n",
       "      <td>MULTIPOLYGON (((4.23890 51.35043, 4.22166 51.3...</td>\n",
       "      <td>1.0</td>\n",
       "    </tr>\n",
       "    <tr>\n",
       "      <th>107</th>\n",
       "      <td>2020.0</td>\n",
       "      <td>Nepal</td>\n",
       "      <td>South Asia</td>\n",
       "      <td>10.0</td>\n",
       "      <td>10.000000</td>\n",
       "      <td>0.0</td>\n",
       "      <td>7.5</td>\n",
       "      <td>9.589745</td>\n",
       "      <td>7.0</td>\n",
       "      <td>9.339644</td>\n",
       "      <td>...</td>\n",
       "      <td>6.888889</td>\n",
       "      <td>9.067438</td>\n",
       "      <td>6.1450</td>\n",
       "      <td>8.979394</td>\n",
       "      <td>5.774084</td>\n",
       "      <td>6.733793</td>\n",
       "      <td>7.339317</td>\n",
       "      <td>NPL</td>\n",
       "      <td>POLYGON ((88.14279 27.86605, 88.15248 27.86416...</td>\n",
       "      <td>0.0</td>\n",
       "    </tr>\n",
       "    <tr>\n",
       "      <th>106</th>\n",
       "      <td>2020.0</td>\n",
       "      <td>Namibia</td>\n",
       "      <td>Sub-Saharan Africa</td>\n",
       "      <td>10.0</td>\n",
       "      <td>10.000000</td>\n",
       "      <td>0.0</td>\n",
       "      <td>7.5</td>\n",
       "      <td>10.000000</td>\n",
       "      <td>0.0</td>\n",
       "      <td>10.000000</td>\n",
       "      <td>...</td>\n",
       "      <td>4.222222</td>\n",
       "      <td>8.177618</td>\n",
       "      <td>8.9525</td>\n",
       "      <td>8.306145</td>\n",
       "      <td>6.614783</td>\n",
       "      <td>6.846120</td>\n",
       "      <td>7.629787</td>\n",
       "      <td>NAM</td>\n",
       "      <td>POLYGON ((23.47611 -17.62584, 23.82083 -17.560...</td>\n",
       "      <td>0.0</td>\n",
       "    </tr>\n",
       "    <tr>\n",
       "      <th>104</th>\n",
       "      <td>2020.0</td>\n",
       "      <td>Mozambique</td>\n",
       "      <td>Sub-Saharan Africa</td>\n",
       "      <td>10.0</td>\n",
       "      <td>0.678979</td>\n",
       "      <td>924.0</td>\n",
       "      <td>5.0</td>\n",
       "      <td>0.000000</td>\n",
       "      <td>333.0</td>\n",
       "      <td>6.770798</td>\n",
       "      <td>...</td>\n",
       "      <td>3.777778</td>\n",
       "      <td>8.332792</td>\n",
       "      <td>3.7375</td>\n",
       "      <td>8.984100</td>\n",
       "      <td>7.758135</td>\n",
       "      <td>5.982076</td>\n",
       "      <td>6.229162</td>\n",
       "      <td>MOZ</td>\n",
       "      <td>POLYGON ((32.89043 -26.84714, 32.76778 -26.851...</td>\n",
       "      <td>0.0</td>\n",
       "    </tr>\n",
       "    <tr>\n",
       "      <th>0</th>\n",
       "      <td>2020.0</td>\n",
       "      <td>Albania</td>\n",
       "      <td>Eastern Europe</td>\n",
       "      <td>10.0</td>\n",
       "      <td>10.000000</td>\n",
       "      <td>0.0</td>\n",
       "      <td>7.5</td>\n",
       "      <td>10.000000</td>\n",
       "      <td>0.0</td>\n",
       "      <td>10.000000</td>\n",
       "      <td>...</td>\n",
       "      <td>6.000000</td>\n",
       "      <td>9.742477</td>\n",
       "      <td>5.9975</td>\n",
       "      <td>5.621940</td>\n",
       "      <td>7.175250</td>\n",
       "      <td>6.698118</td>\n",
       "      <td>7.112958</td>\n",
       "      <td>ALB</td>\n",
       "      <td>POLYGON ((20.07142 42.56091, 20.10208 42.53347...</td>\n",
       "      <td>1.0</td>\n",
       "    </tr>\n",
       "  </tbody>\n",
       "</table>\n",
       "<p>1046 rows × 69 columns</p>\n",
       "</div>"
      ],
      "text/plain": [
       "        year            countries                         region  \\\n",
       "1151  2014.0               Uganda             Sub-Saharan Africa   \n",
       "1150  2014.0               Turkey     Middle East & North Africa   \n",
       "1149  2014.0              Tunisia     Middle East & North Africa   \n",
       "1148  2014.0  Trinidad and Tobago  Latin America & the Caribbean   \n",
       "1147  2014.0                 Togo             Sub-Saharan Africa   \n",
       "...      ...                  ...                            ...   \n",
       "108   2020.0          Netherlands                 Western Europe   \n",
       "107   2020.0                Nepal                     South Asia   \n",
       "106   2020.0              Namibia             Sub-Saharan Africa   \n",
       "104   2020.0           Mozambique             Sub-Saharan Africa   \n",
       "0     2020.0              Albania                 Eastern Europe   \n",
       "\n",
       "      pf_ss_disappearances_disap  pf_ss_disappearances_violent  \\\n",
       "1151                        10.0                      0.000000   \n",
       "1150                         5.0                     10.000000   \n",
       "1149                        10.0                     10.000000   \n",
       "1148                        10.0                     10.000000   \n",
       "1147                        10.0                     10.000000   \n",
       "...                          ...                           ...   \n",
       "108                         10.0                     10.000000   \n",
       "107                         10.0                     10.000000   \n",
       "106                         10.0                     10.000000   \n",
       "104                         10.0                      0.678979   \n",
       "0                           10.0                     10.000000   \n",
       "\n",
       "      pf_ss_disappearances_violent_data  pf_ss_disappearances_organized  \\\n",
       "1151                              864.0                             5.0   \n",
       "1150                                0.0                             5.0   \n",
       "1149                                0.0                             5.0   \n",
       "1148                                0.0                             7.5   \n",
       "1147                                0.0                             7.5   \n",
       "...                                 ...                             ...   \n",
       "108                                 0.0                            10.0   \n",
       "107                                 0.0                             7.5   \n",
       "106                                 0.0                             7.5   \n",
       "104                               924.0                             5.0   \n",
       "0                                   0.0                             7.5   \n",
       "\n",
       "      pf_ss_disappearances_fatalities  pf_ss_disappearances_fatalities_data  \\\n",
       "1151                        10.000000                                   0.0   \n",
       "1150                         9.174996                                  38.0   \n",
       "1149                         3.483083                                  43.0   \n",
       "1148                        10.000000                                   0.0   \n",
       "1147                        10.000000                                   0.0   \n",
       "...                               ...                                   ...   \n",
       "108                          9.613328                                   4.0   \n",
       "107                          9.589745                                   7.0   \n",
       "106                         10.000000                                   0.0   \n",
       "104                          0.000000                                 333.0   \n",
       "0                           10.000000                                   0.0   \n",
       "\n",
       "      pf_ss_disappearances_injuries  ...  ef_regulation_business_burden  \\\n",
       "1151                      10.000000  ...                       3.555556   \n",
       "1150                       9.056461  ...                       6.666667   \n",
       "1149                       4.795772  ...                       5.111111   \n",
       "1148                      10.000000  ...                       6.666667   \n",
       "1147                      10.000000  ...                       1.555556   \n",
       "...                             ...  ...                            ...   \n",
       "108                        9.585069  ...                       6.000000   \n",
       "107                        9.339644  ...                       6.888889   \n",
       "106                       10.000000  ...                       4.222222   \n",
       "104                        6.770798  ...                       3.777778   \n",
       "0                         10.000000  ...                       6.000000   \n",
       "\n",
       "      ef_regulation_business_start  ef_regulation_business_impartial  \\\n",
       "1151                      8.718526                            5.2150   \n",
       "1150                      9.549438                            3.6500   \n",
       "1149                      9.606851                            5.4100   \n",
       "1148                      9.624457                            6.0350   \n",
       "1147                      8.748823                            4.0625   \n",
       "...                            ...                               ...   \n",
       "108                       9.845924                            8.7550   \n",
       "107                       9.067438                            6.1450   \n",
       "106                       8.177618                            8.9525   \n",
       "104                       8.332792                            3.7375   \n",
       "0                         9.742477                            5.9975   \n",
       "\n",
       "      ef_regulation_business_licensing  ef_regulation_business_compliance  \\\n",
       "1151                          8.308705                           7.657251   \n",
       "1150                          9.233155                           7.466692   \n",
       "1149                          9.398287                           8.385857   \n",
       "1148                          6.792369                           7.646041   \n",
       "1147                          8.201228                           6.973482   \n",
       "...                                ...                                ...   \n",
       "108                           8.286935                           8.666090   \n",
       "107                           8.979394                           5.774084   \n",
       "106                           8.306145                           6.614783   \n",
       "104                           8.984100                           7.758135   \n",
       "0                             5.621940                           7.175250   \n",
       "\n",
       "      ef_regulation_business  ef_regulation  country_code  \\\n",
       "1151                6.330298       8.137080           UGA   \n",
       "1150                6.780473       6.557095           TUR   \n",
       "1149                6.950506       6.885396           TUN   \n",
       "1148                6.779593       7.405782           TTO   \n",
       "1147                5.908318       5.359383           TGO   \n",
       "...                      ...            ...           ...   \n",
       "108                 7.869562       7.777744           NLD   \n",
       "107                 6.733793       7.339317           NPL   \n",
       "106                 6.846120       7.629787           NAM   \n",
       "104                 5.982076       6.229162           MOZ   \n",
       "0                   6.698118       7.112958           ALB   \n",
       "\n",
       "                                               geometry  globalNorth  \n",
       "1151  POLYGON ((33.92110 -1.00194, 33.92027 -1.00111...          0.0  \n",
       "1150  MULTIPOLYGON (((25.82444 40.10026, 25.73167 40...          1.0  \n",
       "1149  MULTIPOLYGON (((10.99361 33.75000, 10.93778 33...          0.0  \n",
       "1148  MULTIPOLYGON (((-60.92306 10.79722, -60.94445 ...          0.0  \n",
       "1147  POLYGON ((0.91797 10.99640, 0.89056 10.91111, ...          0.0  \n",
       "...                                                 ...          ...  \n",
       "108   MULTIPOLYGON (((4.23890 51.35043, 4.22166 51.3...          1.0  \n",
       "107   POLYGON ((88.14279 27.86605, 88.15248 27.86416...          0.0  \n",
       "106   POLYGON ((23.47611 -17.62584, 23.82083 -17.560...          0.0  \n",
       "104   POLYGON ((32.89043 -26.84714, 32.76778 -26.851...          0.0  \n",
       "0     POLYGON ((20.07142 42.56091, 20.10208 42.53347...          1.0  \n",
       "\n",
       "[1046 rows x 69 columns]"
      ]
     },
     "execution_count": 5,
     "metadata": {},
     "output_type": "execute_result"
    }
   ],
   "source": [
    "X_test"
   ]
  },
  {
   "cell_type": "code",
   "execution_count": 6,
   "metadata": {},
   "outputs": [],
   "source": [
    "# Select only numeric features, excluding 'year'\n",
    "X_train_numeric = X_train.select_dtypes(include=np.number).drop('year', axis=1)\n",
    "X_test_numeric = X_test.select_dtypes(include=np.number).drop('year', axis=1)\n",
    "\n",
    "# Initialize a new scaling object for normalizing input variables\n",
    "scaler = StandardScaler()\n",
    "\n",
    "# Fit the scaler object to the training data\n",
    "scaler.fit(X_train_numeric)\n",
    "\n",
    "# Apply the scaler object to the training and test sets\n",
    "X_train_scaled = scaler.transform(X_train_numeric)\n",
    "X_test_scaled = scaler.transform(X_test_numeric)\n",
    "\n",
    "# Replace the original numeric columns with the scaled ones\n",
    "X_train[X_train_numeric.columns] = X_train_scaled\n",
    "X_test[X_test_numeric.columns] = X_test_scaled"
   ]
  },
  {
   "cell_type": "code",
   "execution_count": 7,
   "metadata": {},
   "outputs": [
    {
     "data": {
      "text/plain": [
       "Index(['pf_ss_disappearances_disap', 'pf_ss_disappearances_violent',\n",
       "       'pf_ss_disappearances_violent_data', 'pf_ss_disappearances_organized',\n",
       "       'pf_ss_disappearances_fatalities',\n",
       "       'pf_ss_disappearances_fatalities_data', 'pf_ss_disappearances_injuries',\n",
       "       'pf_ss_disappearances_injuries_data', 'pf_ss_disappearances', 'pf_ss',\n",
       "       'pf_expression_direct_killed', 'pf_expression_direct_killed_data',\n",
       "       'pf_expression_direct_jailed', 'pf_expression_direct_jailed_data',\n",
       "       'pf_expression_direct', 'pf_expression_cld', 'pf_identity_divorce',\n",
       "       'pf_identity_fgm', 'ef_government_tax_income_data',\n",
       "       'ef_government_tax_payroll_data', 'ef_government_soa', 'ef_government',\n",
       "       'ef_legal_protection', 'ef_legal_military', 'ef_legal_integrity',\n",
       "       'ef_legal_enforcement', 'ef_legal_regulatory', 'ef_legal_police',\n",
       "       'ef_gender', 'ef_money_sd', 'ef_money_sd_data', 'ef_money_inflation',\n",
       "       'ef_money_inflation_data', 'ef_money_currency', 'ef_money',\n",
       "       'ef_trade_tariffs_revenue', 'ef_trade_tariffs_revenue_data',\n",
       "       'ef_trade_tariffs_sd', 'ef_trade_tariffs_sd_data', 'ef_trade_tariffs',\n",
       "       'ef_trade_regulatory_nontariff', 'ef_trade_black',\n",
       "       'ef_trade_movement_capital', 'ef_trade_movement_visit',\n",
       "       'ef_regulation_credit_ownership', 'ef_regulation_credit_private',\n",
       "       'ef_regulation_credit_interest', 'ef_regulation_credit',\n",
       "       'ef_regulation_labor_minwage', 'ef_regulation_labor_firing',\n",
       "       'ef_regulation_labor_bargain', 'ef_regulation_labor_hours',\n",
       "       'ef_regulation_labor_dismissal', 'ef_regulation_labor_conscription',\n",
       "       'ef_regulation_labor', 'ef_regulation_business_adm',\n",
       "       'ef_regulation_business_burden', 'ef_regulation_business_start',\n",
       "       'ef_regulation_business_impartial', 'ef_regulation_business_licensing',\n",
       "       'ef_regulation_business_compliance', 'ef_regulation_business',\n",
       "       'ef_regulation', 'globalNorth'],\n",
       "      dtype='object')"
      ]
     },
     "execution_count": 7,
     "metadata": {},
     "output_type": "execute_result"
    }
   ],
   "source": [
    "X_train_numeric.columns"
   ]
  },
  {
   "cell_type": "code",
   "execution_count": 8,
   "metadata": {},
   "outputs": [
    {
     "data": {
      "text/plain": [
       "Index(['ef_score', 'hf_score', 'pf_expression_bti', 'pf_rol_civil'], dtype='object')"
      ]
     },
     "execution_count": 8,
     "metadata": {},
     "output_type": "execute_result"
    }
   ],
   "source": [
    "y_train.columns"
   ]
  },
  {
   "attachments": {},
   "cell_type": "markdown",
   "metadata": {},
   "source": [
    "Feature selection: Recursive Feature Elimination\n",
    "\n",
    "** Note; same 10 for all, not good"
   ]
  },
  {
   "cell_type": "code",
   "execution_count": 9,
   "metadata": {},
   "outputs": [
    {
     "name": "stdout",
     "output_type": "stream",
     "text": [
      "Target: ef_score\n",
      "Feature: pf_expression_cld, Coefficient: -0.2000866543033256\n",
      "Feature: ef_government, Coefficient: -0.36212621018466373\n",
      "Feature: ef_legal_military, Coefficient: -0.17082429290073145\n",
      "Feature: ef_gender, Coefficient: 0.4034623334547869\n",
      "Feature: ef_money_currency, Coefficient: 0.17077981357193459\n",
      "Feature: ef_trade_regulatory_nontariff, Coefficient: 0.31416819417124425\n",
      "Feature: ef_regulation_labor_firing, Coefficient: -0.23400276118761468\n",
      "Feature: ef_regulation_business_burden, Coefficient: 0.2531733257037225\n",
      "Feature: ef_regulation_business_impartial, Coefficient: -0.32641562192292917\n",
      "Feature: globalNorth, Coefficient: -0.522104705121289\n",
      "\n",
      "Target: hf_score\n",
      "Feature: pf_expression_cld, Coefficient: -0.2000866543033256\n",
      "Feature: ef_government, Coefficient: -0.36212621018466373\n",
      "Feature: ef_legal_military, Coefficient: -0.17082429290073145\n",
      "Feature: ef_gender, Coefficient: 0.4034623334547869\n",
      "Feature: ef_money_currency, Coefficient: 0.17077981357193459\n",
      "Feature: ef_trade_regulatory_nontariff, Coefficient: 0.31416819417124425\n",
      "Feature: ef_regulation_labor_firing, Coefficient: -0.23400276118761468\n",
      "Feature: ef_regulation_business_burden, Coefficient: 0.2531733257037225\n",
      "Feature: ef_regulation_business_impartial, Coefficient: -0.32641562192292917\n",
      "Feature: globalNorth, Coefficient: -0.522104705121289\n",
      "\n",
      "Target: pf_expression_bti\n",
      "Feature: pf_ss_disappearances_organized, Coefficient: 0.5156947143150178\n",
      "Feature: pf_ss, Coefficient: -0.762970394919654\n",
      "Feature: pf_expression_direct_killed_data, Coefficient: -0.3769583042504774\n",
      "Feature: ef_government, Coefficient: -0.5015567106415479\n",
      "Feature: ef_legal_military, Coefficient: -0.3701312823890425\n",
      "Feature: ef_legal_integrity, Coefficient: 0.9968543572713453\n",
      "Feature: ef_money_inflation, Coefficient: 0.6017684329535867\n",
      "Feature: ef_regulation_labor_bargain, Coefficient: -0.28497673623165265\n",
      "Feature: ef_regulation_labor, Coefficient: 0.4426132255985513\n",
      "Feature: globalNorth, Coefficient: 0.893238019162082\n",
      "\n",
      "Target: pf_rol_civil\n",
      "Feature: pf_ss_disappearances_violent, Coefficient: -0.28987072049560714\n",
      "Feature: pf_ss_disappearances, Coefficient: 0.29962767630252995\n",
      "Feature: ef_legal_enforcement, Coefficient: 0.17442752990369395\n",
      "Feature: ef_gender, Coefficient: -2.6893013054180446\n",
      "Feature: ef_trade_tariffs_revenue, Coefficient: 0.6724043617009624\n",
      "Feature: ef_trade_tariffs_revenue_data, Coefficient: 0.4409449533153918\n",
      "Feature: ef_regulation_labor_bargain, Coefficient: 0.11389417827221678\n",
      "Feature: ef_regulation_business_adm, Coefficient: 0.2148824306181517\n",
      "Feature: ef_regulation_business_start, Coefficient: -1.0611226252076578\n",
      "Feature: globalNorth, Coefficient: 0.4648891210540014\n",
      "\n"
     ]
    }
   ],
   "source": [
    "# Initialize a logistic regression model\n",
    "model = LogisticRegression(solver='liblinear')  # liblinear is good for small datasets and binary classification\n",
    "\n",
    "# Dictionary to store selected features and their coefficients for each target\n",
    "selected_features_dict = {}\n",
    "\n",
    "# Perform RFE for each target\n",
    "for target in y_train.columns:\n",
    "    # Initialize RFE\n",
    "    rfe = RFE(estimator=model, n_features_to_select=10)  # Adjust the number of features to select as necessary\n",
    "\n",
    "    # Fit RFE to the scaled numeric data\n",
    "    rfe.fit(X_train_numeric, y_train[target])\n",
    "\n",
    "    # Get the features selected by RFE\n",
    "    selected_features = X_train_numeric.columns[rfe.support_]\n",
    "\n",
    "    # Fit the model on all selected features at once and get the coefficients\n",
    "    model.fit(X_train_numeric[selected_features], y_train[target])\n",
    "    coefficients = model.coef_[0]\n",
    "\n",
    "    # Create a mapping from features to coefficients\n",
    "    feature_stats = dict(zip(selected_features, coefficients))\n",
    "\n",
    "    # Append the selected features and their coefficients to the dictionary\n",
    "    selected_features_dict[target] = feature_stats\n",
    "\n",
    "# Print the names and coefficients of the final selected features for each target\n",
    "for target, features in selected_features_dict.items():\n",
    "    print(f\"Target: {target}\")\n",
    "    for feature, coefficient in features.items():\n",
    "        print(f\"Feature: {feature}, Coefficient: {coefficient}\")\n",
    "    print()\n"
   ]
  },
  {
   "attachments": {},
   "cell_type": "markdown",
   "metadata": {},
   "source": [
    "Feature selection: Mutual Information"
   ]
  },
  {
   "cell_type": "code",
   "execution_count": 10,
   "metadata": {},
   "outputs": [
    {
     "name": "stdout",
     "output_type": "stream",
     "text": [
      "Target: ef_score\n",
      "Feature: pf_expression_cld, Coefficient: -0.2000866543033256\n",
      "Feature: ef_government, Coefficient: -0.36212621018466373\n",
      "Feature: ef_legal_military, Coefficient: -0.17082429290073145\n",
      "Feature: ef_gender, Coefficient: 0.4034623334547869\n",
      "Feature: ef_money_currency, Coefficient: 0.17077981357193459\n",
      "Feature: ef_trade_regulatory_nontariff, Coefficient: 0.31416819417124425\n",
      "Feature: ef_regulation_labor_firing, Coefficient: -0.23400276118761468\n",
      "Feature: ef_regulation_business_burden, Coefficient: 0.2531733257037225\n",
      "Feature: ef_regulation_business_impartial, Coefficient: -0.32641562192292917\n",
      "Feature: globalNorth, Coefficient: -0.522104705121289\n",
      "Feature: ef_government_soa, Coefficient: -0.09204104712905205\n",
      "Feature: ef_legal_enforcement, Coefficient: 0.015963935556412272\n",
      "Feature: ef_regulation_labor_dismissal, Coefficient: 0.055462253712570186\n",
      "Feature: ef_legal_regulatory, Coefficient: -0.03313281136763819\n",
      "Feature: ef_legal_integrity, Coefficient: 0.016535952765762293\n",
      "Feature: ef_money_sd_data, Coefficient: -0.00010979340602416866\n",
      "Feature: ef_legal_police, Coefficient: 0.033158040953163305\n",
      "Feature: ef_regulation_credit_ownership, Coefficient: 0.040750636235431424\n",
      "\n",
      "Target: hf_score\n",
      "Feature: pf_expression_cld, Coefficient: -0.2000866543033256\n",
      "Feature: ef_government, Coefficient: -0.36212621018466373\n",
      "Feature: ef_legal_military, Coefficient: -0.17082429290073145\n",
      "Feature: ef_gender, Coefficient: 0.4034623334547869\n",
      "Feature: ef_money_currency, Coefficient: 0.17077981357193459\n",
      "Feature: ef_trade_regulatory_nontariff, Coefficient: 0.31416819417124425\n",
      "Feature: ef_regulation_labor_firing, Coefficient: -0.23400276118761468\n",
      "Feature: ef_regulation_business_burden, Coefficient: 0.2531733257037225\n",
      "Feature: ef_regulation_business_impartial, Coefficient: -0.32641562192292917\n",
      "Feature: globalNorth, Coefficient: -0.522104705121289\n",
      "Feature: ef_government_soa, Coefficient: -0.09204104712905205\n",
      "Feature: ef_legal_enforcement, Coefficient: 0.015963935556412272\n",
      "Feature: ef_regulation_labor_dismissal, Coefficient: 0.055462253712570186\n",
      "Feature: ef_legal_regulatory, Coefficient: -0.03313281136763819\n",
      "Feature: ef_legal_integrity, Coefficient: 0.016535952765762293\n",
      "Feature: ef_money_sd_data, Coefficient: -0.00010979340602416866\n",
      "Feature: ef_legal_police, Coefficient: 0.033158040953163305\n",
      "Feature: ef_regulation_credit_ownership, Coefficient: 0.040750636235431424\n",
      "\n",
      "Target: pf_expression_bti\n",
      "Feature: pf_ss_disappearances_organized, Coefficient: 0.5156947143150178\n",
      "Feature: pf_ss, Coefficient: -0.762970394919654\n",
      "Feature: pf_expression_direct_killed_data, Coefficient: -0.3769583042504774\n",
      "Feature: ef_government, Coefficient: -0.5015567106415479\n",
      "Feature: ef_legal_military, Coefficient: -0.3701312823890425\n",
      "Feature: ef_legal_integrity, Coefficient: 0.9968543572713453\n",
      "Feature: ef_money_inflation, Coefficient: 0.6017684329535867\n",
      "Feature: ef_regulation_labor_bargain, Coefficient: -0.28497673623165265\n",
      "Feature: ef_regulation_labor, Coefficient: 0.4426132255985513\n",
      "Feature: globalNorth, Coefficient: 0.893238019162082\n",
      "Feature: ef_government_soa, Coefficient: -0.09204104712905205\n",
      "Feature: ef_legal_enforcement, Coefficient: 0.015963935556412272\n",
      "Feature: ef_regulation_labor_dismissal, Coefficient: 0.055462253712570186\n",
      "Feature: ef_regulation_business_impartial, Coefficient: -0.03795718130101615\n",
      "Feature: ef_legal_regulatory, Coefficient: -0.03313281136763819\n",
      "Feature: ef_money_sd_data, Coefficient: -0.00010979340602416866\n",
      "Feature: ef_legal_police, Coefficient: 0.033158040953163305\n",
      "Feature: ef_money_currency, Coefficient: 0.04288393838293988\n",
      "Feature: ef_regulation_credit_ownership, Coefficient: 0.040750636235431424\n",
      "\n",
      "Target: pf_rol_civil\n",
      "Feature: pf_ss_disappearances_violent, Coefficient: -0.28987072049560714\n",
      "Feature: pf_ss_disappearances, Coefficient: 0.29962767630252995\n",
      "Feature: ef_legal_enforcement, Coefficient: 0.17442752990369395\n",
      "Feature: ef_gender, Coefficient: -2.6893013054180446\n",
      "Feature: ef_trade_tariffs_revenue, Coefficient: 0.6724043617009624\n",
      "Feature: ef_trade_tariffs_revenue_data, Coefficient: 0.4409449533153918\n",
      "Feature: ef_regulation_labor_bargain, Coefficient: 0.11389417827221678\n",
      "Feature: ef_regulation_business_adm, Coefficient: 0.2148824306181517\n",
      "Feature: ef_regulation_business_start, Coefficient: -1.0611226252076578\n",
      "Feature: globalNorth, Coefficient: 0.4648891210540014\n",
      "Feature: ef_government_soa, Coefficient: -0.09204104712905205\n",
      "Feature: ef_regulation_labor_dismissal, Coefficient: 0.055462253712570186\n",
      "Feature: ef_regulation_business_impartial, Coefficient: -0.03795718130101615\n",
      "Feature: ef_legal_regulatory, Coefficient: -0.03313281136763819\n",
      "Feature: ef_legal_integrity, Coefficient: 0.016535952765762293\n",
      "Feature: ef_money_sd_data, Coefficient: -0.00010979340602416866\n",
      "Feature: ef_legal_police, Coefficient: 0.033158040953163305\n",
      "Feature: ef_money_currency, Coefficient: 0.04288393838293988\n",
      "Feature: ef_regulation_credit_ownership, Coefficient: 0.040750636235431424\n",
      "\n"
     ]
    }
   ],
   "source": [
    "# Set the random seed\n",
    "np.random.seed(42)\n",
    "\n",
    "# List to store mutual information and coefficients for each feature\n",
    "mutual_info_list = []\n",
    "coefficient_list = []\n",
    "\n",
    "# Calculate mutual information and coefficients for each target\n",
    "for target in y_train.columns:\n",
    "    # Calculate mutual information\n",
    "    mutual_info = mutual_info_regression(X_train_numeric, y_train[target])\n",
    "    mutual_info_list.append(mutual_info)\n",
    "\n",
    "    # Fit linear regression to get the coefficients\n",
    "    model = LogisticRegression()\n",
    "    model.fit(X_train_numeric, y_train[target])\n",
    "    coefficients = model.coef_\n",
    "    coefficient_list.append(coefficients)\n",
    "\n",
    "# Calculate the average mutual information for each feature\n",
    "average_mutual_info = np.mean(mutual_info_list, axis=0)\n",
    "\n",
    "# Reshape the coefficient list to be 1-dimensional\n",
    "coefficient_array = np.array(coefficient_list)\n",
    "average_coefficients = np.mean(coefficient_array, axis=0).reshape(-1)\n",
    "\n",
    "# Create a DataFrame with the mutual information, coefficients, and feature names\n",
    "mutual_info_df = pd.DataFrame({'Feature': X_train_numeric.columns, 'Mutual Information': average_mutual_info, 'Coefficient': average_coefficients})\n",
    "\n",
    "# Sort the DataFrame by mutual information in descending order\n",
    "mutual_info_df = mutual_info_df.sort_values('Mutual Information', ascending=False)\n",
    "\n",
    "# Select the top 10 features\n",
    "selected_features_mi = mutual_info_df.head(10)\n",
    "\n",
    "# Add the new features obtained from mutual information to the dictionary\n",
    "for target in y_train.columns:\n",
    "    for index, row in selected_features_mi.iterrows():\n",
    "        if row['Feature'] not in selected_features_dict[target]:\n",
    "            selected_features_dict[target][row['Feature']] = row['Coefficient']\n",
    "\n",
    "# Print the names and coefficients of the final selected features for each target\n",
    "for target, features in selected_features_dict.items():\n",
    "    print(f\"Target: {target}\")\n",
    "    for feature, coefficient in features.items():\n",
    "        print(f\"Feature: {feature}, Coefficient: {coefficient}\")\n",
    "    print()"
   ]
  },
  {
   "attachments": {},
   "cell_type": "markdown",
   "metadata": {},
   "source": [
    "Remember, mutual information is a filter method that measures the statistical dependency between two variables, but it doesn't take into account the potential relationships between different features, while RFE is a wrapper method that takes into account the potential relationships between different features by using a specific model to evaluate the importance of each feature. Therefore, these methods can give different results, and using them together can give a more comprehensive view of feature importance."
   ]
  },
  {
   "attachments": {},
   "cell_type": "markdown",
   "metadata": {},
   "source": [
    "Feature selection: Backward feature selection"
   ]
  },
  {
   "cell_type": "code",
   "execution_count": 11,
   "metadata": {},
   "outputs": [
    {
     "name": "stdout",
     "output_type": "stream",
     "text": [
      "Target: ef_score\n",
      "Feature: pf_expression_cld, Coefficient: -0.2000866543033256\n",
      "Feature: ef_government, Coefficient: -0.36212621018466373\n",
      "Feature: ef_legal_military, Coefficient: -0.17082429290073145\n",
      "Feature: ef_gender, Coefficient: 0.4034623334547869\n",
      "Feature: ef_money_currency, Coefficient: 0.17077981357193459\n",
      "Feature: ef_trade_regulatory_nontariff, Coefficient: 0.31416819417124425\n",
      "Feature: ef_regulation_labor_firing, Coefficient: -0.23400276118761468\n",
      "Feature: ef_regulation_business_burden, Coefficient: 0.2531733257037225\n",
      "Feature: ef_regulation_business_impartial, Coefficient: -0.32641562192292917\n",
      "Feature: globalNorth, Coefficient: -0.522104705121289\n",
      "Feature: ef_government_soa, Coefficient: -0.09204104712905205\n",
      "Feature: ef_legal_enforcement, Coefficient: 0.015963935556412272\n",
      "Feature: ef_regulation_labor_dismissal, Coefficient: 0.055462253712570186\n",
      "Feature: ef_legal_regulatory, Coefficient: -0.03313281136763819\n",
      "Feature: ef_legal_integrity, Coefficient: 0.016535952765762293\n",
      "Feature: ef_money_sd_data, Coefficient: -0.00010979340602416866\n",
      "Feature: ef_legal_police, Coefficient: 0.033158040953163305\n",
      "Feature: ef_regulation_credit_ownership, Coefficient: 0.040750636235431424\n",
      "Feature: pf_ss_disappearances_disap, Coefficient: NA\n",
      "Feature: pf_ss_disappearances_violent_data, Coefficient: NA\n",
      "Feature: pf_ss_disappearances_fatalities, Coefficient: NA\n",
      "Feature: pf_ss_disappearances, Coefficient: NA\n",
      "Feature: pf_expression_direct_jailed_data, Coefficient: NA\n",
      "Feature: pf_identity_divorce, Coefficient: NA\n",
      "Feature: pf_identity_fgm, Coefficient: NA\n",
      "Feature: ef_government_tax_income_data, Coefficient: NA\n",
      "Feature: ef_money_sd, Coefficient: NA\n",
      "Feature: ef_regulation_credit_private, Coefficient: NA\n",
      "Feature: ef_regulation_credit_interest, Coefficient: NA\n",
      "Feature: ef_regulation_credit, Coefficient: NA\n",
      "Feature: ef_regulation_labor, Coefficient: NA\n",
      "Feature: ef_regulation_business_adm, Coefficient: NA\n",
      "Feature: ef_regulation_business_start, Coefficient: NA\n",
      "Feature: ef_regulation_business_licensing, Coefficient: NA\n",
      "Feature: ef_regulation_business_compliance, Coefficient: NA\n",
      "Feature: ef_regulation_business, Coefficient: NA\n",
      "Feature: ef_regulation, Coefficient: NA\n",
      "\n",
      "Target: hf_score\n",
      "Feature: pf_expression_cld, Coefficient: -0.2000866543033256\n",
      "Feature: ef_government, Coefficient: -0.36212621018466373\n",
      "Feature: ef_legal_military, Coefficient: -0.17082429290073145\n",
      "Feature: ef_gender, Coefficient: 0.4034623334547869\n",
      "Feature: ef_money_currency, Coefficient: 0.17077981357193459\n",
      "Feature: ef_trade_regulatory_nontariff, Coefficient: 0.31416819417124425\n",
      "Feature: ef_regulation_labor_firing, Coefficient: -0.23400276118761468\n",
      "Feature: ef_regulation_business_burden, Coefficient: 0.2531733257037225\n",
      "Feature: ef_regulation_business_impartial, Coefficient: -0.32641562192292917\n",
      "Feature: globalNorth, Coefficient: -0.522104705121289\n",
      "Feature: ef_government_soa, Coefficient: -0.09204104712905205\n",
      "Feature: ef_legal_enforcement, Coefficient: 0.015963935556412272\n",
      "Feature: ef_regulation_labor_dismissal, Coefficient: 0.055462253712570186\n",
      "Feature: ef_legal_regulatory, Coefficient: -0.03313281136763819\n",
      "Feature: ef_legal_integrity, Coefficient: 0.016535952765762293\n",
      "Feature: ef_money_sd_data, Coefficient: -0.00010979340602416866\n",
      "Feature: ef_legal_police, Coefficient: 0.033158040953163305\n",
      "Feature: ef_regulation_credit_ownership, Coefficient: 0.040750636235431424\n",
      "Feature: pf_ss_disappearances_disap, Coefficient: NA\n",
      "Feature: pf_ss_disappearances_violent_data, Coefficient: NA\n",
      "Feature: pf_ss_disappearances_fatalities, Coefficient: NA\n",
      "Feature: pf_ss_disappearances, Coefficient: NA\n",
      "Feature: pf_expression_direct_jailed_data, Coefficient: NA\n",
      "Feature: pf_identity_divorce, Coefficient: NA\n",
      "Feature: pf_identity_fgm, Coefficient: NA\n",
      "Feature: ef_government_tax_income_data, Coefficient: NA\n",
      "Feature: ef_money_sd, Coefficient: NA\n",
      "Feature: ef_regulation_credit_private, Coefficient: NA\n",
      "Feature: ef_regulation_credit_interest, Coefficient: NA\n",
      "Feature: ef_regulation_credit, Coefficient: NA\n",
      "Feature: ef_regulation_labor, Coefficient: NA\n",
      "Feature: ef_regulation_business_adm, Coefficient: NA\n",
      "Feature: ef_regulation_business_start, Coefficient: NA\n",
      "Feature: ef_regulation_business_licensing, Coefficient: NA\n",
      "Feature: ef_regulation_business_compliance, Coefficient: NA\n",
      "Feature: ef_regulation_business, Coefficient: NA\n",
      "Feature: ef_regulation, Coefficient: NA\n",
      "\n",
      "Target: pf_expression_bti\n",
      "Feature: pf_ss_disappearances_organized, Coefficient: 0.5156947143150178\n",
      "Feature: pf_ss, Coefficient: -0.762970394919654\n",
      "Feature: pf_expression_direct_killed_data, Coefficient: -0.3769583042504774\n",
      "Feature: ef_government, Coefficient: -0.5015567106415479\n",
      "Feature: ef_legal_military, Coefficient: -0.3701312823890425\n",
      "Feature: ef_legal_integrity, Coefficient: 0.9968543572713453\n",
      "Feature: ef_money_inflation, Coefficient: 0.6017684329535867\n",
      "Feature: ef_regulation_labor_bargain, Coefficient: -0.28497673623165265\n",
      "Feature: ef_regulation_labor, Coefficient: 0.4426132255985513\n",
      "Feature: globalNorth, Coefficient: 0.893238019162082\n",
      "Feature: ef_government_soa, Coefficient: -0.09204104712905205\n",
      "Feature: ef_legal_enforcement, Coefficient: 0.015963935556412272\n",
      "Feature: ef_regulation_labor_dismissal, Coefficient: 0.055462253712570186\n",
      "Feature: ef_regulation_business_impartial, Coefficient: -0.03795718130101615\n",
      "Feature: ef_legal_regulatory, Coefficient: -0.03313281136763819\n",
      "Feature: ef_money_sd_data, Coefficient: -0.00010979340602416866\n",
      "Feature: ef_legal_police, Coefficient: 0.033158040953163305\n",
      "Feature: ef_money_currency, Coefficient: 0.04288393838293988\n",
      "Feature: ef_regulation_credit_ownership, Coefficient: 0.040750636235431424\n",
      "Feature: pf_ss_disappearances_disap, Coefficient: NA\n",
      "Feature: pf_ss_disappearances_violent, Coefficient: NA\n",
      "Feature: pf_ss_disappearances_fatalities, Coefficient: NA\n",
      "Feature: pf_ss_disappearances_fatalities_data, Coefficient: NA\n",
      "Feature: pf_ss_disappearances_injuries, Coefficient: NA\n",
      "Feature: pf_ss_disappearances_injuries_data, Coefficient: NA\n",
      "Feature: pf_ss_disappearances, Coefficient: NA\n",
      "Feature: pf_expression_direct_killed, Coefficient: NA\n",
      "Feature: pf_expression_cld, Coefficient: NA\n",
      "Feature: pf_identity_divorce, Coefficient: NA\n",
      "Feature: ef_government_tax_income_data, Coefficient: NA\n",
      "Feature: ef_government_tax_payroll_data, Coefficient: NA\n",
      "Feature: ef_trade_tariffs_revenue, Coefficient: NA\n",
      "Feature: ef_trade_tariffs_sd, Coefficient: NA\n",
      "Feature: ef_trade_tariffs_sd_data, Coefficient: NA\n",
      "Feature: ef_trade_tariffs, Coefficient: NA\n",
      "Feature: ef_trade_regulatory_nontariff, Coefficient: NA\n",
      "Feature: ef_trade_black, Coefficient: NA\n",
      "Feature: ef_trade_movement_capital, Coefficient: NA\n",
      "Feature: ef_trade_movement_visit, Coefficient: NA\n",
      "Feature: ef_regulation_credit_private, Coefficient: NA\n",
      "Feature: ef_regulation_credit, Coefficient: NA\n",
      "Feature: ef_regulation_labor_minwage, Coefficient: NA\n",
      "Feature: ef_regulation_labor_firing, Coefficient: NA\n",
      "Feature: ef_regulation_labor_hours, Coefficient: NA\n",
      "Feature: ef_regulation_labor_conscription, Coefficient: NA\n",
      "Feature: ef_regulation_business, Coefficient: NA\n",
      "Feature: ef_regulation, Coefficient: NA\n",
      "\n",
      "Target: pf_rol_civil\n",
      "Feature: pf_ss_disappearances_violent, Coefficient: -0.28987072049560714\n",
      "Feature: pf_ss_disappearances, Coefficient: 0.29962767630252995\n",
      "Feature: ef_legal_enforcement, Coefficient: 0.17442752990369395\n",
      "Feature: ef_gender, Coefficient: -2.6893013054180446\n",
      "Feature: ef_trade_tariffs_revenue, Coefficient: 0.6724043617009624\n",
      "Feature: ef_trade_tariffs_revenue_data, Coefficient: 0.4409449533153918\n",
      "Feature: ef_regulation_labor_bargain, Coefficient: 0.11389417827221678\n",
      "Feature: ef_regulation_business_adm, Coefficient: 0.2148824306181517\n",
      "Feature: ef_regulation_business_start, Coefficient: -1.0611226252076578\n",
      "Feature: globalNorth, Coefficient: 0.4648891210540014\n",
      "Feature: ef_government_soa, Coefficient: -0.09204104712905205\n",
      "Feature: ef_regulation_labor_dismissal, Coefficient: 0.055462253712570186\n",
      "Feature: ef_regulation_business_impartial, Coefficient: -0.03795718130101615\n",
      "Feature: ef_legal_regulatory, Coefficient: -0.03313281136763819\n",
      "Feature: ef_legal_integrity, Coefficient: 0.016535952765762293\n",
      "Feature: ef_money_sd_data, Coefficient: -0.00010979340602416866\n",
      "Feature: ef_legal_police, Coefficient: 0.033158040953163305\n",
      "Feature: ef_money_currency, Coefficient: 0.04288393838293988\n",
      "Feature: ef_regulation_credit_ownership, Coefficient: 0.040750636235431424\n",
      "Feature: pf_ss_disappearances_fatalities, Coefficient: NA\n",
      "Feature: pf_ss_disappearances_fatalities_data, Coefficient: NA\n",
      "Feature: pf_ss_disappearances_injuries_data, Coefficient: NA\n",
      "Feature: pf_ss, Coefficient: NA\n",
      "Feature: pf_expression_direct_killed, Coefficient: NA\n",
      "Feature: pf_expression_direct_killed_data, Coefficient: NA\n",
      "Feature: pf_expression_direct_jailed, Coefficient: NA\n",
      "Feature: pf_expression_cld, Coefficient: NA\n",
      "Feature: pf_identity_divorce, Coefficient: NA\n",
      "Feature: pf_identity_fgm, Coefficient: NA\n",
      "Feature: ef_legal_military, Coefficient: NA\n",
      "Feature: ef_money_sd, Coefficient: NA\n",
      "Feature: ef_money_inflation, Coefficient: NA\n",
      "Feature: ef_money_inflation_data, Coefficient: NA\n",
      "Feature: ef_trade_movement_capital, Coefficient: NA\n",
      "Feature: ef_trade_movement_visit, Coefficient: NA\n",
      "Feature: ef_regulation_credit, Coefficient: NA\n",
      "Feature: ef_regulation_labor_minwage, Coefficient: NA\n",
      "Feature: ef_regulation_labor_firing, Coefficient: NA\n",
      "Feature: ef_regulation_labor_hours, Coefficient: NA\n",
      "Feature: ef_regulation_labor_conscription, Coefficient: NA\n",
      "Feature: ef_regulation_labor, Coefficient: NA\n",
      "Feature: ef_regulation_business_burden, Coefficient: NA\n",
      "Feature: ef_regulation_business_licensing, Coefficient: NA\n",
      "Feature: ef_regulation_business, Coefficient: NA\n",
      "\n"
     ]
    }
   ],
   "source": [
    "import statsmodels.api as sm\n",
    "\n",
    "# Convert the scaled arrays back to DataFrames because statsmodels.api doesn't work with arrays\n",
    "X_train_scaled_df = pd.DataFrame(X_train_scaled, columns=X_train_numeric.columns)\n",
    "X_test_scaled_df = pd.DataFrame(X_test_scaled, columns=X_test_numeric.columns)\n",
    "\n",
    "# As we will be using statsmodels, we need to add a constant (intercept) to our model.\n",
    "X_train_scaled_df = sm.add_constant(X_train_scaled_df)\n",
    "\n",
    "# We will use all the target variables one by one and find out the significant features for each.\n",
    "for target in y_train.columns:\n",
    "    y = y_train[target].reset_index(drop=True)  # Reset the index here\n",
    "\n",
    "    # Define the model\n",
    "    model = sm.Logit(y, X_train_scaled_df)\n",
    "\n",
    "    # Fit the model\n",
    "    result = model.fit(maxiter=100, disp=0)\n",
    "\n",
    "    # Backward Elimination\n",
    "    cols = list(X_train_scaled_df.columns)\n",
    "    pmax = 1\n",
    "    while cols:\n",
    "        p = []\n",
    "        X_1 = X_train_scaled_df[cols]\n",
    "        model = sm.Logit(y, X_1).fit(disp=0)\n",
    "        p = pd.Series(model.pvalues.values[1:], index = cols[1:])\n",
    "        pmax = max(p)\n",
    "        feature_with_p_max = p.idxmax()\n",
    "        if(pmax > 0.05):\n",
    "            cols.remove(feature_with_p_max)\n",
    "        else:\n",
    "            break\n",
    "\n",
    "    # Update the selected_features_dict with the significant features for each target\n",
    "    for feature in cols:\n",
    "        if feature not in selected_features_dict[target] and feature != 'const':  # 'const' is not a real feature so we ignore it\n",
    "            selected_features_dict[target][feature] = 'NA'  # Coefficient is not applicable for significant features\n",
    "\n",
    "# Print the names and coefficients of the final selected features for each target\n",
    "for target, features in selected_features_dict.items():\n",
    "    print(f\"Target: {target}\")\n",
    "    for feature, coefficient in features.items():\n",
    "        print(f\"Feature: {feature}, Coefficient: {coefficient}\")\n",
    "    print()"
   ]
  },
  {
   "attachments": {},
   "cell_type": "markdown",
   "metadata": {},
   "source": [
    "**Time-series validation**: The method is also known as \"rolling forecasting origin\" or \"walk-forward validation\" in the context of time series forecasting"
   ]
  },
  {
   "attachments": {},
   "cell_type": "markdown",
   "metadata": {},
   "source": [
    "## Modelling: Statistical"
   ]
  },
  {
   "attachments": {},
   "cell_type": "markdown",
   "metadata": {},
   "source": [
    "### Logistic Regression"
   ]
  },
  {
   "cell_type": "code",
   "execution_count": 12,
   "metadata": {},
   "outputs": [
    {
     "name": "stdout",
     "output_type": "stream",
     "text": [
      "Training model for ef_score\n",
      "              precision    recall  f1-score   support\n",
      "\n",
      "           0       0.99      0.95      0.97      1031\n",
      "           1       0.07      0.27      0.11        15\n",
      "\n",
      "    accuracy                           0.94      1046\n",
      "   macro avg       0.53      0.61      0.54      1046\n",
      "weighted avg       0.98      0.94      0.95      1046\n",
      "\n",
      "Training model for hf_score\n",
      "              precision    recall  f1-score   support\n",
      "\n",
      "           0       0.99      0.95      0.97      1031\n",
      "           1       0.07      0.27      0.11        15\n",
      "\n",
      "    accuracy                           0.94      1046\n",
      "   macro avg       0.53      0.61      0.54      1046\n",
      "weighted avg       0.98      0.94      0.95      1046\n",
      "\n",
      "Training model for pf_expression_bti\n",
      "              precision    recall  f1-score   support\n",
      "\n",
      "           0       0.92      0.90      0.91       781\n",
      "           1       0.72      0.76      0.74       265\n",
      "\n",
      "    accuracy                           0.86      1046\n",
      "   macro avg       0.82      0.83      0.82      1046\n",
      "weighted avg       0.87      0.86      0.86      1046\n",
      "\n",
      "Training model for pf_rol_civil\n",
      "              precision    recall  f1-score   support\n",
      "\n",
      "           0       0.82      0.73      0.77       740\n",
      "           1       0.48      0.62      0.54       306\n",
      "\n",
      "    accuracy                           0.70      1046\n",
      "   macro avg       0.65      0.67      0.66      1046\n",
      "weighted avg       0.72      0.70      0.70      1046\n",
      "\n"
     ]
    }
   ],
   "source": [
    "# Initialize a dictionary to store models\n",
    "models = {}\n",
    "\n",
    "for target in selected_features_dict.keys():\n",
    "    print(f\"Training model for {target}\")\n",
    "    \n",
    "    # Get the best features for the target\n",
    "    best_features = selected_features_dict[target]\n",
    "    \n",
    "    # Subset X_train and X_test to only include the best features\n",
    "    X_train_best = X_train[best_features]\n",
    "    X_test_best = X_test[best_features]\n",
    "\n",
    "    # Fit the model\n",
    "    clf = LogisticRegression(random_state=0).fit(X_train_best, y_train[target])\n",
    "\n",
    "    # Store the model\n",
    "    models[target] = clf\n",
    "\n",
    "    # Make predictions and evaluate\n",
    "    y_pred = clf.predict(X_test_best)\n",
    "    print(classification_report(y_test[target], y_pred))"
   ]
  },
  {
   "attachments": {},
   "cell_type": "markdown",
   "metadata": {},
   "source": [
    "### Random Forest & XGBoost with GridSearch optimization"
   ]
  },
  {
   "cell_type": "code",
   "execution_count": 48,
   "metadata": {},
   "outputs": [
    {
     "name": "stdout",
     "output_type": "stream",
     "text": [
      "Performing grid search for models for ef_score\n",
      "Performing grid search for Random Forest Model\n",
      "Classification report for Random Forest model, ef_score\n",
      "              precision    recall  f1-score   support\n",
      "\n",
      "           0       1.00      1.00      1.00      1031\n",
      "           1       1.00      1.00      1.00        15\n",
      "\n",
      "    accuracy                           1.00      1046\n",
      "   macro avg       1.00      1.00      1.00      1046\n",
      "weighted avg       1.00      1.00      1.00      1046\n",
      "\n"
     ]
    },
    {
     "data": {
      "application/vnd.plotly.v1+json": {
       "config": {
        "plotlyServerURL": "https://plot.ly"
       },
       "data": [
        {
         "marker": {
          "color": "rgba(58, 71, 80, 0.6)",
          "line": {
           "color": "rgba(58, 71, 80, 1.0)",
           "width": 3
          }
         },
         "orientation": "h",
         "type": "bar",
         "x": [
          0.0027998356581085777,
          0.022916214406526535,
          0.004186823948989023,
          0.002210962445362691,
          0.0810189541676867,
          0.00843662091740145,
          0.026961751496784807,
          0.008053393007465137,
          0.00587098773600509,
          0.0003881031410305902,
          0.016114324086035345,
          0.005259549668187293,
          0.0527176294092106,
          0.0023389781879831566,
          0.003743877936441112,
          0.3039415515608033,
          0.0011729697633228256,
          0.09833539649543954,
          0.00031669042320121404,
          0.0022092137913821367,
          0.0014475258401386712,
          0.003034601348543369,
          0.000816974398745534,
          0.001219122868924268,
          0.03391857268455136,
          0.0027231664352543373,
          0.03251079300222977,
          0.001823561766636671,
          0.12746191761154888,
          0.01836305468983862,
          0.036875395076346136,
          0.01570807827145412,
          0.010736148402502584,
          0.012688528439016005,
          0.010420493424129736,
          0.015678626471018416,
          0.025579611021754222
         ],
         "y": [
          "pf_expression_cld",
          "ef_government",
          "ef_legal_military",
          "ef_gender",
          "ef_money_currency",
          "ef_trade_regulatory_nontariff",
          "ef_regulation_labor_firing",
          "ef_regulation_business_burden",
          "ef_regulation_business_impartial",
          "globalNorth",
          "ef_government_soa",
          "ef_legal_enforcement",
          "ef_regulation_labor_dismissal",
          "ef_legal_regulatory",
          "ef_legal_integrity",
          "ef_money_sd_data",
          "ef_legal_police",
          "ef_regulation_credit_ownership",
          "pf_ss_disappearances_disap",
          "pf_ss_disappearances_violent_data",
          "pf_ss_disappearances_fatalities",
          "pf_ss_disappearances",
          "pf_expression_direct_jailed_data",
          "pf_identity_divorce",
          "pf_identity_fgm",
          "ef_government_tax_income_data",
          "ef_money_sd",
          "ef_regulation_credit_private",
          "ef_regulation_credit_interest",
          "ef_regulation_credit",
          "ef_regulation_labor",
          "ef_regulation_business_adm",
          "ef_regulation_business_start",
          "ef_regulation_business_licensing",
          "ef_regulation_business_compliance",
          "ef_regulation_business",
          "ef_regulation"
         ]
        }
       ],
       "layout": {
        "template": {
         "data": {
          "bar": [
           {
            "error_x": {
             "color": "#2a3f5f"
            },
            "error_y": {
             "color": "#2a3f5f"
            },
            "marker": {
             "line": {
              "color": "#E5ECF6",
              "width": 0.5
             },
             "pattern": {
              "fillmode": "overlay",
              "size": 10,
              "solidity": 0.2
             }
            },
            "type": "bar"
           }
          ],
          "barpolar": [
           {
            "marker": {
             "line": {
              "color": "#E5ECF6",
              "width": 0.5
             },
             "pattern": {
              "fillmode": "overlay",
              "size": 10,
              "solidity": 0.2
             }
            },
            "type": "barpolar"
           }
          ],
          "carpet": [
           {
            "aaxis": {
             "endlinecolor": "#2a3f5f",
             "gridcolor": "white",
             "linecolor": "white",
             "minorgridcolor": "white",
             "startlinecolor": "#2a3f5f"
            },
            "baxis": {
             "endlinecolor": "#2a3f5f",
             "gridcolor": "white",
             "linecolor": "white",
             "minorgridcolor": "white",
             "startlinecolor": "#2a3f5f"
            },
            "type": "carpet"
           }
          ],
          "choropleth": [
           {
            "colorbar": {
             "outlinewidth": 0,
             "ticks": ""
            },
            "type": "choropleth"
           }
          ],
          "contour": [
           {
            "colorbar": {
             "outlinewidth": 0,
             "ticks": ""
            },
            "colorscale": [
             [
              0,
              "#0d0887"
             ],
             [
              0.1111111111111111,
              "#46039f"
             ],
             [
              0.2222222222222222,
              "#7201a8"
             ],
             [
              0.3333333333333333,
              "#9c179e"
             ],
             [
              0.4444444444444444,
              "#bd3786"
             ],
             [
              0.5555555555555556,
              "#d8576b"
             ],
             [
              0.6666666666666666,
              "#ed7953"
             ],
             [
              0.7777777777777778,
              "#fb9f3a"
             ],
             [
              0.8888888888888888,
              "#fdca26"
             ],
             [
              1,
              "#f0f921"
             ]
            ],
            "type": "contour"
           }
          ],
          "contourcarpet": [
           {
            "colorbar": {
             "outlinewidth": 0,
             "ticks": ""
            },
            "type": "contourcarpet"
           }
          ],
          "heatmap": [
           {
            "colorbar": {
             "outlinewidth": 0,
             "ticks": ""
            },
            "colorscale": [
             [
              0,
              "#0d0887"
             ],
             [
              0.1111111111111111,
              "#46039f"
             ],
             [
              0.2222222222222222,
              "#7201a8"
             ],
             [
              0.3333333333333333,
              "#9c179e"
             ],
             [
              0.4444444444444444,
              "#bd3786"
             ],
             [
              0.5555555555555556,
              "#d8576b"
             ],
             [
              0.6666666666666666,
              "#ed7953"
             ],
             [
              0.7777777777777778,
              "#fb9f3a"
             ],
             [
              0.8888888888888888,
              "#fdca26"
             ],
             [
              1,
              "#f0f921"
             ]
            ],
            "type": "heatmap"
           }
          ],
          "heatmapgl": [
           {
            "colorbar": {
             "outlinewidth": 0,
             "ticks": ""
            },
            "colorscale": [
             [
              0,
              "#0d0887"
             ],
             [
              0.1111111111111111,
              "#46039f"
             ],
             [
              0.2222222222222222,
              "#7201a8"
             ],
             [
              0.3333333333333333,
              "#9c179e"
             ],
             [
              0.4444444444444444,
              "#bd3786"
             ],
             [
              0.5555555555555556,
              "#d8576b"
             ],
             [
              0.6666666666666666,
              "#ed7953"
             ],
             [
              0.7777777777777778,
              "#fb9f3a"
             ],
             [
              0.8888888888888888,
              "#fdca26"
             ],
             [
              1,
              "#f0f921"
             ]
            ],
            "type": "heatmapgl"
           }
          ],
          "histogram": [
           {
            "marker": {
             "pattern": {
              "fillmode": "overlay",
              "size": 10,
              "solidity": 0.2
             }
            },
            "type": "histogram"
           }
          ],
          "histogram2d": [
           {
            "colorbar": {
             "outlinewidth": 0,
             "ticks": ""
            },
            "colorscale": [
             [
              0,
              "#0d0887"
             ],
             [
              0.1111111111111111,
              "#46039f"
             ],
             [
              0.2222222222222222,
              "#7201a8"
             ],
             [
              0.3333333333333333,
              "#9c179e"
             ],
             [
              0.4444444444444444,
              "#bd3786"
             ],
             [
              0.5555555555555556,
              "#d8576b"
             ],
             [
              0.6666666666666666,
              "#ed7953"
             ],
             [
              0.7777777777777778,
              "#fb9f3a"
             ],
             [
              0.8888888888888888,
              "#fdca26"
             ],
             [
              1,
              "#f0f921"
             ]
            ],
            "type": "histogram2d"
           }
          ],
          "histogram2dcontour": [
           {
            "colorbar": {
             "outlinewidth": 0,
             "ticks": ""
            },
            "colorscale": [
             [
              0,
              "#0d0887"
             ],
             [
              0.1111111111111111,
              "#46039f"
             ],
             [
              0.2222222222222222,
              "#7201a8"
             ],
             [
              0.3333333333333333,
              "#9c179e"
             ],
             [
              0.4444444444444444,
              "#bd3786"
             ],
             [
              0.5555555555555556,
              "#d8576b"
             ],
             [
              0.6666666666666666,
              "#ed7953"
             ],
             [
              0.7777777777777778,
              "#fb9f3a"
             ],
             [
              0.8888888888888888,
              "#fdca26"
             ],
             [
              1,
              "#f0f921"
             ]
            ],
            "type": "histogram2dcontour"
           }
          ],
          "mesh3d": [
           {
            "colorbar": {
             "outlinewidth": 0,
             "ticks": ""
            },
            "type": "mesh3d"
           }
          ],
          "parcoords": [
           {
            "line": {
             "colorbar": {
              "outlinewidth": 0,
              "ticks": ""
             }
            },
            "type": "parcoords"
           }
          ],
          "pie": [
           {
            "automargin": true,
            "type": "pie"
           }
          ],
          "scatter": [
           {
            "fillpattern": {
             "fillmode": "overlay",
             "size": 10,
             "solidity": 0.2
            },
            "type": "scatter"
           }
          ],
          "scatter3d": [
           {
            "line": {
             "colorbar": {
              "outlinewidth": 0,
              "ticks": ""
             }
            },
            "marker": {
             "colorbar": {
              "outlinewidth": 0,
              "ticks": ""
             }
            },
            "type": "scatter3d"
           }
          ],
          "scattercarpet": [
           {
            "marker": {
             "colorbar": {
              "outlinewidth": 0,
              "ticks": ""
             }
            },
            "type": "scattercarpet"
           }
          ],
          "scattergeo": [
           {
            "marker": {
             "colorbar": {
              "outlinewidth": 0,
              "ticks": ""
             }
            },
            "type": "scattergeo"
           }
          ],
          "scattergl": [
           {
            "marker": {
             "colorbar": {
              "outlinewidth": 0,
              "ticks": ""
             }
            },
            "type": "scattergl"
           }
          ],
          "scattermapbox": [
           {
            "marker": {
             "colorbar": {
              "outlinewidth": 0,
              "ticks": ""
             }
            },
            "type": "scattermapbox"
           }
          ],
          "scatterpolar": [
           {
            "marker": {
             "colorbar": {
              "outlinewidth": 0,
              "ticks": ""
             }
            },
            "type": "scatterpolar"
           }
          ],
          "scatterpolargl": [
           {
            "marker": {
             "colorbar": {
              "outlinewidth": 0,
              "ticks": ""
             }
            },
            "type": "scatterpolargl"
           }
          ],
          "scatterternary": [
           {
            "marker": {
             "colorbar": {
              "outlinewidth": 0,
              "ticks": ""
             }
            },
            "type": "scatterternary"
           }
          ],
          "surface": [
           {
            "colorbar": {
             "outlinewidth": 0,
             "ticks": ""
            },
            "colorscale": [
             [
              0,
              "#0d0887"
             ],
             [
              0.1111111111111111,
              "#46039f"
             ],
             [
              0.2222222222222222,
              "#7201a8"
             ],
             [
              0.3333333333333333,
              "#9c179e"
             ],
             [
              0.4444444444444444,
              "#bd3786"
             ],
             [
              0.5555555555555556,
              "#d8576b"
             ],
             [
              0.6666666666666666,
              "#ed7953"
             ],
             [
              0.7777777777777778,
              "#fb9f3a"
             ],
             [
              0.8888888888888888,
              "#fdca26"
             ],
             [
              1,
              "#f0f921"
             ]
            ],
            "type": "surface"
           }
          ],
          "table": [
           {
            "cells": {
             "fill": {
              "color": "#EBF0F8"
             },
             "line": {
              "color": "white"
             }
            },
            "header": {
             "fill": {
              "color": "#C8D4E3"
             },
             "line": {
              "color": "white"
             }
            },
            "type": "table"
           }
          ]
         },
         "layout": {
          "annotationdefaults": {
           "arrowcolor": "#2a3f5f",
           "arrowhead": 0,
           "arrowwidth": 1
          },
          "autotypenumbers": "strict",
          "coloraxis": {
           "colorbar": {
            "outlinewidth": 0,
            "ticks": ""
           }
          },
          "colorscale": {
           "diverging": [
            [
             0,
             "#8e0152"
            ],
            [
             0.1,
             "#c51b7d"
            ],
            [
             0.2,
             "#de77ae"
            ],
            [
             0.3,
             "#f1b6da"
            ],
            [
             0.4,
             "#fde0ef"
            ],
            [
             0.5,
             "#f7f7f7"
            ],
            [
             0.6,
             "#e6f5d0"
            ],
            [
             0.7,
             "#b8e186"
            ],
            [
             0.8,
             "#7fbc41"
            ],
            [
             0.9,
             "#4d9221"
            ],
            [
             1,
             "#276419"
            ]
           ],
           "sequential": [
            [
             0,
             "#0d0887"
            ],
            [
             0.1111111111111111,
             "#46039f"
            ],
            [
             0.2222222222222222,
             "#7201a8"
            ],
            [
             0.3333333333333333,
             "#9c179e"
            ],
            [
             0.4444444444444444,
             "#bd3786"
            ],
            [
             0.5555555555555556,
             "#d8576b"
            ],
            [
             0.6666666666666666,
             "#ed7953"
            ],
            [
             0.7777777777777778,
             "#fb9f3a"
            ],
            [
             0.8888888888888888,
             "#fdca26"
            ],
            [
             1,
             "#f0f921"
            ]
           ],
           "sequentialminus": [
            [
             0,
             "#0d0887"
            ],
            [
             0.1111111111111111,
             "#46039f"
            ],
            [
             0.2222222222222222,
             "#7201a8"
            ],
            [
             0.3333333333333333,
             "#9c179e"
            ],
            [
             0.4444444444444444,
             "#bd3786"
            ],
            [
             0.5555555555555556,
             "#d8576b"
            ],
            [
             0.6666666666666666,
             "#ed7953"
            ],
            [
             0.7777777777777778,
             "#fb9f3a"
            ],
            [
             0.8888888888888888,
             "#fdca26"
            ],
            [
             1,
             "#f0f921"
            ]
           ]
          },
          "colorway": [
           "#636efa",
           "#EF553B",
           "#00cc96",
           "#ab63fa",
           "#FFA15A",
           "#19d3f3",
           "#FF6692",
           "#B6E880",
           "#FF97FF",
           "#FECB52"
          ],
          "font": {
           "color": "#2a3f5f"
          },
          "geo": {
           "bgcolor": "white",
           "lakecolor": "white",
           "landcolor": "#E5ECF6",
           "showlakes": true,
           "showland": true,
           "subunitcolor": "white"
          },
          "hoverlabel": {
           "align": "left"
          },
          "hovermode": "closest",
          "mapbox": {
           "style": "light"
          },
          "paper_bgcolor": "white",
          "plot_bgcolor": "#E5ECF6",
          "polar": {
           "angularaxis": {
            "gridcolor": "white",
            "linecolor": "white",
            "ticks": ""
           },
           "bgcolor": "#E5ECF6",
           "radialaxis": {
            "gridcolor": "white",
            "linecolor": "white",
            "ticks": ""
           }
          },
          "scene": {
           "xaxis": {
            "backgroundcolor": "#E5ECF6",
            "gridcolor": "white",
            "gridwidth": 2,
            "linecolor": "white",
            "showbackground": true,
            "ticks": "",
            "zerolinecolor": "white"
           },
           "yaxis": {
            "backgroundcolor": "#E5ECF6",
            "gridcolor": "white",
            "gridwidth": 2,
            "linecolor": "white",
            "showbackground": true,
            "ticks": "",
            "zerolinecolor": "white"
           },
           "zaxis": {
            "backgroundcolor": "#E5ECF6",
            "gridcolor": "white",
            "gridwidth": 2,
            "linecolor": "white",
            "showbackground": true,
            "ticks": "",
            "zerolinecolor": "white"
           }
          },
          "shapedefaults": {
           "line": {
            "color": "#2a3f5f"
           }
          },
          "ternary": {
           "aaxis": {
            "gridcolor": "white",
            "linecolor": "white",
            "ticks": ""
           },
           "baxis": {
            "gridcolor": "white",
            "linecolor": "white",
            "ticks": ""
           },
           "bgcolor": "#E5ECF6",
           "caxis": {
            "gridcolor": "white",
            "linecolor": "white",
            "ticks": ""
           }
          },
          "title": {
           "x": 0.05
          },
          "xaxis": {
           "automargin": true,
           "gridcolor": "white",
           "linecolor": "white",
           "ticks": "",
           "title": {
            "standoff": 15
           },
           "zerolinecolor": "white",
           "zerolinewidth": 2
          },
          "yaxis": {
           "automargin": true,
           "gridcolor": "white",
           "linecolor": "white",
           "ticks": "",
           "title": {
            "standoff": 15
           },
           "zerolinecolor": "white",
           "zerolinewidth": 2
          }
         }
        },
        "title": {
         "text": "Feature importances for RandomForest for target ef_score"
        }
       }
      }
     },
     "metadata": {},
     "output_type": "display_data"
    },
    {
     "name": "stdout",
     "output_type": "stream",
     "text": [
      "Performing grid search for XGBoost Model\n",
      "Classification report for XGBoost model, ef_score\n",
      "              precision    recall  f1-score   support\n",
      "\n",
      "           0       1.00      1.00      1.00      1031\n",
      "           1       1.00      1.00      1.00        15\n",
      "\n",
      "    accuracy                           1.00      1046\n",
      "   macro avg       1.00      1.00      1.00      1046\n",
      "weighted avg       1.00      1.00      1.00      1046\n",
      "\n"
     ]
    },
    {
     "data": {
      "application/vnd.plotly.v1+json": {
       "config": {
        "plotlyServerURL": "https://plot.ly"
       },
       "data": [
        {
         "marker": {
          "color": "rgba(58, 71, 80, 0.6)",
          "line": {
           "color": "rgba(58, 71, 80, 1.0)",
           "width": 3
          }
         },
         "orientation": "h",
         "type": "bar",
         "x": [
          0.03686204552650452,
          0.03170394524931908,
          0.016244791448116302,
          0,
          0.02522367238998413,
          0.006751882378011942,
          0.006380001083016396,
          0.003294434165582061,
          0.018632102757692337,
          0,
          0.009546415880322456,
          0.005003397818654776,
          0.0050958688370883465,
          0.008465636521577835,
          0.0017349442932754755,
          0.5187637805938721,
          0.006860748399049044,
          0.016179325059056282,
          0.0038452635053545237,
          0,
          0,
          0.015754930675029755,
          0,
          0.022942854091525078,
          0.021177949383854866,
          0.00900388415902853,
          0.10688953101634979,
          0.0060030873864889145,
          0.02460472285747528,
          0.0008721733465790749,
          0.007011693436652422,
          0.018041348084807396,
          0.0014853192260488868,
          0.011247226037085056,
          0.00900201965123415,
          0.02259131707251072,
          0.0027837937232106924
         ],
         "y": [
          "pf_expression_cld",
          "ef_government",
          "ef_legal_military",
          "ef_gender",
          "ef_money_currency",
          "ef_trade_regulatory_nontariff",
          "ef_regulation_labor_firing",
          "ef_regulation_business_burden",
          "ef_regulation_business_impartial",
          "globalNorth",
          "ef_government_soa",
          "ef_legal_enforcement",
          "ef_regulation_labor_dismissal",
          "ef_legal_regulatory",
          "ef_legal_integrity",
          "ef_money_sd_data",
          "ef_legal_police",
          "ef_regulation_credit_ownership",
          "pf_ss_disappearances_disap",
          "pf_ss_disappearances_violent_data",
          "pf_ss_disappearances_fatalities",
          "pf_ss_disappearances",
          "pf_expression_direct_jailed_data",
          "pf_identity_divorce",
          "pf_identity_fgm",
          "ef_government_tax_income_data",
          "ef_money_sd",
          "ef_regulation_credit_private",
          "ef_regulation_credit_interest",
          "ef_regulation_credit",
          "ef_regulation_labor",
          "ef_regulation_business_adm",
          "ef_regulation_business_start",
          "ef_regulation_business_licensing",
          "ef_regulation_business_compliance",
          "ef_regulation_business",
          "ef_regulation"
         ]
        }
       ],
       "layout": {
        "template": {
         "data": {
          "bar": [
           {
            "error_x": {
             "color": "#2a3f5f"
            },
            "error_y": {
             "color": "#2a3f5f"
            },
            "marker": {
             "line": {
              "color": "#E5ECF6",
              "width": 0.5
             },
             "pattern": {
              "fillmode": "overlay",
              "size": 10,
              "solidity": 0.2
             }
            },
            "type": "bar"
           }
          ],
          "barpolar": [
           {
            "marker": {
             "line": {
              "color": "#E5ECF6",
              "width": 0.5
             },
             "pattern": {
              "fillmode": "overlay",
              "size": 10,
              "solidity": 0.2
             }
            },
            "type": "barpolar"
           }
          ],
          "carpet": [
           {
            "aaxis": {
             "endlinecolor": "#2a3f5f",
             "gridcolor": "white",
             "linecolor": "white",
             "minorgridcolor": "white",
             "startlinecolor": "#2a3f5f"
            },
            "baxis": {
             "endlinecolor": "#2a3f5f",
             "gridcolor": "white",
             "linecolor": "white",
             "minorgridcolor": "white",
             "startlinecolor": "#2a3f5f"
            },
            "type": "carpet"
           }
          ],
          "choropleth": [
           {
            "colorbar": {
             "outlinewidth": 0,
             "ticks": ""
            },
            "type": "choropleth"
           }
          ],
          "contour": [
           {
            "colorbar": {
             "outlinewidth": 0,
             "ticks": ""
            },
            "colorscale": [
             [
              0,
              "#0d0887"
             ],
             [
              0.1111111111111111,
              "#46039f"
             ],
             [
              0.2222222222222222,
              "#7201a8"
             ],
             [
              0.3333333333333333,
              "#9c179e"
             ],
             [
              0.4444444444444444,
              "#bd3786"
             ],
             [
              0.5555555555555556,
              "#d8576b"
             ],
             [
              0.6666666666666666,
              "#ed7953"
             ],
             [
              0.7777777777777778,
              "#fb9f3a"
             ],
             [
              0.8888888888888888,
              "#fdca26"
             ],
             [
              1,
              "#f0f921"
             ]
            ],
            "type": "contour"
           }
          ],
          "contourcarpet": [
           {
            "colorbar": {
             "outlinewidth": 0,
             "ticks": ""
            },
            "type": "contourcarpet"
           }
          ],
          "heatmap": [
           {
            "colorbar": {
             "outlinewidth": 0,
             "ticks": ""
            },
            "colorscale": [
             [
              0,
              "#0d0887"
             ],
             [
              0.1111111111111111,
              "#46039f"
             ],
             [
              0.2222222222222222,
              "#7201a8"
             ],
             [
              0.3333333333333333,
              "#9c179e"
             ],
             [
              0.4444444444444444,
              "#bd3786"
             ],
             [
              0.5555555555555556,
              "#d8576b"
             ],
             [
              0.6666666666666666,
              "#ed7953"
             ],
             [
              0.7777777777777778,
              "#fb9f3a"
             ],
             [
              0.8888888888888888,
              "#fdca26"
             ],
             [
              1,
              "#f0f921"
             ]
            ],
            "type": "heatmap"
           }
          ],
          "heatmapgl": [
           {
            "colorbar": {
             "outlinewidth": 0,
             "ticks": ""
            },
            "colorscale": [
             [
              0,
              "#0d0887"
             ],
             [
              0.1111111111111111,
              "#46039f"
             ],
             [
              0.2222222222222222,
              "#7201a8"
             ],
             [
              0.3333333333333333,
              "#9c179e"
             ],
             [
              0.4444444444444444,
              "#bd3786"
             ],
             [
              0.5555555555555556,
              "#d8576b"
             ],
             [
              0.6666666666666666,
              "#ed7953"
             ],
             [
              0.7777777777777778,
              "#fb9f3a"
             ],
             [
              0.8888888888888888,
              "#fdca26"
             ],
             [
              1,
              "#f0f921"
             ]
            ],
            "type": "heatmapgl"
           }
          ],
          "histogram": [
           {
            "marker": {
             "pattern": {
              "fillmode": "overlay",
              "size": 10,
              "solidity": 0.2
             }
            },
            "type": "histogram"
           }
          ],
          "histogram2d": [
           {
            "colorbar": {
             "outlinewidth": 0,
             "ticks": ""
            },
            "colorscale": [
             [
              0,
              "#0d0887"
             ],
             [
              0.1111111111111111,
              "#46039f"
             ],
             [
              0.2222222222222222,
              "#7201a8"
             ],
             [
              0.3333333333333333,
              "#9c179e"
             ],
             [
              0.4444444444444444,
              "#bd3786"
             ],
             [
              0.5555555555555556,
              "#d8576b"
             ],
             [
              0.6666666666666666,
              "#ed7953"
             ],
             [
              0.7777777777777778,
              "#fb9f3a"
             ],
             [
              0.8888888888888888,
              "#fdca26"
             ],
             [
              1,
              "#f0f921"
             ]
            ],
            "type": "histogram2d"
           }
          ],
          "histogram2dcontour": [
           {
            "colorbar": {
             "outlinewidth": 0,
             "ticks": ""
            },
            "colorscale": [
             [
              0,
              "#0d0887"
             ],
             [
              0.1111111111111111,
              "#46039f"
             ],
             [
              0.2222222222222222,
              "#7201a8"
             ],
             [
              0.3333333333333333,
              "#9c179e"
             ],
             [
              0.4444444444444444,
              "#bd3786"
             ],
             [
              0.5555555555555556,
              "#d8576b"
             ],
             [
              0.6666666666666666,
              "#ed7953"
             ],
             [
              0.7777777777777778,
              "#fb9f3a"
             ],
             [
              0.8888888888888888,
              "#fdca26"
             ],
             [
              1,
              "#f0f921"
             ]
            ],
            "type": "histogram2dcontour"
           }
          ],
          "mesh3d": [
           {
            "colorbar": {
             "outlinewidth": 0,
             "ticks": ""
            },
            "type": "mesh3d"
           }
          ],
          "parcoords": [
           {
            "line": {
             "colorbar": {
              "outlinewidth": 0,
              "ticks": ""
             }
            },
            "type": "parcoords"
           }
          ],
          "pie": [
           {
            "automargin": true,
            "type": "pie"
           }
          ],
          "scatter": [
           {
            "fillpattern": {
             "fillmode": "overlay",
             "size": 10,
             "solidity": 0.2
            },
            "type": "scatter"
           }
          ],
          "scatter3d": [
           {
            "line": {
             "colorbar": {
              "outlinewidth": 0,
              "ticks": ""
             }
            },
            "marker": {
             "colorbar": {
              "outlinewidth": 0,
              "ticks": ""
             }
            },
            "type": "scatter3d"
           }
          ],
          "scattercarpet": [
           {
            "marker": {
             "colorbar": {
              "outlinewidth": 0,
              "ticks": ""
             }
            },
            "type": "scattercarpet"
           }
          ],
          "scattergeo": [
           {
            "marker": {
             "colorbar": {
              "outlinewidth": 0,
              "ticks": ""
             }
            },
            "type": "scattergeo"
           }
          ],
          "scattergl": [
           {
            "marker": {
             "colorbar": {
              "outlinewidth": 0,
              "ticks": ""
             }
            },
            "type": "scattergl"
           }
          ],
          "scattermapbox": [
           {
            "marker": {
             "colorbar": {
              "outlinewidth": 0,
              "ticks": ""
             }
            },
            "type": "scattermapbox"
           }
          ],
          "scatterpolar": [
           {
            "marker": {
             "colorbar": {
              "outlinewidth": 0,
              "ticks": ""
             }
            },
            "type": "scatterpolar"
           }
          ],
          "scatterpolargl": [
           {
            "marker": {
             "colorbar": {
              "outlinewidth": 0,
              "ticks": ""
             }
            },
            "type": "scatterpolargl"
           }
          ],
          "scatterternary": [
           {
            "marker": {
             "colorbar": {
              "outlinewidth": 0,
              "ticks": ""
             }
            },
            "type": "scatterternary"
           }
          ],
          "surface": [
           {
            "colorbar": {
             "outlinewidth": 0,
             "ticks": ""
            },
            "colorscale": [
             [
              0,
              "#0d0887"
             ],
             [
              0.1111111111111111,
              "#46039f"
             ],
             [
              0.2222222222222222,
              "#7201a8"
             ],
             [
              0.3333333333333333,
              "#9c179e"
             ],
             [
              0.4444444444444444,
              "#bd3786"
             ],
             [
              0.5555555555555556,
              "#d8576b"
             ],
             [
              0.6666666666666666,
              "#ed7953"
             ],
             [
              0.7777777777777778,
              "#fb9f3a"
             ],
             [
              0.8888888888888888,
              "#fdca26"
             ],
             [
              1,
              "#f0f921"
             ]
            ],
            "type": "surface"
           }
          ],
          "table": [
           {
            "cells": {
             "fill": {
              "color": "#EBF0F8"
             },
             "line": {
              "color": "white"
             }
            },
            "header": {
             "fill": {
              "color": "#C8D4E3"
             },
             "line": {
              "color": "white"
             }
            },
            "type": "table"
           }
          ]
         },
         "layout": {
          "annotationdefaults": {
           "arrowcolor": "#2a3f5f",
           "arrowhead": 0,
           "arrowwidth": 1
          },
          "autotypenumbers": "strict",
          "coloraxis": {
           "colorbar": {
            "outlinewidth": 0,
            "ticks": ""
           }
          },
          "colorscale": {
           "diverging": [
            [
             0,
             "#8e0152"
            ],
            [
             0.1,
             "#c51b7d"
            ],
            [
             0.2,
             "#de77ae"
            ],
            [
             0.3,
             "#f1b6da"
            ],
            [
             0.4,
             "#fde0ef"
            ],
            [
             0.5,
             "#f7f7f7"
            ],
            [
             0.6,
             "#e6f5d0"
            ],
            [
             0.7,
             "#b8e186"
            ],
            [
             0.8,
             "#7fbc41"
            ],
            [
             0.9,
             "#4d9221"
            ],
            [
             1,
             "#276419"
            ]
           ],
           "sequential": [
            [
             0,
             "#0d0887"
            ],
            [
             0.1111111111111111,
             "#46039f"
            ],
            [
             0.2222222222222222,
             "#7201a8"
            ],
            [
             0.3333333333333333,
             "#9c179e"
            ],
            [
             0.4444444444444444,
             "#bd3786"
            ],
            [
             0.5555555555555556,
             "#d8576b"
            ],
            [
             0.6666666666666666,
             "#ed7953"
            ],
            [
             0.7777777777777778,
             "#fb9f3a"
            ],
            [
             0.8888888888888888,
             "#fdca26"
            ],
            [
             1,
             "#f0f921"
            ]
           ],
           "sequentialminus": [
            [
             0,
             "#0d0887"
            ],
            [
             0.1111111111111111,
             "#46039f"
            ],
            [
             0.2222222222222222,
             "#7201a8"
            ],
            [
             0.3333333333333333,
             "#9c179e"
            ],
            [
             0.4444444444444444,
             "#bd3786"
            ],
            [
             0.5555555555555556,
             "#d8576b"
            ],
            [
             0.6666666666666666,
             "#ed7953"
            ],
            [
             0.7777777777777778,
             "#fb9f3a"
            ],
            [
             0.8888888888888888,
             "#fdca26"
            ],
            [
             1,
             "#f0f921"
            ]
           ]
          },
          "colorway": [
           "#636efa",
           "#EF553B",
           "#00cc96",
           "#ab63fa",
           "#FFA15A",
           "#19d3f3",
           "#FF6692",
           "#B6E880",
           "#FF97FF",
           "#FECB52"
          ],
          "font": {
           "color": "#2a3f5f"
          },
          "geo": {
           "bgcolor": "white",
           "lakecolor": "white",
           "landcolor": "#E5ECF6",
           "showlakes": true,
           "showland": true,
           "subunitcolor": "white"
          },
          "hoverlabel": {
           "align": "left"
          },
          "hovermode": "closest",
          "mapbox": {
           "style": "light"
          },
          "paper_bgcolor": "white",
          "plot_bgcolor": "#E5ECF6",
          "polar": {
           "angularaxis": {
            "gridcolor": "white",
            "linecolor": "white",
            "ticks": ""
           },
           "bgcolor": "#E5ECF6",
           "radialaxis": {
            "gridcolor": "white",
            "linecolor": "white",
            "ticks": ""
           }
          },
          "scene": {
           "xaxis": {
            "backgroundcolor": "#E5ECF6",
            "gridcolor": "white",
            "gridwidth": 2,
            "linecolor": "white",
            "showbackground": true,
            "ticks": "",
            "zerolinecolor": "white"
           },
           "yaxis": {
            "backgroundcolor": "#E5ECF6",
            "gridcolor": "white",
            "gridwidth": 2,
            "linecolor": "white",
            "showbackground": true,
            "ticks": "",
            "zerolinecolor": "white"
           },
           "zaxis": {
            "backgroundcolor": "#E5ECF6",
            "gridcolor": "white",
            "gridwidth": 2,
            "linecolor": "white",
            "showbackground": true,
            "ticks": "",
            "zerolinecolor": "white"
           }
          },
          "shapedefaults": {
           "line": {
            "color": "#2a3f5f"
           }
          },
          "ternary": {
           "aaxis": {
            "gridcolor": "white",
            "linecolor": "white",
            "ticks": ""
           },
           "baxis": {
            "gridcolor": "white",
            "linecolor": "white",
            "ticks": ""
           },
           "bgcolor": "#E5ECF6",
           "caxis": {
            "gridcolor": "white",
            "linecolor": "white",
            "ticks": ""
           }
          },
          "title": {
           "x": 0.05
          },
          "xaxis": {
           "automargin": true,
           "gridcolor": "white",
           "linecolor": "white",
           "ticks": "",
           "title": {
            "standoff": 15
           },
           "zerolinecolor": "white",
           "zerolinewidth": 2
          },
          "yaxis": {
           "automargin": true,
           "gridcolor": "white",
           "linecolor": "white",
           "ticks": "",
           "title": {
            "standoff": 15
           },
           "zerolinecolor": "white",
           "zerolinewidth": 2
          }
         }
        },
        "title": {
         "text": "Feature importances for XGBoost for target ef_score"
        }
       }
      }
     },
     "metadata": {},
     "output_type": "display_data"
    },
    {
     "name": "stdout",
     "output_type": "stream",
     "text": [
      "Performing grid search for models for hf_score\n",
      "Performing grid search for Random Forest Model\n",
      "Classification report for Random Forest model, hf_score\n",
      "              precision    recall  f1-score   support\n",
      "\n",
      "           0       1.00      1.00      1.00      1031\n",
      "           1       1.00      1.00      1.00        15\n",
      "\n",
      "    accuracy                           1.00      1046\n",
      "   macro avg       1.00      1.00      1.00      1046\n",
      "weighted avg       1.00      1.00      1.00      1046\n",
      "\n"
     ]
    },
    {
     "data": {
      "application/vnd.plotly.v1+json": {
       "config": {
        "plotlyServerURL": "https://plot.ly"
       },
       "data": [
        {
         "marker": {
          "color": "rgba(58, 71, 80, 0.6)",
          "line": {
           "color": "rgba(58, 71, 80, 1.0)",
           "width": 3
          }
         },
         "orientation": "h",
         "type": "bar",
         "x": [
          0.0027998356581085777,
          0.022916214406526535,
          0.004186823948989023,
          0.002210962445362691,
          0.0810189541676867,
          0.00843662091740145,
          0.026961751496784807,
          0.008053393007465137,
          0.00587098773600509,
          0.0003881031410305902,
          0.016114324086035345,
          0.005259549668187293,
          0.0527176294092106,
          0.0023389781879831566,
          0.003743877936441112,
          0.3039415515608033,
          0.0011729697633228256,
          0.09833539649543954,
          0.00031669042320121404,
          0.0022092137913821367,
          0.0014475258401386712,
          0.003034601348543369,
          0.000816974398745534,
          0.001219122868924268,
          0.03391857268455136,
          0.0027231664352543373,
          0.03251079300222977,
          0.001823561766636671,
          0.12746191761154888,
          0.01836305468983862,
          0.036875395076346136,
          0.01570807827145412,
          0.010736148402502584,
          0.012688528439016005,
          0.010420493424129736,
          0.015678626471018416,
          0.025579611021754222
         ],
         "y": [
          "pf_expression_cld",
          "ef_government",
          "ef_legal_military",
          "ef_gender",
          "ef_money_currency",
          "ef_trade_regulatory_nontariff",
          "ef_regulation_labor_firing",
          "ef_regulation_business_burden",
          "ef_regulation_business_impartial",
          "globalNorth",
          "ef_government_soa",
          "ef_legal_enforcement",
          "ef_regulation_labor_dismissal",
          "ef_legal_regulatory",
          "ef_legal_integrity",
          "ef_money_sd_data",
          "ef_legal_police",
          "ef_regulation_credit_ownership",
          "pf_ss_disappearances_disap",
          "pf_ss_disappearances_violent_data",
          "pf_ss_disappearances_fatalities",
          "pf_ss_disappearances",
          "pf_expression_direct_jailed_data",
          "pf_identity_divorce",
          "pf_identity_fgm",
          "ef_government_tax_income_data",
          "ef_money_sd",
          "ef_regulation_credit_private",
          "ef_regulation_credit_interest",
          "ef_regulation_credit",
          "ef_regulation_labor",
          "ef_regulation_business_adm",
          "ef_regulation_business_start",
          "ef_regulation_business_licensing",
          "ef_regulation_business_compliance",
          "ef_regulation_business",
          "ef_regulation"
         ]
        }
       ],
       "layout": {
        "template": {
         "data": {
          "bar": [
           {
            "error_x": {
             "color": "#2a3f5f"
            },
            "error_y": {
             "color": "#2a3f5f"
            },
            "marker": {
             "line": {
              "color": "#E5ECF6",
              "width": 0.5
             },
             "pattern": {
              "fillmode": "overlay",
              "size": 10,
              "solidity": 0.2
             }
            },
            "type": "bar"
           }
          ],
          "barpolar": [
           {
            "marker": {
             "line": {
              "color": "#E5ECF6",
              "width": 0.5
             },
             "pattern": {
              "fillmode": "overlay",
              "size": 10,
              "solidity": 0.2
             }
            },
            "type": "barpolar"
           }
          ],
          "carpet": [
           {
            "aaxis": {
             "endlinecolor": "#2a3f5f",
             "gridcolor": "white",
             "linecolor": "white",
             "minorgridcolor": "white",
             "startlinecolor": "#2a3f5f"
            },
            "baxis": {
             "endlinecolor": "#2a3f5f",
             "gridcolor": "white",
             "linecolor": "white",
             "minorgridcolor": "white",
             "startlinecolor": "#2a3f5f"
            },
            "type": "carpet"
           }
          ],
          "choropleth": [
           {
            "colorbar": {
             "outlinewidth": 0,
             "ticks": ""
            },
            "type": "choropleth"
           }
          ],
          "contour": [
           {
            "colorbar": {
             "outlinewidth": 0,
             "ticks": ""
            },
            "colorscale": [
             [
              0,
              "#0d0887"
             ],
             [
              0.1111111111111111,
              "#46039f"
             ],
             [
              0.2222222222222222,
              "#7201a8"
             ],
             [
              0.3333333333333333,
              "#9c179e"
             ],
             [
              0.4444444444444444,
              "#bd3786"
             ],
             [
              0.5555555555555556,
              "#d8576b"
             ],
             [
              0.6666666666666666,
              "#ed7953"
             ],
             [
              0.7777777777777778,
              "#fb9f3a"
             ],
             [
              0.8888888888888888,
              "#fdca26"
             ],
             [
              1,
              "#f0f921"
             ]
            ],
            "type": "contour"
           }
          ],
          "contourcarpet": [
           {
            "colorbar": {
             "outlinewidth": 0,
             "ticks": ""
            },
            "type": "contourcarpet"
           }
          ],
          "heatmap": [
           {
            "colorbar": {
             "outlinewidth": 0,
             "ticks": ""
            },
            "colorscale": [
             [
              0,
              "#0d0887"
             ],
             [
              0.1111111111111111,
              "#46039f"
             ],
             [
              0.2222222222222222,
              "#7201a8"
             ],
             [
              0.3333333333333333,
              "#9c179e"
             ],
             [
              0.4444444444444444,
              "#bd3786"
             ],
             [
              0.5555555555555556,
              "#d8576b"
             ],
             [
              0.6666666666666666,
              "#ed7953"
             ],
             [
              0.7777777777777778,
              "#fb9f3a"
             ],
             [
              0.8888888888888888,
              "#fdca26"
             ],
             [
              1,
              "#f0f921"
             ]
            ],
            "type": "heatmap"
           }
          ],
          "heatmapgl": [
           {
            "colorbar": {
             "outlinewidth": 0,
             "ticks": ""
            },
            "colorscale": [
             [
              0,
              "#0d0887"
             ],
             [
              0.1111111111111111,
              "#46039f"
             ],
             [
              0.2222222222222222,
              "#7201a8"
             ],
             [
              0.3333333333333333,
              "#9c179e"
             ],
             [
              0.4444444444444444,
              "#bd3786"
             ],
             [
              0.5555555555555556,
              "#d8576b"
             ],
             [
              0.6666666666666666,
              "#ed7953"
             ],
             [
              0.7777777777777778,
              "#fb9f3a"
             ],
             [
              0.8888888888888888,
              "#fdca26"
             ],
             [
              1,
              "#f0f921"
             ]
            ],
            "type": "heatmapgl"
           }
          ],
          "histogram": [
           {
            "marker": {
             "pattern": {
              "fillmode": "overlay",
              "size": 10,
              "solidity": 0.2
             }
            },
            "type": "histogram"
           }
          ],
          "histogram2d": [
           {
            "colorbar": {
             "outlinewidth": 0,
             "ticks": ""
            },
            "colorscale": [
             [
              0,
              "#0d0887"
             ],
             [
              0.1111111111111111,
              "#46039f"
             ],
             [
              0.2222222222222222,
              "#7201a8"
             ],
             [
              0.3333333333333333,
              "#9c179e"
             ],
             [
              0.4444444444444444,
              "#bd3786"
             ],
             [
              0.5555555555555556,
              "#d8576b"
             ],
             [
              0.6666666666666666,
              "#ed7953"
             ],
             [
              0.7777777777777778,
              "#fb9f3a"
             ],
             [
              0.8888888888888888,
              "#fdca26"
             ],
             [
              1,
              "#f0f921"
             ]
            ],
            "type": "histogram2d"
           }
          ],
          "histogram2dcontour": [
           {
            "colorbar": {
             "outlinewidth": 0,
             "ticks": ""
            },
            "colorscale": [
             [
              0,
              "#0d0887"
             ],
             [
              0.1111111111111111,
              "#46039f"
             ],
             [
              0.2222222222222222,
              "#7201a8"
             ],
             [
              0.3333333333333333,
              "#9c179e"
             ],
             [
              0.4444444444444444,
              "#bd3786"
             ],
             [
              0.5555555555555556,
              "#d8576b"
             ],
             [
              0.6666666666666666,
              "#ed7953"
             ],
             [
              0.7777777777777778,
              "#fb9f3a"
             ],
             [
              0.8888888888888888,
              "#fdca26"
             ],
             [
              1,
              "#f0f921"
             ]
            ],
            "type": "histogram2dcontour"
           }
          ],
          "mesh3d": [
           {
            "colorbar": {
             "outlinewidth": 0,
             "ticks": ""
            },
            "type": "mesh3d"
           }
          ],
          "parcoords": [
           {
            "line": {
             "colorbar": {
              "outlinewidth": 0,
              "ticks": ""
             }
            },
            "type": "parcoords"
           }
          ],
          "pie": [
           {
            "automargin": true,
            "type": "pie"
           }
          ],
          "scatter": [
           {
            "fillpattern": {
             "fillmode": "overlay",
             "size": 10,
             "solidity": 0.2
            },
            "type": "scatter"
           }
          ],
          "scatter3d": [
           {
            "line": {
             "colorbar": {
              "outlinewidth": 0,
              "ticks": ""
             }
            },
            "marker": {
             "colorbar": {
              "outlinewidth": 0,
              "ticks": ""
             }
            },
            "type": "scatter3d"
           }
          ],
          "scattercarpet": [
           {
            "marker": {
             "colorbar": {
              "outlinewidth": 0,
              "ticks": ""
             }
            },
            "type": "scattercarpet"
           }
          ],
          "scattergeo": [
           {
            "marker": {
             "colorbar": {
              "outlinewidth": 0,
              "ticks": ""
             }
            },
            "type": "scattergeo"
           }
          ],
          "scattergl": [
           {
            "marker": {
             "colorbar": {
              "outlinewidth": 0,
              "ticks": ""
             }
            },
            "type": "scattergl"
           }
          ],
          "scattermapbox": [
           {
            "marker": {
             "colorbar": {
              "outlinewidth": 0,
              "ticks": ""
             }
            },
            "type": "scattermapbox"
           }
          ],
          "scatterpolar": [
           {
            "marker": {
             "colorbar": {
              "outlinewidth": 0,
              "ticks": ""
             }
            },
            "type": "scatterpolar"
           }
          ],
          "scatterpolargl": [
           {
            "marker": {
             "colorbar": {
              "outlinewidth": 0,
              "ticks": ""
             }
            },
            "type": "scatterpolargl"
           }
          ],
          "scatterternary": [
           {
            "marker": {
             "colorbar": {
              "outlinewidth": 0,
              "ticks": ""
             }
            },
            "type": "scatterternary"
           }
          ],
          "surface": [
           {
            "colorbar": {
             "outlinewidth": 0,
             "ticks": ""
            },
            "colorscale": [
             [
              0,
              "#0d0887"
             ],
             [
              0.1111111111111111,
              "#46039f"
             ],
             [
              0.2222222222222222,
              "#7201a8"
             ],
             [
              0.3333333333333333,
              "#9c179e"
             ],
             [
              0.4444444444444444,
              "#bd3786"
             ],
             [
              0.5555555555555556,
              "#d8576b"
             ],
             [
              0.6666666666666666,
              "#ed7953"
             ],
             [
              0.7777777777777778,
              "#fb9f3a"
             ],
             [
              0.8888888888888888,
              "#fdca26"
             ],
             [
              1,
              "#f0f921"
             ]
            ],
            "type": "surface"
           }
          ],
          "table": [
           {
            "cells": {
             "fill": {
              "color": "#EBF0F8"
             },
             "line": {
              "color": "white"
             }
            },
            "header": {
             "fill": {
              "color": "#C8D4E3"
             },
             "line": {
              "color": "white"
             }
            },
            "type": "table"
           }
          ]
         },
         "layout": {
          "annotationdefaults": {
           "arrowcolor": "#2a3f5f",
           "arrowhead": 0,
           "arrowwidth": 1
          },
          "autotypenumbers": "strict",
          "coloraxis": {
           "colorbar": {
            "outlinewidth": 0,
            "ticks": ""
           }
          },
          "colorscale": {
           "diverging": [
            [
             0,
             "#8e0152"
            ],
            [
             0.1,
             "#c51b7d"
            ],
            [
             0.2,
             "#de77ae"
            ],
            [
             0.3,
             "#f1b6da"
            ],
            [
             0.4,
             "#fde0ef"
            ],
            [
             0.5,
             "#f7f7f7"
            ],
            [
             0.6,
             "#e6f5d0"
            ],
            [
             0.7,
             "#b8e186"
            ],
            [
             0.8,
             "#7fbc41"
            ],
            [
             0.9,
             "#4d9221"
            ],
            [
             1,
             "#276419"
            ]
           ],
           "sequential": [
            [
             0,
             "#0d0887"
            ],
            [
             0.1111111111111111,
             "#46039f"
            ],
            [
             0.2222222222222222,
             "#7201a8"
            ],
            [
             0.3333333333333333,
             "#9c179e"
            ],
            [
             0.4444444444444444,
             "#bd3786"
            ],
            [
             0.5555555555555556,
             "#d8576b"
            ],
            [
             0.6666666666666666,
             "#ed7953"
            ],
            [
             0.7777777777777778,
             "#fb9f3a"
            ],
            [
             0.8888888888888888,
             "#fdca26"
            ],
            [
             1,
             "#f0f921"
            ]
           ],
           "sequentialminus": [
            [
             0,
             "#0d0887"
            ],
            [
             0.1111111111111111,
             "#46039f"
            ],
            [
             0.2222222222222222,
             "#7201a8"
            ],
            [
             0.3333333333333333,
             "#9c179e"
            ],
            [
             0.4444444444444444,
             "#bd3786"
            ],
            [
             0.5555555555555556,
             "#d8576b"
            ],
            [
             0.6666666666666666,
             "#ed7953"
            ],
            [
             0.7777777777777778,
             "#fb9f3a"
            ],
            [
             0.8888888888888888,
             "#fdca26"
            ],
            [
             1,
             "#f0f921"
            ]
           ]
          },
          "colorway": [
           "#636efa",
           "#EF553B",
           "#00cc96",
           "#ab63fa",
           "#FFA15A",
           "#19d3f3",
           "#FF6692",
           "#B6E880",
           "#FF97FF",
           "#FECB52"
          ],
          "font": {
           "color": "#2a3f5f"
          },
          "geo": {
           "bgcolor": "white",
           "lakecolor": "white",
           "landcolor": "#E5ECF6",
           "showlakes": true,
           "showland": true,
           "subunitcolor": "white"
          },
          "hoverlabel": {
           "align": "left"
          },
          "hovermode": "closest",
          "mapbox": {
           "style": "light"
          },
          "paper_bgcolor": "white",
          "plot_bgcolor": "#E5ECF6",
          "polar": {
           "angularaxis": {
            "gridcolor": "white",
            "linecolor": "white",
            "ticks": ""
           },
           "bgcolor": "#E5ECF6",
           "radialaxis": {
            "gridcolor": "white",
            "linecolor": "white",
            "ticks": ""
           }
          },
          "scene": {
           "xaxis": {
            "backgroundcolor": "#E5ECF6",
            "gridcolor": "white",
            "gridwidth": 2,
            "linecolor": "white",
            "showbackground": true,
            "ticks": "",
            "zerolinecolor": "white"
           },
           "yaxis": {
            "backgroundcolor": "#E5ECF6",
            "gridcolor": "white",
            "gridwidth": 2,
            "linecolor": "white",
            "showbackground": true,
            "ticks": "",
            "zerolinecolor": "white"
           },
           "zaxis": {
            "backgroundcolor": "#E5ECF6",
            "gridcolor": "white",
            "gridwidth": 2,
            "linecolor": "white",
            "showbackground": true,
            "ticks": "",
            "zerolinecolor": "white"
           }
          },
          "shapedefaults": {
           "line": {
            "color": "#2a3f5f"
           }
          },
          "ternary": {
           "aaxis": {
            "gridcolor": "white",
            "linecolor": "white",
            "ticks": ""
           },
           "baxis": {
            "gridcolor": "white",
            "linecolor": "white",
            "ticks": ""
           },
           "bgcolor": "#E5ECF6",
           "caxis": {
            "gridcolor": "white",
            "linecolor": "white",
            "ticks": ""
           }
          },
          "title": {
           "x": 0.05
          },
          "xaxis": {
           "automargin": true,
           "gridcolor": "white",
           "linecolor": "white",
           "ticks": "",
           "title": {
            "standoff": 15
           },
           "zerolinecolor": "white",
           "zerolinewidth": 2
          },
          "yaxis": {
           "automargin": true,
           "gridcolor": "white",
           "linecolor": "white",
           "ticks": "",
           "title": {
            "standoff": 15
           },
           "zerolinecolor": "white",
           "zerolinewidth": 2
          }
         }
        },
        "title": {
         "text": "Feature importances for RandomForest for target hf_score"
        }
       }
      }
     },
     "metadata": {},
     "output_type": "display_data"
    },
    {
     "name": "stdout",
     "output_type": "stream",
     "text": [
      "Performing grid search for XGBoost Model\n",
      "Classification report for XGBoost model, hf_score\n",
      "              precision    recall  f1-score   support\n",
      "\n",
      "           0       1.00      1.00      1.00      1031\n",
      "           1       1.00      1.00      1.00        15\n",
      "\n",
      "    accuracy                           1.00      1046\n",
      "   macro avg       1.00      1.00      1.00      1046\n",
      "weighted avg       1.00      1.00      1.00      1046\n",
      "\n"
     ]
    },
    {
     "data": {
      "application/vnd.plotly.v1+json": {
       "config": {
        "plotlyServerURL": "https://plot.ly"
       },
       "data": [
        {
         "marker": {
          "color": "rgba(58, 71, 80, 0.6)",
          "line": {
           "color": "rgba(58, 71, 80, 1.0)",
           "width": 3
          }
         },
         "orientation": "h",
         "type": "bar",
         "x": [
          0.03686204552650452,
          0.03170394524931908,
          0.016244791448116302,
          0,
          0.02522367238998413,
          0.006751882378011942,
          0.006380001083016396,
          0.003294434165582061,
          0.018632102757692337,
          0,
          0.009546415880322456,
          0.005003397818654776,
          0.0050958688370883465,
          0.008465636521577835,
          0.0017349442932754755,
          0.5187637805938721,
          0.006860748399049044,
          0.016179325059056282,
          0.0038452635053545237,
          0,
          0,
          0.015754930675029755,
          0,
          0.022942854091525078,
          0.021177949383854866,
          0.00900388415902853,
          0.10688953101634979,
          0.0060030873864889145,
          0.02460472285747528,
          0.0008721733465790749,
          0.007011693436652422,
          0.018041348084807396,
          0.0014853192260488868,
          0.011247226037085056,
          0.00900201965123415,
          0.02259131707251072,
          0.0027837937232106924
         ],
         "y": [
          "pf_expression_cld",
          "ef_government",
          "ef_legal_military",
          "ef_gender",
          "ef_money_currency",
          "ef_trade_regulatory_nontariff",
          "ef_regulation_labor_firing",
          "ef_regulation_business_burden",
          "ef_regulation_business_impartial",
          "globalNorth",
          "ef_government_soa",
          "ef_legal_enforcement",
          "ef_regulation_labor_dismissal",
          "ef_legal_regulatory",
          "ef_legal_integrity",
          "ef_money_sd_data",
          "ef_legal_police",
          "ef_regulation_credit_ownership",
          "pf_ss_disappearances_disap",
          "pf_ss_disappearances_violent_data",
          "pf_ss_disappearances_fatalities",
          "pf_ss_disappearances",
          "pf_expression_direct_jailed_data",
          "pf_identity_divorce",
          "pf_identity_fgm",
          "ef_government_tax_income_data",
          "ef_money_sd",
          "ef_regulation_credit_private",
          "ef_regulation_credit_interest",
          "ef_regulation_credit",
          "ef_regulation_labor",
          "ef_regulation_business_adm",
          "ef_regulation_business_start",
          "ef_regulation_business_licensing",
          "ef_regulation_business_compliance",
          "ef_regulation_business",
          "ef_regulation"
         ]
        }
       ],
       "layout": {
        "template": {
         "data": {
          "bar": [
           {
            "error_x": {
             "color": "#2a3f5f"
            },
            "error_y": {
             "color": "#2a3f5f"
            },
            "marker": {
             "line": {
              "color": "#E5ECF6",
              "width": 0.5
             },
             "pattern": {
              "fillmode": "overlay",
              "size": 10,
              "solidity": 0.2
             }
            },
            "type": "bar"
           }
          ],
          "barpolar": [
           {
            "marker": {
             "line": {
              "color": "#E5ECF6",
              "width": 0.5
             },
             "pattern": {
              "fillmode": "overlay",
              "size": 10,
              "solidity": 0.2
             }
            },
            "type": "barpolar"
           }
          ],
          "carpet": [
           {
            "aaxis": {
             "endlinecolor": "#2a3f5f",
             "gridcolor": "white",
             "linecolor": "white",
             "minorgridcolor": "white",
             "startlinecolor": "#2a3f5f"
            },
            "baxis": {
             "endlinecolor": "#2a3f5f",
             "gridcolor": "white",
             "linecolor": "white",
             "minorgridcolor": "white",
             "startlinecolor": "#2a3f5f"
            },
            "type": "carpet"
           }
          ],
          "choropleth": [
           {
            "colorbar": {
             "outlinewidth": 0,
             "ticks": ""
            },
            "type": "choropleth"
           }
          ],
          "contour": [
           {
            "colorbar": {
             "outlinewidth": 0,
             "ticks": ""
            },
            "colorscale": [
             [
              0,
              "#0d0887"
             ],
             [
              0.1111111111111111,
              "#46039f"
             ],
             [
              0.2222222222222222,
              "#7201a8"
             ],
             [
              0.3333333333333333,
              "#9c179e"
             ],
             [
              0.4444444444444444,
              "#bd3786"
             ],
             [
              0.5555555555555556,
              "#d8576b"
             ],
             [
              0.6666666666666666,
              "#ed7953"
             ],
             [
              0.7777777777777778,
              "#fb9f3a"
             ],
             [
              0.8888888888888888,
              "#fdca26"
             ],
             [
              1,
              "#f0f921"
             ]
            ],
            "type": "contour"
           }
          ],
          "contourcarpet": [
           {
            "colorbar": {
             "outlinewidth": 0,
             "ticks": ""
            },
            "type": "contourcarpet"
           }
          ],
          "heatmap": [
           {
            "colorbar": {
             "outlinewidth": 0,
             "ticks": ""
            },
            "colorscale": [
             [
              0,
              "#0d0887"
             ],
             [
              0.1111111111111111,
              "#46039f"
             ],
             [
              0.2222222222222222,
              "#7201a8"
             ],
             [
              0.3333333333333333,
              "#9c179e"
             ],
             [
              0.4444444444444444,
              "#bd3786"
             ],
             [
              0.5555555555555556,
              "#d8576b"
             ],
             [
              0.6666666666666666,
              "#ed7953"
             ],
             [
              0.7777777777777778,
              "#fb9f3a"
             ],
             [
              0.8888888888888888,
              "#fdca26"
             ],
             [
              1,
              "#f0f921"
             ]
            ],
            "type": "heatmap"
           }
          ],
          "heatmapgl": [
           {
            "colorbar": {
             "outlinewidth": 0,
             "ticks": ""
            },
            "colorscale": [
             [
              0,
              "#0d0887"
             ],
             [
              0.1111111111111111,
              "#46039f"
             ],
             [
              0.2222222222222222,
              "#7201a8"
             ],
             [
              0.3333333333333333,
              "#9c179e"
             ],
             [
              0.4444444444444444,
              "#bd3786"
             ],
             [
              0.5555555555555556,
              "#d8576b"
             ],
             [
              0.6666666666666666,
              "#ed7953"
             ],
             [
              0.7777777777777778,
              "#fb9f3a"
             ],
             [
              0.8888888888888888,
              "#fdca26"
             ],
             [
              1,
              "#f0f921"
             ]
            ],
            "type": "heatmapgl"
           }
          ],
          "histogram": [
           {
            "marker": {
             "pattern": {
              "fillmode": "overlay",
              "size": 10,
              "solidity": 0.2
             }
            },
            "type": "histogram"
           }
          ],
          "histogram2d": [
           {
            "colorbar": {
             "outlinewidth": 0,
             "ticks": ""
            },
            "colorscale": [
             [
              0,
              "#0d0887"
             ],
             [
              0.1111111111111111,
              "#46039f"
             ],
             [
              0.2222222222222222,
              "#7201a8"
             ],
             [
              0.3333333333333333,
              "#9c179e"
             ],
             [
              0.4444444444444444,
              "#bd3786"
             ],
             [
              0.5555555555555556,
              "#d8576b"
             ],
             [
              0.6666666666666666,
              "#ed7953"
             ],
             [
              0.7777777777777778,
              "#fb9f3a"
             ],
             [
              0.8888888888888888,
              "#fdca26"
             ],
             [
              1,
              "#f0f921"
             ]
            ],
            "type": "histogram2d"
           }
          ],
          "histogram2dcontour": [
           {
            "colorbar": {
             "outlinewidth": 0,
             "ticks": ""
            },
            "colorscale": [
             [
              0,
              "#0d0887"
             ],
             [
              0.1111111111111111,
              "#46039f"
             ],
             [
              0.2222222222222222,
              "#7201a8"
             ],
             [
              0.3333333333333333,
              "#9c179e"
             ],
             [
              0.4444444444444444,
              "#bd3786"
             ],
             [
              0.5555555555555556,
              "#d8576b"
             ],
             [
              0.6666666666666666,
              "#ed7953"
             ],
             [
              0.7777777777777778,
              "#fb9f3a"
             ],
             [
              0.8888888888888888,
              "#fdca26"
             ],
             [
              1,
              "#f0f921"
             ]
            ],
            "type": "histogram2dcontour"
           }
          ],
          "mesh3d": [
           {
            "colorbar": {
             "outlinewidth": 0,
             "ticks": ""
            },
            "type": "mesh3d"
           }
          ],
          "parcoords": [
           {
            "line": {
             "colorbar": {
              "outlinewidth": 0,
              "ticks": ""
             }
            },
            "type": "parcoords"
           }
          ],
          "pie": [
           {
            "automargin": true,
            "type": "pie"
           }
          ],
          "scatter": [
           {
            "fillpattern": {
             "fillmode": "overlay",
             "size": 10,
             "solidity": 0.2
            },
            "type": "scatter"
           }
          ],
          "scatter3d": [
           {
            "line": {
             "colorbar": {
              "outlinewidth": 0,
              "ticks": ""
             }
            },
            "marker": {
             "colorbar": {
              "outlinewidth": 0,
              "ticks": ""
             }
            },
            "type": "scatter3d"
           }
          ],
          "scattercarpet": [
           {
            "marker": {
             "colorbar": {
              "outlinewidth": 0,
              "ticks": ""
             }
            },
            "type": "scattercarpet"
           }
          ],
          "scattergeo": [
           {
            "marker": {
             "colorbar": {
              "outlinewidth": 0,
              "ticks": ""
             }
            },
            "type": "scattergeo"
           }
          ],
          "scattergl": [
           {
            "marker": {
             "colorbar": {
              "outlinewidth": 0,
              "ticks": ""
             }
            },
            "type": "scattergl"
           }
          ],
          "scattermapbox": [
           {
            "marker": {
             "colorbar": {
              "outlinewidth": 0,
              "ticks": ""
             }
            },
            "type": "scattermapbox"
           }
          ],
          "scatterpolar": [
           {
            "marker": {
             "colorbar": {
              "outlinewidth": 0,
              "ticks": ""
             }
            },
            "type": "scatterpolar"
           }
          ],
          "scatterpolargl": [
           {
            "marker": {
             "colorbar": {
              "outlinewidth": 0,
              "ticks": ""
             }
            },
            "type": "scatterpolargl"
           }
          ],
          "scatterternary": [
           {
            "marker": {
             "colorbar": {
              "outlinewidth": 0,
              "ticks": ""
             }
            },
            "type": "scatterternary"
           }
          ],
          "surface": [
           {
            "colorbar": {
             "outlinewidth": 0,
             "ticks": ""
            },
            "colorscale": [
             [
              0,
              "#0d0887"
             ],
             [
              0.1111111111111111,
              "#46039f"
             ],
             [
              0.2222222222222222,
              "#7201a8"
             ],
             [
              0.3333333333333333,
              "#9c179e"
             ],
             [
              0.4444444444444444,
              "#bd3786"
             ],
             [
              0.5555555555555556,
              "#d8576b"
             ],
             [
              0.6666666666666666,
              "#ed7953"
             ],
             [
              0.7777777777777778,
              "#fb9f3a"
             ],
             [
              0.8888888888888888,
              "#fdca26"
             ],
             [
              1,
              "#f0f921"
             ]
            ],
            "type": "surface"
           }
          ],
          "table": [
           {
            "cells": {
             "fill": {
              "color": "#EBF0F8"
             },
             "line": {
              "color": "white"
             }
            },
            "header": {
             "fill": {
              "color": "#C8D4E3"
             },
             "line": {
              "color": "white"
             }
            },
            "type": "table"
           }
          ]
         },
         "layout": {
          "annotationdefaults": {
           "arrowcolor": "#2a3f5f",
           "arrowhead": 0,
           "arrowwidth": 1
          },
          "autotypenumbers": "strict",
          "coloraxis": {
           "colorbar": {
            "outlinewidth": 0,
            "ticks": ""
           }
          },
          "colorscale": {
           "diverging": [
            [
             0,
             "#8e0152"
            ],
            [
             0.1,
             "#c51b7d"
            ],
            [
             0.2,
             "#de77ae"
            ],
            [
             0.3,
             "#f1b6da"
            ],
            [
             0.4,
             "#fde0ef"
            ],
            [
             0.5,
             "#f7f7f7"
            ],
            [
             0.6,
             "#e6f5d0"
            ],
            [
             0.7,
             "#b8e186"
            ],
            [
             0.8,
             "#7fbc41"
            ],
            [
             0.9,
             "#4d9221"
            ],
            [
             1,
             "#276419"
            ]
           ],
           "sequential": [
            [
             0,
             "#0d0887"
            ],
            [
             0.1111111111111111,
             "#46039f"
            ],
            [
             0.2222222222222222,
             "#7201a8"
            ],
            [
             0.3333333333333333,
             "#9c179e"
            ],
            [
             0.4444444444444444,
             "#bd3786"
            ],
            [
             0.5555555555555556,
             "#d8576b"
            ],
            [
             0.6666666666666666,
             "#ed7953"
            ],
            [
             0.7777777777777778,
             "#fb9f3a"
            ],
            [
             0.8888888888888888,
             "#fdca26"
            ],
            [
             1,
             "#f0f921"
            ]
           ],
           "sequentialminus": [
            [
             0,
             "#0d0887"
            ],
            [
             0.1111111111111111,
             "#46039f"
            ],
            [
             0.2222222222222222,
             "#7201a8"
            ],
            [
             0.3333333333333333,
             "#9c179e"
            ],
            [
             0.4444444444444444,
             "#bd3786"
            ],
            [
             0.5555555555555556,
             "#d8576b"
            ],
            [
             0.6666666666666666,
             "#ed7953"
            ],
            [
             0.7777777777777778,
             "#fb9f3a"
            ],
            [
             0.8888888888888888,
             "#fdca26"
            ],
            [
             1,
             "#f0f921"
            ]
           ]
          },
          "colorway": [
           "#636efa",
           "#EF553B",
           "#00cc96",
           "#ab63fa",
           "#FFA15A",
           "#19d3f3",
           "#FF6692",
           "#B6E880",
           "#FF97FF",
           "#FECB52"
          ],
          "font": {
           "color": "#2a3f5f"
          },
          "geo": {
           "bgcolor": "white",
           "lakecolor": "white",
           "landcolor": "#E5ECF6",
           "showlakes": true,
           "showland": true,
           "subunitcolor": "white"
          },
          "hoverlabel": {
           "align": "left"
          },
          "hovermode": "closest",
          "mapbox": {
           "style": "light"
          },
          "paper_bgcolor": "white",
          "plot_bgcolor": "#E5ECF6",
          "polar": {
           "angularaxis": {
            "gridcolor": "white",
            "linecolor": "white",
            "ticks": ""
           },
           "bgcolor": "#E5ECF6",
           "radialaxis": {
            "gridcolor": "white",
            "linecolor": "white",
            "ticks": ""
           }
          },
          "scene": {
           "xaxis": {
            "backgroundcolor": "#E5ECF6",
            "gridcolor": "white",
            "gridwidth": 2,
            "linecolor": "white",
            "showbackground": true,
            "ticks": "",
            "zerolinecolor": "white"
           },
           "yaxis": {
            "backgroundcolor": "#E5ECF6",
            "gridcolor": "white",
            "gridwidth": 2,
            "linecolor": "white",
            "showbackground": true,
            "ticks": "",
            "zerolinecolor": "white"
           },
           "zaxis": {
            "backgroundcolor": "#E5ECF6",
            "gridcolor": "white",
            "gridwidth": 2,
            "linecolor": "white",
            "showbackground": true,
            "ticks": "",
            "zerolinecolor": "white"
           }
          },
          "shapedefaults": {
           "line": {
            "color": "#2a3f5f"
           }
          },
          "ternary": {
           "aaxis": {
            "gridcolor": "white",
            "linecolor": "white",
            "ticks": ""
           },
           "baxis": {
            "gridcolor": "white",
            "linecolor": "white",
            "ticks": ""
           },
           "bgcolor": "#E5ECF6",
           "caxis": {
            "gridcolor": "white",
            "linecolor": "white",
            "ticks": ""
           }
          },
          "title": {
           "x": 0.05
          },
          "xaxis": {
           "automargin": true,
           "gridcolor": "white",
           "linecolor": "white",
           "ticks": "",
           "title": {
            "standoff": 15
           },
           "zerolinecolor": "white",
           "zerolinewidth": 2
          },
          "yaxis": {
           "automargin": true,
           "gridcolor": "white",
           "linecolor": "white",
           "ticks": "",
           "title": {
            "standoff": 15
           },
           "zerolinecolor": "white",
           "zerolinewidth": 2
          }
         }
        },
        "title": {
         "text": "Feature importances for XGBoost for target hf_score"
        }
       }
      }
     },
     "metadata": {},
     "output_type": "display_data"
    },
    {
     "name": "stdout",
     "output_type": "stream",
     "text": [
      "Performing grid search for models for pf_expression_bti\n",
      "Performing grid search for Random Forest Model\n",
      "Classification report for Random Forest model, pf_expression_bti\n",
      "              precision    recall  f1-score   support\n",
      "\n",
      "           0       0.95      0.98      0.97       781\n",
      "           1       0.94      0.85      0.89       265\n",
      "\n",
      "    accuracy                           0.95      1046\n",
      "   macro avg       0.95      0.91      0.93      1046\n",
      "weighted avg       0.95      0.95      0.95      1046\n",
      "\n"
     ]
    },
    {
     "data": {
      "application/vnd.plotly.v1+json": {
       "config": {
        "plotlyServerURL": "https://plot.ly"
       },
       "data": [
        {
         "marker": {
          "color": "rgba(58, 71, 80, 0.6)",
          "line": {
           "color": "rgba(58, 71, 80, 1.0)",
           "width": 3
          }
         },
         "orientation": "h",
         "type": "bar",
         "x": [
          0.030097456279872835,
          0.04905207972123939,
          0.00491887296396729,
          0.02198987406703224,
          0.0326818328038033,
          0.10977406019602762,
          0.02827445561578121,
          0.02586625065078501,
          0.01748003193322506,
          0.008836192144978161,
          0.027462132020259024,
          0.026542324387285484,
          0.02104404770396658,
          0.06546519190050004,
          0.019469525534461525,
          0.03784674765272722,
          0.07840555113021314,
          0.0076044233352504775,
          0.009130578809226809,
          0.002459649117912866,
          0.0006889427705465666,
          0.003799487487707792,
          0.004577998506407619,
          0.002790666676710063,
          0.0035488098669808985,
          0.04010426516550367,
          0.006187429745600562,
          0.03771643900071012,
          0.010190129890768444,
          0.02692184716795553,
          0.014606149381435384,
          0.02021061561468328,
          0.01180927786016514,
          0.012614742686507842,
          0.015499871408402711,
          0.017093363136462727,
          0.008366022281708,
          0.011718778214297107,
          0.012927957915234998,
          0.007071747084779681,
          0.008957968780490202,
          0.009861717360272214,
          0.01060642185132347,
          0.00923115167994951,
          0.02097294676434825,
          0.025099848059551174,
          0.022424125672981996
         ],
         "y": [
          "pf_ss_disappearances_organized",
          "pf_ss",
          "pf_expression_direct_killed_data",
          "ef_government",
          "ef_legal_military",
          "ef_legal_integrity",
          "ef_money_inflation",
          "ef_regulation_labor_bargain",
          "ef_regulation_labor",
          "globalNorth",
          "ef_government_soa",
          "ef_legal_enforcement",
          "ef_regulation_labor_dismissal",
          "ef_regulation_business_impartial",
          "ef_legal_regulatory",
          "ef_money_sd_data",
          "ef_legal_police",
          "ef_money_currency",
          "ef_regulation_credit_ownership",
          "pf_ss_disappearances_disap",
          "pf_ss_disappearances_violent",
          "pf_ss_disappearances_fatalities",
          "pf_ss_disappearances_fatalities_data",
          "pf_ss_disappearances_injuries",
          "pf_ss_disappearances_injuries_data",
          "pf_ss_disappearances",
          "pf_expression_direct_killed",
          "pf_expression_cld",
          "pf_identity_divorce",
          "ef_government_tax_income_data",
          "ef_government_tax_payroll_data",
          "ef_trade_tariffs_revenue",
          "ef_trade_tariffs_sd",
          "ef_trade_tariffs_sd_data",
          "ef_trade_tariffs",
          "ef_trade_regulatory_nontariff",
          "ef_trade_black",
          "ef_trade_movement_capital",
          "ef_trade_movement_visit",
          "ef_regulation_credit_private",
          "ef_regulation_credit",
          "ef_regulation_labor_minwage",
          "ef_regulation_labor_firing",
          "ef_regulation_labor_hours",
          "ef_regulation_labor_conscription",
          "ef_regulation_business",
          "ef_regulation"
         ]
        }
       ],
       "layout": {
        "template": {
         "data": {
          "bar": [
           {
            "error_x": {
             "color": "#2a3f5f"
            },
            "error_y": {
             "color": "#2a3f5f"
            },
            "marker": {
             "line": {
              "color": "#E5ECF6",
              "width": 0.5
             },
             "pattern": {
              "fillmode": "overlay",
              "size": 10,
              "solidity": 0.2
             }
            },
            "type": "bar"
           }
          ],
          "barpolar": [
           {
            "marker": {
             "line": {
              "color": "#E5ECF6",
              "width": 0.5
             },
             "pattern": {
              "fillmode": "overlay",
              "size": 10,
              "solidity": 0.2
             }
            },
            "type": "barpolar"
           }
          ],
          "carpet": [
           {
            "aaxis": {
             "endlinecolor": "#2a3f5f",
             "gridcolor": "white",
             "linecolor": "white",
             "minorgridcolor": "white",
             "startlinecolor": "#2a3f5f"
            },
            "baxis": {
             "endlinecolor": "#2a3f5f",
             "gridcolor": "white",
             "linecolor": "white",
             "minorgridcolor": "white",
             "startlinecolor": "#2a3f5f"
            },
            "type": "carpet"
           }
          ],
          "choropleth": [
           {
            "colorbar": {
             "outlinewidth": 0,
             "ticks": ""
            },
            "type": "choropleth"
           }
          ],
          "contour": [
           {
            "colorbar": {
             "outlinewidth": 0,
             "ticks": ""
            },
            "colorscale": [
             [
              0,
              "#0d0887"
             ],
             [
              0.1111111111111111,
              "#46039f"
             ],
             [
              0.2222222222222222,
              "#7201a8"
             ],
             [
              0.3333333333333333,
              "#9c179e"
             ],
             [
              0.4444444444444444,
              "#bd3786"
             ],
             [
              0.5555555555555556,
              "#d8576b"
             ],
             [
              0.6666666666666666,
              "#ed7953"
             ],
             [
              0.7777777777777778,
              "#fb9f3a"
             ],
             [
              0.8888888888888888,
              "#fdca26"
             ],
             [
              1,
              "#f0f921"
             ]
            ],
            "type": "contour"
           }
          ],
          "contourcarpet": [
           {
            "colorbar": {
             "outlinewidth": 0,
             "ticks": ""
            },
            "type": "contourcarpet"
           }
          ],
          "heatmap": [
           {
            "colorbar": {
             "outlinewidth": 0,
             "ticks": ""
            },
            "colorscale": [
             [
              0,
              "#0d0887"
             ],
             [
              0.1111111111111111,
              "#46039f"
             ],
             [
              0.2222222222222222,
              "#7201a8"
             ],
             [
              0.3333333333333333,
              "#9c179e"
             ],
             [
              0.4444444444444444,
              "#bd3786"
             ],
             [
              0.5555555555555556,
              "#d8576b"
             ],
             [
              0.6666666666666666,
              "#ed7953"
             ],
             [
              0.7777777777777778,
              "#fb9f3a"
             ],
             [
              0.8888888888888888,
              "#fdca26"
             ],
             [
              1,
              "#f0f921"
             ]
            ],
            "type": "heatmap"
           }
          ],
          "heatmapgl": [
           {
            "colorbar": {
             "outlinewidth": 0,
             "ticks": ""
            },
            "colorscale": [
             [
              0,
              "#0d0887"
             ],
             [
              0.1111111111111111,
              "#46039f"
             ],
             [
              0.2222222222222222,
              "#7201a8"
             ],
             [
              0.3333333333333333,
              "#9c179e"
             ],
             [
              0.4444444444444444,
              "#bd3786"
             ],
             [
              0.5555555555555556,
              "#d8576b"
             ],
             [
              0.6666666666666666,
              "#ed7953"
             ],
             [
              0.7777777777777778,
              "#fb9f3a"
             ],
             [
              0.8888888888888888,
              "#fdca26"
             ],
             [
              1,
              "#f0f921"
             ]
            ],
            "type": "heatmapgl"
           }
          ],
          "histogram": [
           {
            "marker": {
             "pattern": {
              "fillmode": "overlay",
              "size": 10,
              "solidity": 0.2
             }
            },
            "type": "histogram"
           }
          ],
          "histogram2d": [
           {
            "colorbar": {
             "outlinewidth": 0,
             "ticks": ""
            },
            "colorscale": [
             [
              0,
              "#0d0887"
             ],
             [
              0.1111111111111111,
              "#46039f"
             ],
             [
              0.2222222222222222,
              "#7201a8"
             ],
             [
              0.3333333333333333,
              "#9c179e"
             ],
             [
              0.4444444444444444,
              "#bd3786"
             ],
             [
              0.5555555555555556,
              "#d8576b"
             ],
             [
              0.6666666666666666,
              "#ed7953"
             ],
             [
              0.7777777777777778,
              "#fb9f3a"
             ],
             [
              0.8888888888888888,
              "#fdca26"
             ],
             [
              1,
              "#f0f921"
             ]
            ],
            "type": "histogram2d"
           }
          ],
          "histogram2dcontour": [
           {
            "colorbar": {
             "outlinewidth": 0,
             "ticks": ""
            },
            "colorscale": [
             [
              0,
              "#0d0887"
             ],
             [
              0.1111111111111111,
              "#46039f"
             ],
             [
              0.2222222222222222,
              "#7201a8"
             ],
             [
              0.3333333333333333,
              "#9c179e"
             ],
             [
              0.4444444444444444,
              "#bd3786"
             ],
             [
              0.5555555555555556,
              "#d8576b"
             ],
             [
              0.6666666666666666,
              "#ed7953"
             ],
             [
              0.7777777777777778,
              "#fb9f3a"
             ],
             [
              0.8888888888888888,
              "#fdca26"
             ],
             [
              1,
              "#f0f921"
             ]
            ],
            "type": "histogram2dcontour"
           }
          ],
          "mesh3d": [
           {
            "colorbar": {
             "outlinewidth": 0,
             "ticks": ""
            },
            "type": "mesh3d"
           }
          ],
          "parcoords": [
           {
            "line": {
             "colorbar": {
              "outlinewidth": 0,
              "ticks": ""
             }
            },
            "type": "parcoords"
           }
          ],
          "pie": [
           {
            "automargin": true,
            "type": "pie"
           }
          ],
          "scatter": [
           {
            "fillpattern": {
             "fillmode": "overlay",
             "size": 10,
             "solidity": 0.2
            },
            "type": "scatter"
           }
          ],
          "scatter3d": [
           {
            "line": {
             "colorbar": {
              "outlinewidth": 0,
              "ticks": ""
             }
            },
            "marker": {
             "colorbar": {
              "outlinewidth": 0,
              "ticks": ""
             }
            },
            "type": "scatter3d"
           }
          ],
          "scattercarpet": [
           {
            "marker": {
             "colorbar": {
              "outlinewidth": 0,
              "ticks": ""
             }
            },
            "type": "scattercarpet"
           }
          ],
          "scattergeo": [
           {
            "marker": {
             "colorbar": {
              "outlinewidth": 0,
              "ticks": ""
             }
            },
            "type": "scattergeo"
           }
          ],
          "scattergl": [
           {
            "marker": {
             "colorbar": {
              "outlinewidth": 0,
              "ticks": ""
             }
            },
            "type": "scattergl"
           }
          ],
          "scattermapbox": [
           {
            "marker": {
             "colorbar": {
              "outlinewidth": 0,
              "ticks": ""
             }
            },
            "type": "scattermapbox"
           }
          ],
          "scatterpolar": [
           {
            "marker": {
             "colorbar": {
              "outlinewidth": 0,
              "ticks": ""
             }
            },
            "type": "scatterpolar"
           }
          ],
          "scatterpolargl": [
           {
            "marker": {
             "colorbar": {
              "outlinewidth": 0,
              "ticks": ""
             }
            },
            "type": "scatterpolargl"
           }
          ],
          "scatterternary": [
           {
            "marker": {
             "colorbar": {
              "outlinewidth": 0,
              "ticks": ""
             }
            },
            "type": "scatterternary"
           }
          ],
          "surface": [
           {
            "colorbar": {
             "outlinewidth": 0,
             "ticks": ""
            },
            "colorscale": [
             [
              0,
              "#0d0887"
             ],
             [
              0.1111111111111111,
              "#46039f"
             ],
             [
              0.2222222222222222,
              "#7201a8"
             ],
             [
              0.3333333333333333,
              "#9c179e"
             ],
             [
              0.4444444444444444,
              "#bd3786"
             ],
             [
              0.5555555555555556,
              "#d8576b"
             ],
             [
              0.6666666666666666,
              "#ed7953"
             ],
             [
              0.7777777777777778,
              "#fb9f3a"
             ],
             [
              0.8888888888888888,
              "#fdca26"
             ],
             [
              1,
              "#f0f921"
             ]
            ],
            "type": "surface"
           }
          ],
          "table": [
           {
            "cells": {
             "fill": {
              "color": "#EBF0F8"
             },
             "line": {
              "color": "white"
             }
            },
            "header": {
             "fill": {
              "color": "#C8D4E3"
             },
             "line": {
              "color": "white"
             }
            },
            "type": "table"
           }
          ]
         },
         "layout": {
          "annotationdefaults": {
           "arrowcolor": "#2a3f5f",
           "arrowhead": 0,
           "arrowwidth": 1
          },
          "autotypenumbers": "strict",
          "coloraxis": {
           "colorbar": {
            "outlinewidth": 0,
            "ticks": ""
           }
          },
          "colorscale": {
           "diverging": [
            [
             0,
             "#8e0152"
            ],
            [
             0.1,
             "#c51b7d"
            ],
            [
             0.2,
             "#de77ae"
            ],
            [
             0.3,
             "#f1b6da"
            ],
            [
             0.4,
             "#fde0ef"
            ],
            [
             0.5,
             "#f7f7f7"
            ],
            [
             0.6,
             "#e6f5d0"
            ],
            [
             0.7,
             "#b8e186"
            ],
            [
             0.8,
             "#7fbc41"
            ],
            [
             0.9,
             "#4d9221"
            ],
            [
             1,
             "#276419"
            ]
           ],
           "sequential": [
            [
             0,
             "#0d0887"
            ],
            [
             0.1111111111111111,
             "#46039f"
            ],
            [
             0.2222222222222222,
             "#7201a8"
            ],
            [
             0.3333333333333333,
             "#9c179e"
            ],
            [
             0.4444444444444444,
             "#bd3786"
            ],
            [
             0.5555555555555556,
             "#d8576b"
            ],
            [
             0.6666666666666666,
             "#ed7953"
            ],
            [
             0.7777777777777778,
             "#fb9f3a"
            ],
            [
             0.8888888888888888,
             "#fdca26"
            ],
            [
             1,
             "#f0f921"
            ]
           ],
           "sequentialminus": [
            [
             0,
             "#0d0887"
            ],
            [
             0.1111111111111111,
             "#46039f"
            ],
            [
             0.2222222222222222,
             "#7201a8"
            ],
            [
             0.3333333333333333,
             "#9c179e"
            ],
            [
             0.4444444444444444,
             "#bd3786"
            ],
            [
             0.5555555555555556,
             "#d8576b"
            ],
            [
             0.6666666666666666,
             "#ed7953"
            ],
            [
             0.7777777777777778,
             "#fb9f3a"
            ],
            [
             0.8888888888888888,
             "#fdca26"
            ],
            [
             1,
             "#f0f921"
            ]
           ]
          },
          "colorway": [
           "#636efa",
           "#EF553B",
           "#00cc96",
           "#ab63fa",
           "#FFA15A",
           "#19d3f3",
           "#FF6692",
           "#B6E880",
           "#FF97FF",
           "#FECB52"
          ],
          "font": {
           "color": "#2a3f5f"
          },
          "geo": {
           "bgcolor": "white",
           "lakecolor": "white",
           "landcolor": "#E5ECF6",
           "showlakes": true,
           "showland": true,
           "subunitcolor": "white"
          },
          "hoverlabel": {
           "align": "left"
          },
          "hovermode": "closest",
          "mapbox": {
           "style": "light"
          },
          "paper_bgcolor": "white",
          "plot_bgcolor": "#E5ECF6",
          "polar": {
           "angularaxis": {
            "gridcolor": "white",
            "linecolor": "white",
            "ticks": ""
           },
           "bgcolor": "#E5ECF6",
           "radialaxis": {
            "gridcolor": "white",
            "linecolor": "white",
            "ticks": ""
           }
          },
          "scene": {
           "xaxis": {
            "backgroundcolor": "#E5ECF6",
            "gridcolor": "white",
            "gridwidth": 2,
            "linecolor": "white",
            "showbackground": true,
            "ticks": "",
            "zerolinecolor": "white"
           },
           "yaxis": {
            "backgroundcolor": "#E5ECF6",
            "gridcolor": "white",
            "gridwidth": 2,
            "linecolor": "white",
            "showbackground": true,
            "ticks": "",
            "zerolinecolor": "white"
           },
           "zaxis": {
            "backgroundcolor": "#E5ECF6",
            "gridcolor": "white",
            "gridwidth": 2,
            "linecolor": "white",
            "showbackground": true,
            "ticks": "",
            "zerolinecolor": "white"
           }
          },
          "shapedefaults": {
           "line": {
            "color": "#2a3f5f"
           }
          },
          "ternary": {
           "aaxis": {
            "gridcolor": "white",
            "linecolor": "white",
            "ticks": ""
           },
           "baxis": {
            "gridcolor": "white",
            "linecolor": "white",
            "ticks": ""
           },
           "bgcolor": "#E5ECF6",
           "caxis": {
            "gridcolor": "white",
            "linecolor": "white",
            "ticks": ""
           }
          },
          "title": {
           "x": 0.05
          },
          "xaxis": {
           "automargin": true,
           "gridcolor": "white",
           "linecolor": "white",
           "ticks": "",
           "title": {
            "standoff": 15
           },
           "zerolinecolor": "white",
           "zerolinewidth": 2
          },
          "yaxis": {
           "automargin": true,
           "gridcolor": "white",
           "linecolor": "white",
           "ticks": "",
           "title": {
            "standoff": 15
           },
           "zerolinecolor": "white",
           "zerolinewidth": 2
          }
         }
        },
        "title": {
         "text": "Feature importances for RandomForest for target pf_expression_bti"
        }
       }
      }
     },
     "metadata": {},
     "output_type": "display_data"
    },
    {
     "name": "stdout",
     "output_type": "stream",
     "text": [
      "Performing grid search for XGBoost Model\n",
      "Classification report for XGBoost model, pf_expression_bti\n",
      "              precision    recall  f1-score   support\n",
      "\n",
      "           0       0.98      0.98      0.98       781\n",
      "           1       0.95      0.94      0.95       265\n",
      "\n",
      "    accuracy                           0.97      1046\n",
      "   macro avg       0.97      0.96      0.96      1046\n",
      "weighted avg       0.97      0.97      0.97      1046\n",
      "\n"
     ]
    },
    {
     "data": {
      "application/vnd.plotly.v1+json": {
       "config": {
        "plotlyServerURL": "https://plot.ly"
       },
       "data": [
        {
         "marker": {
          "color": "rgba(58, 71, 80, 0.6)",
          "line": {
           "color": "rgba(58, 71, 80, 1.0)",
           "width": 3
          }
         },
         "orientation": "h",
         "type": "bar",
         "x": [
          0.01660042256116867,
          0.01443326473236084,
          0.033340513706207275,
          0.017395664006471634,
          0.014837156049907207,
          0.10556980967521667,
          0.035711370408535004,
          0.021244695410132408,
          0.011168897151947021,
          0.07996496558189392,
          0.0271297637373209,
          0.010912000201642513,
          0.013555187731981277,
          0.025899825617671013,
          0.014051942154765129,
          0.03660179302096367,
          0.02556520141661167,
          0.0041297138668596745,
          0.017362965270876884,
          0.0038661835715174675,
          0.01498402375727892,
          0.043283745646476746,
          0.03195991739630699,
          0.032023604959249496,
          0.035400714725255966,
          0.042796555906534195,
          0.023797107860445976,
          0.01695474609732628,
          0.013158950954675674,
          0.013162525370717049,
          0.011043042875826359,
          0.009546020068228245,
          0.0061708660796284676,
          0.009954219684004784,
          0.012669575400650501,
          0.015977296978235245,
          0.005011772736907005,
          0.010373897850513458,
          0.014949559234082699,
          0.005843768827617168,
          0.0029414005111902952,
          0.024532148614525795,
          0.00955185480415821,
          0.004905784502625465,
          0.0362466536462307,
          0.003991239238530397,
          0.019427627325057983
         ],
         "y": [
          "pf_ss_disappearances_organized",
          "pf_ss",
          "pf_expression_direct_killed_data",
          "ef_government",
          "ef_legal_military",
          "ef_legal_integrity",
          "ef_money_inflation",
          "ef_regulation_labor_bargain",
          "ef_regulation_labor",
          "globalNorth",
          "ef_government_soa",
          "ef_legal_enforcement",
          "ef_regulation_labor_dismissal",
          "ef_regulation_business_impartial",
          "ef_legal_regulatory",
          "ef_money_sd_data",
          "ef_legal_police",
          "ef_money_currency",
          "ef_regulation_credit_ownership",
          "pf_ss_disappearances_disap",
          "pf_ss_disappearances_violent",
          "pf_ss_disappearances_fatalities",
          "pf_ss_disappearances_fatalities_data",
          "pf_ss_disappearances_injuries",
          "pf_ss_disappearances_injuries_data",
          "pf_ss_disappearances",
          "pf_expression_direct_killed",
          "pf_expression_cld",
          "pf_identity_divorce",
          "ef_government_tax_income_data",
          "ef_government_tax_payroll_data",
          "ef_trade_tariffs_revenue",
          "ef_trade_tariffs_sd",
          "ef_trade_tariffs_sd_data",
          "ef_trade_tariffs",
          "ef_trade_regulatory_nontariff",
          "ef_trade_black",
          "ef_trade_movement_capital",
          "ef_trade_movement_visit",
          "ef_regulation_credit_private",
          "ef_regulation_credit",
          "ef_regulation_labor_minwage",
          "ef_regulation_labor_firing",
          "ef_regulation_labor_hours",
          "ef_regulation_labor_conscription",
          "ef_regulation_business",
          "ef_regulation"
         ]
        }
       ],
       "layout": {
        "template": {
         "data": {
          "bar": [
           {
            "error_x": {
             "color": "#2a3f5f"
            },
            "error_y": {
             "color": "#2a3f5f"
            },
            "marker": {
             "line": {
              "color": "#E5ECF6",
              "width": 0.5
             },
             "pattern": {
              "fillmode": "overlay",
              "size": 10,
              "solidity": 0.2
             }
            },
            "type": "bar"
           }
          ],
          "barpolar": [
           {
            "marker": {
             "line": {
              "color": "#E5ECF6",
              "width": 0.5
             },
             "pattern": {
              "fillmode": "overlay",
              "size": 10,
              "solidity": 0.2
             }
            },
            "type": "barpolar"
           }
          ],
          "carpet": [
           {
            "aaxis": {
             "endlinecolor": "#2a3f5f",
             "gridcolor": "white",
             "linecolor": "white",
             "minorgridcolor": "white",
             "startlinecolor": "#2a3f5f"
            },
            "baxis": {
             "endlinecolor": "#2a3f5f",
             "gridcolor": "white",
             "linecolor": "white",
             "minorgridcolor": "white",
             "startlinecolor": "#2a3f5f"
            },
            "type": "carpet"
           }
          ],
          "choropleth": [
           {
            "colorbar": {
             "outlinewidth": 0,
             "ticks": ""
            },
            "type": "choropleth"
           }
          ],
          "contour": [
           {
            "colorbar": {
             "outlinewidth": 0,
             "ticks": ""
            },
            "colorscale": [
             [
              0,
              "#0d0887"
             ],
             [
              0.1111111111111111,
              "#46039f"
             ],
             [
              0.2222222222222222,
              "#7201a8"
             ],
             [
              0.3333333333333333,
              "#9c179e"
             ],
             [
              0.4444444444444444,
              "#bd3786"
             ],
             [
              0.5555555555555556,
              "#d8576b"
             ],
             [
              0.6666666666666666,
              "#ed7953"
             ],
             [
              0.7777777777777778,
              "#fb9f3a"
             ],
             [
              0.8888888888888888,
              "#fdca26"
             ],
             [
              1,
              "#f0f921"
             ]
            ],
            "type": "contour"
           }
          ],
          "contourcarpet": [
           {
            "colorbar": {
             "outlinewidth": 0,
             "ticks": ""
            },
            "type": "contourcarpet"
           }
          ],
          "heatmap": [
           {
            "colorbar": {
             "outlinewidth": 0,
             "ticks": ""
            },
            "colorscale": [
             [
              0,
              "#0d0887"
             ],
             [
              0.1111111111111111,
              "#46039f"
             ],
             [
              0.2222222222222222,
              "#7201a8"
             ],
             [
              0.3333333333333333,
              "#9c179e"
             ],
             [
              0.4444444444444444,
              "#bd3786"
             ],
             [
              0.5555555555555556,
              "#d8576b"
             ],
             [
              0.6666666666666666,
              "#ed7953"
             ],
             [
              0.7777777777777778,
              "#fb9f3a"
             ],
             [
              0.8888888888888888,
              "#fdca26"
             ],
             [
              1,
              "#f0f921"
             ]
            ],
            "type": "heatmap"
           }
          ],
          "heatmapgl": [
           {
            "colorbar": {
             "outlinewidth": 0,
             "ticks": ""
            },
            "colorscale": [
             [
              0,
              "#0d0887"
             ],
             [
              0.1111111111111111,
              "#46039f"
             ],
             [
              0.2222222222222222,
              "#7201a8"
             ],
             [
              0.3333333333333333,
              "#9c179e"
             ],
             [
              0.4444444444444444,
              "#bd3786"
             ],
             [
              0.5555555555555556,
              "#d8576b"
             ],
             [
              0.6666666666666666,
              "#ed7953"
             ],
             [
              0.7777777777777778,
              "#fb9f3a"
             ],
             [
              0.8888888888888888,
              "#fdca26"
             ],
             [
              1,
              "#f0f921"
             ]
            ],
            "type": "heatmapgl"
           }
          ],
          "histogram": [
           {
            "marker": {
             "pattern": {
              "fillmode": "overlay",
              "size": 10,
              "solidity": 0.2
             }
            },
            "type": "histogram"
           }
          ],
          "histogram2d": [
           {
            "colorbar": {
             "outlinewidth": 0,
             "ticks": ""
            },
            "colorscale": [
             [
              0,
              "#0d0887"
             ],
             [
              0.1111111111111111,
              "#46039f"
             ],
             [
              0.2222222222222222,
              "#7201a8"
             ],
             [
              0.3333333333333333,
              "#9c179e"
             ],
             [
              0.4444444444444444,
              "#bd3786"
             ],
             [
              0.5555555555555556,
              "#d8576b"
             ],
             [
              0.6666666666666666,
              "#ed7953"
             ],
             [
              0.7777777777777778,
              "#fb9f3a"
             ],
             [
              0.8888888888888888,
              "#fdca26"
             ],
             [
              1,
              "#f0f921"
             ]
            ],
            "type": "histogram2d"
           }
          ],
          "histogram2dcontour": [
           {
            "colorbar": {
             "outlinewidth": 0,
             "ticks": ""
            },
            "colorscale": [
             [
              0,
              "#0d0887"
             ],
             [
              0.1111111111111111,
              "#46039f"
             ],
             [
              0.2222222222222222,
              "#7201a8"
             ],
             [
              0.3333333333333333,
              "#9c179e"
             ],
             [
              0.4444444444444444,
              "#bd3786"
             ],
             [
              0.5555555555555556,
              "#d8576b"
             ],
             [
              0.6666666666666666,
              "#ed7953"
             ],
             [
              0.7777777777777778,
              "#fb9f3a"
             ],
             [
              0.8888888888888888,
              "#fdca26"
             ],
             [
              1,
              "#f0f921"
             ]
            ],
            "type": "histogram2dcontour"
           }
          ],
          "mesh3d": [
           {
            "colorbar": {
             "outlinewidth": 0,
             "ticks": ""
            },
            "type": "mesh3d"
           }
          ],
          "parcoords": [
           {
            "line": {
             "colorbar": {
              "outlinewidth": 0,
              "ticks": ""
             }
            },
            "type": "parcoords"
           }
          ],
          "pie": [
           {
            "automargin": true,
            "type": "pie"
           }
          ],
          "scatter": [
           {
            "fillpattern": {
             "fillmode": "overlay",
             "size": 10,
             "solidity": 0.2
            },
            "type": "scatter"
           }
          ],
          "scatter3d": [
           {
            "line": {
             "colorbar": {
              "outlinewidth": 0,
              "ticks": ""
             }
            },
            "marker": {
             "colorbar": {
              "outlinewidth": 0,
              "ticks": ""
             }
            },
            "type": "scatter3d"
           }
          ],
          "scattercarpet": [
           {
            "marker": {
             "colorbar": {
              "outlinewidth": 0,
              "ticks": ""
             }
            },
            "type": "scattercarpet"
           }
          ],
          "scattergeo": [
           {
            "marker": {
             "colorbar": {
              "outlinewidth": 0,
              "ticks": ""
             }
            },
            "type": "scattergeo"
           }
          ],
          "scattergl": [
           {
            "marker": {
             "colorbar": {
              "outlinewidth": 0,
              "ticks": ""
             }
            },
            "type": "scattergl"
           }
          ],
          "scattermapbox": [
           {
            "marker": {
             "colorbar": {
              "outlinewidth": 0,
              "ticks": ""
             }
            },
            "type": "scattermapbox"
           }
          ],
          "scatterpolar": [
           {
            "marker": {
             "colorbar": {
              "outlinewidth": 0,
              "ticks": ""
             }
            },
            "type": "scatterpolar"
           }
          ],
          "scatterpolargl": [
           {
            "marker": {
             "colorbar": {
              "outlinewidth": 0,
              "ticks": ""
             }
            },
            "type": "scatterpolargl"
           }
          ],
          "scatterternary": [
           {
            "marker": {
             "colorbar": {
              "outlinewidth": 0,
              "ticks": ""
             }
            },
            "type": "scatterternary"
           }
          ],
          "surface": [
           {
            "colorbar": {
             "outlinewidth": 0,
             "ticks": ""
            },
            "colorscale": [
             [
              0,
              "#0d0887"
             ],
             [
              0.1111111111111111,
              "#46039f"
             ],
             [
              0.2222222222222222,
              "#7201a8"
             ],
             [
              0.3333333333333333,
              "#9c179e"
             ],
             [
              0.4444444444444444,
              "#bd3786"
             ],
             [
              0.5555555555555556,
              "#d8576b"
             ],
             [
              0.6666666666666666,
              "#ed7953"
             ],
             [
              0.7777777777777778,
              "#fb9f3a"
             ],
             [
              0.8888888888888888,
              "#fdca26"
             ],
             [
              1,
              "#f0f921"
             ]
            ],
            "type": "surface"
           }
          ],
          "table": [
           {
            "cells": {
             "fill": {
              "color": "#EBF0F8"
             },
             "line": {
              "color": "white"
             }
            },
            "header": {
             "fill": {
              "color": "#C8D4E3"
             },
             "line": {
              "color": "white"
             }
            },
            "type": "table"
           }
          ]
         },
         "layout": {
          "annotationdefaults": {
           "arrowcolor": "#2a3f5f",
           "arrowhead": 0,
           "arrowwidth": 1
          },
          "autotypenumbers": "strict",
          "coloraxis": {
           "colorbar": {
            "outlinewidth": 0,
            "ticks": ""
           }
          },
          "colorscale": {
           "diverging": [
            [
             0,
             "#8e0152"
            ],
            [
             0.1,
             "#c51b7d"
            ],
            [
             0.2,
             "#de77ae"
            ],
            [
             0.3,
             "#f1b6da"
            ],
            [
             0.4,
             "#fde0ef"
            ],
            [
             0.5,
             "#f7f7f7"
            ],
            [
             0.6,
             "#e6f5d0"
            ],
            [
             0.7,
             "#b8e186"
            ],
            [
             0.8,
             "#7fbc41"
            ],
            [
             0.9,
             "#4d9221"
            ],
            [
             1,
             "#276419"
            ]
           ],
           "sequential": [
            [
             0,
             "#0d0887"
            ],
            [
             0.1111111111111111,
             "#46039f"
            ],
            [
             0.2222222222222222,
             "#7201a8"
            ],
            [
             0.3333333333333333,
             "#9c179e"
            ],
            [
             0.4444444444444444,
             "#bd3786"
            ],
            [
             0.5555555555555556,
             "#d8576b"
            ],
            [
             0.6666666666666666,
             "#ed7953"
            ],
            [
             0.7777777777777778,
             "#fb9f3a"
            ],
            [
             0.8888888888888888,
             "#fdca26"
            ],
            [
             1,
             "#f0f921"
            ]
           ],
           "sequentialminus": [
            [
             0,
             "#0d0887"
            ],
            [
             0.1111111111111111,
             "#46039f"
            ],
            [
             0.2222222222222222,
             "#7201a8"
            ],
            [
             0.3333333333333333,
             "#9c179e"
            ],
            [
             0.4444444444444444,
             "#bd3786"
            ],
            [
             0.5555555555555556,
             "#d8576b"
            ],
            [
             0.6666666666666666,
             "#ed7953"
            ],
            [
             0.7777777777777778,
             "#fb9f3a"
            ],
            [
             0.8888888888888888,
             "#fdca26"
            ],
            [
             1,
             "#f0f921"
            ]
           ]
          },
          "colorway": [
           "#636efa",
           "#EF553B",
           "#00cc96",
           "#ab63fa",
           "#FFA15A",
           "#19d3f3",
           "#FF6692",
           "#B6E880",
           "#FF97FF",
           "#FECB52"
          ],
          "font": {
           "color": "#2a3f5f"
          },
          "geo": {
           "bgcolor": "white",
           "lakecolor": "white",
           "landcolor": "#E5ECF6",
           "showlakes": true,
           "showland": true,
           "subunitcolor": "white"
          },
          "hoverlabel": {
           "align": "left"
          },
          "hovermode": "closest",
          "mapbox": {
           "style": "light"
          },
          "paper_bgcolor": "white",
          "plot_bgcolor": "#E5ECF6",
          "polar": {
           "angularaxis": {
            "gridcolor": "white",
            "linecolor": "white",
            "ticks": ""
           },
           "bgcolor": "#E5ECF6",
           "radialaxis": {
            "gridcolor": "white",
            "linecolor": "white",
            "ticks": ""
           }
          },
          "scene": {
           "xaxis": {
            "backgroundcolor": "#E5ECF6",
            "gridcolor": "white",
            "gridwidth": 2,
            "linecolor": "white",
            "showbackground": true,
            "ticks": "",
            "zerolinecolor": "white"
           },
           "yaxis": {
            "backgroundcolor": "#E5ECF6",
            "gridcolor": "white",
            "gridwidth": 2,
            "linecolor": "white",
            "showbackground": true,
            "ticks": "",
            "zerolinecolor": "white"
           },
           "zaxis": {
            "backgroundcolor": "#E5ECF6",
            "gridcolor": "white",
            "gridwidth": 2,
            "linecolor": "white",
            "showbackground": true,
            "ticks": "",
            "zerolinecolor": "white"
           }
          },
          "shapedefaults": {
           "line": {
            "color": "#2a3f5f"
           }
          },
          "ternary": {
           "aaxis": {
            "gridcolor": "white",
            "linecolor": "white",
            "ticks": ""
           },
           "baxis": {
            "gridcolor": "white",
            "linecolor": "white",
            "ticks": ""
           },
           "bgcolor": "#E5ECF6",
           "caxis": {
            "gridcolor": "white",
            "linecolor": "white",
            "ticks": ""
           }
          },
          "title": {
           "x": 0.05
          },
          "xaxis": {
           "automargin": true,
           "gridcolor": "white",
           "linecolor": "white",
           "ticks": "",
           "title": {
            "standoff": 15
           },
           "zerolinecolor": "white",
           "zerolinewidth": 2
          },
          "yaxis": {
           "automargin": true,
           "gridcolor": "white",
           "linecolor": "white",
           "ticks": "",
           "title": {
            "standoff": 15
           },
           "zerolinecolor": "white",
           "zerolinewidth": 2
          }
         }
        },
        "title": {
         "text": "Feature importances for XGBoost for target pf_expression_bti"
        }
       }
      }
     },
     "metadata": {},
     "output_type": "display_data"
    },
    {
     "name": "stdout",
     "output_type": "stream",
     "text": [
      "Performing grid search for models for pf_rol_civil\n",
      "Performing grid search for Random Forest Model\n",
      "Classification report for Random Forest model, pf_rol_civil\n",
      "              precision    recall  f1-score   support\n",
      "\n",
      "           0       0.96      0.75      0.84       740\n",
      "           1       0.61      0.93      0.73       306\n",
      "\n",
      "    accuracy                           0.80      1046\n",
      "   macro avg       0.78      0.84      0.79      1046\n",
      "weighted avg       0.86      0.80      0.81      1046\n",
      "\n"
     ]
    },
    {
     "data": {
      "application/vnd.plotly.v1+json": {
       "config": {
        "plotlyServerURL": "https://plot.ly"
       },
       "data": [
        {
         "marker": {
          "color": "rgba(58, 71, 80, 0.6)",
          "line": {
           "color": "rgba(58, 71, 80, 1.0)",
           "width": 3
          }
         },
         "orientation": "h",
         "type": "bar",
         "x": [
          0.004443777632521632,
          0.0261176383880496,
          0.02715401132894273,
          0.01715970412289338,
          0.02730723433837407,
          0.022988757178275195,
          0.02719165282595193,
          0.02923335640062687,
          0.09966587024901473,
          0.00223081323561054,
          0.02706159931370227,
          0.026692545908119217,
          0.021152972607049746,
          0.04062079411210424,
          0.028641768331530645,
          0.039898097731121164,
          0.027306457779800987,
          0.006172554205406835,
          0.01142009311320284,
          0.006320712038409202,
          0.007073108521752465,
          0.007802210747895079,
          0.022509529309781392,
          0.016326740341439633,
          0.013494234673339614,
          0.008523668065185829,
          0.00614055839000645,
          0.007890054539030638,
          0.009377872899457719,
          0.013023745735443806,
          0.02596891926825156,
          0.017993109644537496,
          0.02162809796734688,
          0.01973691187102218,
          0.04903871214026701,
          0.02471672779376853,
          0.020246483868424422,
          0.0284719639456792,
          0.025624626502877314,
          0.007108560060189688,
          0.02414270876260865,
          0.024673055973470675,
          0.05362811722753045,
          0.026079870909985422
         ],
         "y": [
          "pf_ss_disappearances_violent",
          "pf_ss_disappearances",
          "ef_legal_enforcement",
          "ef_gender",
          "ef_trade_tariffs_revenue",
          "ef_trade_tariffs_revenue_data",
          "ef_regulation_labor_bargain",
          "ef_regulation_business_adm",
          "ef_regulation_business_start",
          "globalNorth",
          "ef_government_soa",
          "ef_regulation_labor_dismissal",
          "ef_regulation_business_impartial",
          "ef_legal_regulatory",
          "ef_legal_integrity",
          "ef_money_sd_data",
          "ef_legal_police",
          "ef_money_currency",
          "ef_regulation_credit_ownership",
          "pf_ss_disappearances_fatalities",
          "pf_ss_disappearances_fatalities_data",
          "pf_ss_disappearances_injuries_data",
          "pf_ss",
          "pf_expression_direct_killed",
          "pf_expression_direct_killed_data",
          "pf_expression_direct_jailed",
          "pf_expression_cld",
          "pf_identity_divorce",
          "pf_identity_fgm",
          "ef_legal_military",
          "ef_money_sd",
          "ef_money_inflation",
          "ef_money_inflation_data",
          "ef_trade_movement_capital",
          "ef_trade_movement_visit",
          "ef_regulation_credit",
          "ef_regulation_labor_minwage",
          "ef_regulation_labor_firing",
          "ef_regulation_labor_hours",
          "ef_regulation_labor_conscription",
          "ef_regulation_labor",
          "ef_regulation_business_burden",
          "ef_regulation_business_licensing",
          "ef_regulation_business"
         ]
        }
       ],
       "layout": {
        "template": {
         "data": {
          "bar": [
           {
            "error_x": {
             "color": "#2a3f5f"
            },
            "error_y": {
             "color": "#2a3f5f"
            },
            "marker": {
             "line": {
              "color": "#E5ECF6",
              "width": 0.5
             },
             "pattern": {
              "fillmode": "overlay",
              "size": 10,
              "solidity": 0.2
             }
            },
            "type": "bar"
           }
          ],
          "barpolar": [
           {
            "marker": {
             "line": {
              "color": "#E5ECF6",
              "width": 0.5
             },
             "pattern": {
              "fillmode": "overlay",
              "size": 10,
              "solidity": 0.2
             }
            },
            "type": "barpolar"
           }
          ],
          "carpet": [
           {
            "aaxis": {
             "endlinecolor": "#2a3f5f",
             "gridcolor": "white",
             "linecolor": "white",
             "minorgridcolor": "white",
             "startlinecolor": "#2a3f5f"
            },
            "baxis": {
             "endlinecolor": "#2a3f5f",
             "gridcolor": "white",
             "linecolor": "white",
             "minorgridcolor": "white",
             "startlinecolor": "#2a3f5f"
            },
            "type": "carpet"
           }
          ],
          "choropleth": [
           {
            "colorbar": {
             "outlinewidth": 0,
             "ticks": ""
            },
            "type": "choropleth"
           }
          ],
          "contour": [
           {
            "colorbar": {
             "outlinewidth": 0,
             "ticks": ""
            },
            "colorscale": [
             [
              0,
              "#0d0887"
             ],
             [
              0.1111111111111111,
              "#46039f"
             ],
             [
              0.2222222222222222,
              "#7201a8"
             ],
             [
              0.3333333333333333,
              "#9c179e"
             ],
             [
              0.4444444444444444,
              "#bd3786"
             ],
             [
              0.5555555555555556,
              "#d8576b"
             ],
             [
              0.6666666666666666,
              "#ed7953"
             ],
             [
              0.7777777777777778,
              "#fb9f3a"
             ],
             [
              0.8888888888888888,
              "#fdca26"
             ],
             [
              1,
              "#f0f921"
             ]
            ],
            "type": "contour"
           }
          ],
          "contourcarpet": [
           {
            "colorbar": {
             "outlinewidth": 0,
             "ticks": ""
            },
            "type": "contourcarpet"
           }
          ],
          "heatmap": [
           {
            "colorbar": {
             "outlinewidth": 0,
             "ticks": ""
            },
            "colorscale": [
             [
              0,
              "#0d0887"
             ],
             [
              0.1111111111111111,
              "#46039f"
             ],
             [
              0.2222222222222222,
              "#7201a8"
             ],
             [
              0.3333333333333333,
              "#9c179e"
             ],
             [
              0.4444444444444444,
              "#bd3786"
             ],
             [
              0.5555555555555556,
              "#d8576b"
             ],
             [
              0.6666666666666666,
              "#ed7953"
             ],
             [
              0.7777777777777778,
              "#fb9f3a"
             ],
             [
              0.8888888888888888,
              "#fdca26"
             ],
             [
              1,
              "#f0f921"
             ]
            ],
            "type": "heatmap"
           }
          ],
          "heatmapgl": [
           {
            "colorbar": {
             "outlinewidth": 0,
             "ticks": ""
            },
            "colorscale": [
             [
              0,
              "#0d0887"
             ],
             [
              0.1111111111111111,
              "#46039f"
             ],
             [
              0.2222222222222222,
              "#7201a8"
             ],
             [
              0.3333333333333333,
              "#9c179e"
             ],
             [
              0.4444444444444444,
              "#bd3786"
             ],
             [
              0.5555555555555556,
              "#d8576b"
             ],
             [
              0.6666666666666666,
              "#ed7953"
             ],
             [
              0.7777777777777778,
              "#fb9f3a"
             ],
             [
              0.8888888888888888,
              "#fdca26"
             ],
             [
              1,
              "#f0f921"
             ]
            ],
            "type": "heatmapgl"
           }
          ],
          "histogram": [
           {
            "marker": {
             "pattern": {
              "fillmode": "overlay",
              "size": 10,
              "solidity": 0.2
             }
            },
            "type": "histogram"
           }
          ],
          "histogram2d": [
           {
            "colorbar": {
             "outlinewidth": 0,
             "ticks": ""
            },
            "colorscale": [
             [
              0,
              "#0d0887"
             ],
             [
              0.1111111111111111,
              "#46039f"
             ],
             [
              0.2222222222222222,
              "#7201a8"
             ],
             [
              0.3333333333333333,
              "#9c179e"
             ],
             [
              0.4444444444444444,
              "#bd3786"
             ],
             [
              0.5555555555555556,
              "#d8576b"
             ],
             [
              0.6666666666666666,
              "#ed7953"
             ],
             [
              0.7777777777777778,
              "#fb9f3a"
             ],
             [
              0.8888888888888888,
              "#fdca26"
             ],
             [
              1,
              "#f0f921"
             ]
            ],
            "type": "histogram2d"
           }
          ],
          "histogram2dcontour": [
           {
            "colorbar": {
             "outlinewidth": 0,
             "ticks": ""
            },
            "colorscale": [
             [
              0,
              "#0d0887"
             ],
             [
              0.1111111111111111,
              "#46039f"
             ],
             [
              0.2222222222222222,
              "#7201a8"
             ],
             [
              0.3333333333333333,
              "#9c179e"
             ],
             [
              0.4444444444444444,
              "#bd3786"
             ],
             [
              0.5555555555555556,
              "#d8576b"
             ],
             [
              0.6666666666666666,
              "#ed7953"
             ],
             [
              0.7777777777777778,
              "#fb9f3a"
             ],
             [
              0.8888888888888888,
              "#fdca26"
             ],
             [
              1,
              "#f0f921"
             ]
            ],
            "type": "histogram2dcontour"
           }
          ],
          "mesh3d": [
           {
            "colorbar": {
             "outlinewidth": 0,
             "ticks": ""
            },
            "type": "mesh3d"
           }
          ],
          "parcoords": [
           {
            "line": {
             "colorbar": {
              "outlinewidth": 0,
              "ticks": ""
             }
            },
            "type": "parcoords"
           }
          ],
          "pie": [
           {
            "automargin": true,
            "type": "pie"
           }
          ],
          "scatter": [
           {
            "fillpattern": {
             "fillmode": "overlay",
             "size": 10,
             "solidity": 0.2
            },
            "type": "scatter"
           }
          ],
          "scatter3d": [
           {
            "line": {
             "colorbar": {
              "outlinewidth": 0,
              "ticks": ""
             }
            },
            "marker": {
             "colorbar": {
              "outlinewidth": 0,
              "ticks": ""
             }
            },
            "type": "scatter3d"
           }
          ],
          "scattercarpet": [
           {
            "marker": {
             "colorbar": {
              "outlinewidth": 0,
              "ticks": ""
             }
            },
            "type": "scattercarpet"
           }
          ],
          "scattergeo": [
           {
            "marker": {
             "colorbar": {
              "outlinewidth": 0,
              "ticks": ""
             }
            },
            "type": "scattergeo"
           }
          ],
          "scattergl": [
           {
            "marker": {
             "colorbar": {
              "outlinewidth": 0,
              "ticks": ""
             }
            },
            "type": "scattergl"
           }
          ],
          "scattermapbox": [
           {
            "marker": {
             "colorbar": {
              "outlinewidth": 0,
              "ticks": ""
             }
            },
            "type": "scattermapbox"
           }
          ],
          "scatterpolar": [
           {
            "marker": {
             "colorbar": {
              "outlinewidth": 0,
              "ticks": ""
             }
            },
            "type": "scatterpolar"
           }
          ],
          "scatterpolargl": [
           {
            "marker": {
             "colorbar": {
              "outlinewidth": 0,
              "ticks": ""
             }
            },
            "type": "scatterpolargl"
           }
          ],
          "scatterternary": [
           {
            "marker": {
             "colorbar": {
              "outlinewidth": 0,
              "ticks": ""
             }
            },
            "type": "scatterternary"
           }
          ],
          "surface": [
           {
            "colorbar": {
             "outlinewidth": 0,
             "ticks": ""
            },
            "colorscale": [
             [
              0,
              "#0d0887"
             ],
             [
              0.1111111111111111,
              "#46039f"
             ],
             [
              0.2222222222222222,
              "#7201a8"
             ],
             [
              0.3333333333333333,
              "#9c179e"
             ],
             [
              0.4444444444444444,
              "#bd3786"
             ],
             [
              0.5555555555555556,
              "#d8576b"
             ],
             [
              0.6666666666666666,
              "#ed7953"
             ],
             [
              0.7777777777777778,
              "#fb9f3a"
             ],
             [
              0.8888888888888888,
              "#fdca26"
             ],
             [
              1,
              "#f0f921"
             ]
            ],
            "type": "surface"
           }
          ],
          "table": [
           {
            "cells": {
             "fill": {
              "color": "#EBF0F8"
             },
             "line": {
              "color": "white"
             }
            },
            "header": {
             "fill": {
              "color": "#C8D4E3"
             },
             "line": {
              "color": "white"
             }
            },
            "type": "table"
           }
          ]
         },
         "layout": {
          "annotationdefaults": {
           "arrowcolor": "#2a3f5f",
           "arrowhead": 0,
           "arrowwidth": 1
          },
          "autotypenumbers": "strict",
          "coloraxis": {
           "colorbar": {
            "outlinewidth": 0,
            "ticks": ""
           }
          },
          "colorscale": {
           "diverging": [
            [
             0,
             "#8e0152"
            ],
            [
             0.1,
             "#c51b7d"
            ],
            [
             0.2,
             "#de77ae"
            ],
            [
             0.3,
             "#f1b6da"
            ],
            [
             0.4,
             "#fde0ef"
            ],
            [
             0.5,
             "#f7f7f7"
            ],
            [
             0.6,
             "#e6f5d0"
            ],
            [
             0.7,
             "#b8e186"
            ],
            [
             0.8,
             "#7fbc41"
            ],
            [
             0.9,
             "#4d9221"
            ],
            [
             1,
             "#276419"
            ]
           ],
           "sequential": [
            [
             0,
             "#0d0887"
            ],
            [
             0.1111111111111111,
             "#46039f"
            ],
            [
             0.2222222222222222,
             "#7201a8"
            ],
            [
             0.3333333333333333,
             "#9c179e"
            ],
            [
             0.4444444444444444,
             "#bd3786"
            ],
            [
             0.5555555555555556,
             "#d8576b"
            ],
            [
             0.6666666666666666,
             "#ed7953"
            ],
            [
             0.7777777777777778,
             "#fb9f3a"
            ],
            [
             0.8888888888888888,
             "#fdca26"
            ],
            [
             1,
             "#f0f921"
            ]
           ],
           "sequentialminus": [
            [
             0,
             "#0d0887"
            ],
            [
             0.1111111111111111,
             "#46039f"
            ],
            [
             0.2222222222222222,
             "#7201a8"
            ],
            [
             0.3333333333333333,
             "#9c179e"
            ],
            [
             0.4444444444444444,
             "#bd3786"
            ],
            [
             0.5555555555555556,
             "#d8576b"
            ],
            [
             0.6666666666666666,
             "#ed7953"
            ],
            [
             0.7777777777777778,
             "#fb9f3a"
            ],
            [
             0.8888888888888888,
             "#fdca26"
            ],
            [
             1,
             "#f0f921"
            ]
           ]
          },
          "colorway": [
           "#636efa",
           "#EF553B",
           "#00cc96",
           "#ab63fa",
           "#FFA15A",
           "#19d3f3",
           "#FF6692",
           "#B6E880",
           "#FF97FF",
           "#FECB52"
          ],
          "font": {
           "color": "#2a3f5f"
          },
          "geo": {
           "bgcolor": "white",
           "lakecolor": "white",
           "landcolor": "#E5ECF6",
           "showlakes": true,
           "showland": true,
           "subunitcolor": "white"
          },
          "hoverlabel": {
           "align": "left"
          },
          "hovermode": "closest",
          "mapbox": {
           "style": "light"
          },
          "paper_bgcolor": "white",
          "plot_bgcolor": "#E5ECF6",
          "polar": {
           "angularaxis": {
            "gridcolor": "white",
            "linecolor": "white",
            "ticks": ""
           },
           "bgcolor": "#E5ECF6",
           "radialaxis": {
            "gridcolor": "white",
            "linecolor": "white",
            "ticks": ""
           }
          },
          "scene": {
           "xaxis": {
            "backgroundcolor": "#E5ECF6",
            "gridcolor": "white",
            "gridwidth": 2,
            "linecolor": "white",
            "showbackground": true,
            "ticks": "",
            "zerolinecolor": "white"
           },
           "yaxis": {
            "backgroundcolor": "#E5ECF6",
            "gridcolor": "white",
            "gridwidth": 2,
            "linecolor": "white",
            "showbackground": true,
            "ticks": "",
            "zerolinecolor": "white"
           },
           "zaxis": {
            "backgroundcolor": "#E5ECF6",
            "gridcolor": "white",
            "gridwidth": 2,
            "linecolor": "white",
            "showbackground": true,
            "ticks": "",
            "zerolinecolor": "white"
           }
          },
          "shapedefaults": {
           "line": {
            "color": "#2a3f5f"
           }
          },
          "ternary": {
           "aaxis": {
            "gridcolor": "white",
            "linecolor": "white",
            "ticks": ""
           },
           "baxis": {
            "gridcolor": "white",
            "linecolor": "white",
            "ticks": ""
           },
           "bgcolor": "#E5ECF6",
           "caxis": {
            "gridcolor": "white",
            "linecolor": "white",
            "ticks": ""
           }
          },
          "title": {
           "x": 0.05
          },
          "xaxis": {
           "automargin": true,
           "gridcolor": "white",
           "linecolor": "white",
           "ticks": "",
           "title": {
            "standoff": 15
           },
           "zerolinecolor": "white",
           "zerolinewidth": 2
          },
          "yaxis": {
           "automargin": true,
           "gridcolor": "white",
           "linecolor": "white",
           "ticks": "",
           "title": {
            "standoff": 15
           },
           "zerolinecolor": "white",
           "zerolinewidth": 2
          }
         }
        },
        "title": {
         "text": "Feature importances for RandomForest for target pf_rol_civil"
        }
       }
      }
     },
     "metadata": {},
     "output_type": "display_data"
    },
    {
     "name": "stdout",
     "output_type": "stream",
     "text": [
      "Performing grid search for XGBoost Model\n",
      "Classification report for XGBoost model, pf_rol_civil\n",
      "              precision    recall  f1-score   support\n",
      "\n",
      "           0       0.93      0.80      0.86       740\n",
      "           1       0.63      0.85      0.73       306\n",
      "\n",
      "    accuracy                           0.81      1046\n",
      "   macro avg       0.78      0.82      0.79      1046\n",
      "weighted avg       0.84      0.81      0.82      1046\n",
      "\n"
     ]
    },
    {
     "data": {
      "application/vnd.plotly.v1+json": {
       "config": {
        "plotlyServerURL": "https://plot.ly"
       },
       "data": [
        {
         "marker": {
          "color": "rgba(58, 71, 80, 0.6)",
          "line": {
           "color": "rgba(58, 71, 80, 1.0)",
           "width": 3
          }
         },
         "orientation": "h",
         "type": "bar",
         "x": [
          0.010587059892714024,
          0.01685606688261032,
          0.02882497012615204,
          0.029032520949840546,
          0.015228341333568096,
          0.007968734949827194,
          0.02217448502779007,
          0.023826992139220238,
          0.07185646146535873,
          0.03366421163082123,
          0.02275627851486206,
          0.028600387275218964,
          0.022875964641571045,
          0.024679863825440407,
          0.02821926586329937,
          0.028903808444738388,
          0.024522673338651657,
          0.011908874846994877,
          0.027000846341252327,
          0.0080724461004138,
          0.00778420502319932,
          0.006634669378399849,
          0.01832982711493969,
          0.05257399007678032,
          0.009727226570248604,
          0.016591135412454605,
          0.01819739118218422,
          0.02572621963918209,
          0.03340842202305794,
          0.018467972055077553,
          0.02057100087404251,
          0.01134502049535513,
          0.008051104843616486,
          0.02866368368268013,
          0.024718159809708595,
          0.01837589405477047,
          0.02390044368803501,
          0.018558170646429062,
          0.03866288810968399,
          0.01471656747162342,
          0.02360760048031807,
          0.031226741150021553,
          0.026114629581570625,
          0.01648680865764618
         ],
         "y": [
          "pf_ss_disappearances_violent",
          "pf_ss_disappearances",
          "ef_legal_enforcement",
          "ef_gender",
          "ef_trade_tariffs_revenue",
          "ef_trade_tariffs_revenue_data",
          "ef_regulation_labor_bargain",
          "ef_regulation_business_adm",
          "ef_regulation_business_start",
          "globalNorth",
          "ef_government_soa",
          "ef_regulation_labor_dismissal",
          "ef_regulation_business_impartial",
          "ef_legal_regulatory",
          "ef_legal_integrity",
          "ef_money_sd_data",
          "ef_legal_police",
          "ef_money_currency",
          "ef_regulation_credit_ownership",
          "pf_ss_disappearances_fatalities",
          "pf_ss_disappearances_fatalities_data",
          "pf_ss_disappearances_injuries_data",
          "pf_ss",
          "pf_expression_direct_killed",
          "pf_expression_direct_killed_data",
          "pf_expression_direct_jailed",
          "pf_expression_cld",
          "pf_identity_divorce",
          "pf_identity_fgm",
          "ef_legal_military",
          "ef_money_sd",
          "ef_money_inflation",
          "ef_money_inflation_data",
          "ef_trade_movement_capital",
          "ef_trade_movement_visit",
          "ef_regulation_credit",
          "ef_regulation_labor_minwage",
          "ef_regulation_labor_firing",
          "ef_regulation_labor_hours",
          "ef_regulation_labor_conscription",
          "ef_regulation_labor",
          "ef_regulation_business_burden",
          "ef_regulation_business_licensing",
          "ef_regulation_business"
         ]
        }
       ],
       "layout": {
        "template": {
         "data": {
          "bar": [
           {
            "error_x": {
             "color": "#2a3f5f"
            },
            "error_y": {
             "color": "#2a3f5f"
            },
            "marker": {
             "line": {
              "color": "#E5ECF6",
              "width": 0.5
             },
             "pattern": {
              "fillmode": "overlay",
              "size": 10,
              "solidity": 0.2
             }
            },
            "type": "bar"
           }
          ],
          "barpolar": [
           {
            "marker": {
             "line": {
              "color": "#E5ECF6",
              "width": 0.5
             },
             "pattern": {
              "fillmode": "overlay",
              "size": 10,
              "solidity": 0.2
             }
            },
            "type": "barpolar"
           }
          ],
          "carpet": [
           {
            "aaxis": {
             "endlinecolor": "#2a3f5f",
             "gridcolor": "white",
             "linecolor": "white",
             "minorgridcolor": "white",
             "startlinecolor": "#2a3f5f"
            },
            "baxis": {
             "endlinecolor": "#2a3f5f",
             "gridcolor": "white",
             "linecolor": "white",
             "minorgridcolor": "white",
             "startlinecolor": "#2a3f5f"
            },
            "type": "carpet"
           }
          ],
          "choropleth": [
           {
            "colorbar": {
             "outlinewidth": 0,
             "ticks": ""
            },
            "type": "choropleth"
           }
          ],
          "contour": [
           {
            "colorbar": {
             "outlinewidth": 0,
             "ticks": ""
            },
            "colorscale": [
             [
              0,
              "#0d0887"
             ],
             [
              0.1111111111111111,
              "#46039f"
             ],
             [
              0.2222222222222222,
              "#7201a8"
             ],
             [
              0.3333333333333333,
              "#9c179e"
             ],
             [
              0.4444444444444444,
              "#bd3786"
             ],
             [
              0.5555555555555556,
              "#d8576b"
             ],
             [
              0.6666666666666666,
              "#ed7953"
             ],
             [
              0.7777777777777778,
              "#fb9f3a"
             ],
             [
              0.8888888888888888,
              "#fdca26"
             ],
             [
              1,
              "#f0f921"
             ]
            ],
            "type": "contour"
           }
          ],
          "contourcarpet": [
           {
            "colorbar": {
             "outlinewidth": 0,
             "ticks": ""
            },
            "type": "contourcarpet"
           }
          ],
          "heatmap": [
           {
            "colorbar": {
             "outlinewidth": 0,
             "ticks": ""
            },
            "colorscale": [
             [
              0,
              "#0d0887"
             ],
             [
              0.1111111111111111,
              "#46039f"
             ],
             [
              0.2222222222222222,
              "#7201a8"
             ],
             [
              0.3333333333333333,
              "#9c179e"
             ],
             [
              0.4444444444444444,
              "#bd3786"
             ],
             [
              0.5555555555555556,
              "#d8576b"
             ],
             [
              0.6666666666666666,
              "#ed7953"
             ],
             [
              0.7777777777777778,
              "#fb9f3a"
             ],
             [
              0.8888888888888888,
              "#fdca26"
             ],
             [
              1,
              "#f0f921"
             ]
            ],
            "type": "heatmap"
           }
          ],
          "heatmapgl": [
           {
            "colorbar": {
             "outlinewidth": 0,
             "ticks": ""
            },
            "colorscale": [
             [
              0,
              "#0d0887"
             ],
             [
              0.1111111111111111,
              "#46039f"
             ],
             [
              0.2222222222222222,
              "#7201a8"
             ],
             [
              0.3333333333333333,
              "#9c179e"
             ],
             [
              0.4444444444444444,
              "#bd3786"
             ],
             [
              0.5555555555555556,
              "#d8576b"
             ],
             [
              0.6666666666666666,
              "#ed7953"
             ],
             [
              0.7777777777777778,
              "#fb9f3a"
             ],
             [
              0.8888888888888888,
              "#fdca26"
             ],
             [
              1,
              "#f0f921"
             ]
            ],
            "type": "heatmapgl"
           }
          ],
          "histogram": [
           {
            "marker": {
             "pattern": {
              "fillmode": "overlay",
              "size": 10,
              "solidity": 0.2
             }
            },
            "type": "histogram"
           }
          ],
          "histogram2d": [
           {
            "colorbar": {
             "outlinewidth": 0,
             "ticks": ""
            },
            "colorscale": [
             [
              0,
              "#0d0887"
             ],
             [
              0.1111111111111111,
              "#46039f"
             ],
             [
              0.2222222222222222,
              "#7201a8"
             ],
             [
              0.3333333333333333,
              "#9c179e"
             ],
             [
              0.4444444444444444,
              "#bd3786"
             ],
             [
              0.5555555555555556,
              "#d8576b"
             ],
             [
              0.6666666666666666,
              "#ed7953"
             ],
             [
              0.7777777777777778,
              "#fb9f3a"
             ],
             [
              0.8888888888888888,
              "#fdca26"
             ],
             [
              1,
              "#f0f921"
             ]
            ],
            "type": "histogram2d"
           }
          ],
          "histogram2dcontour": [
           {
            "colorbar": {
             "outlinewidth": 0,
             "ticks": ""
            },
            "colorscale": [
             [
              0,
              "#0d0887"
             ],
             [
              0.1111111111111111,
              "#46039f"
             ],
             [
              0.2222222222222222,
              "#7201a8"
             ],
             [
              0.3333333333333333,
              "#9c179e"
             ],
             [
              0.4444444444444444,
              "#bd3786"
             ],
             [
              0.5555555555555556,
              "#d8576b"
             ],
             [
              0.6666666666666666,
              "#ed7953"
             ],
             [
              0.7777777777777778,
              "#fb9f3a"
             ],
             [
              0.8888888888888888,
              "#fdca26"
             ],
             [
              1,
              "#f0f921"
             ]
            ],
            "type": "histogram2dcontour"
           }
          ],
          "mesh3d": [
           {
            "colorbar": {
             "outlinewidth": 0,
             "ticks": ""
            },
            "type": "mesh3d"
           }
          ],
          "parcoords": [
           {
            "line": {
             "colorbar": {
              "outlinewidth": 0,
              "ticks": ""
             }
            },
            "type": "parcoords"
           }
          ],
          "pie": [
           {
            "automargin": true,
            "type": "pie"
           }
          ],
          "scatter": [
           {
            "fillpattern": {
             "fillmode": "overlay",
             "size": 10,
             "solidity": 0.2
            },
            "type": "scatter"
           }
          ],
          "scatter3d": [
           {
            "line": {
             "colorbar": {
              "outlinewidth": 0,
              "ticks": ""
             }
            },
            "marker": {
             "colorbar": {
              "outlinewidth": 0,
              "ticks": ""
             }
            },
            "type": "scatter3d"
           }
          ],
          "scattercarpet": [
           {
            "marker": {
             "colorbar": {
              "outlinewidth": 0,
              "ticks": ""
             }
            },
            "type": "scattercarpet"
           }
          ],
          "scattergeo": [
           {
            "marker": {
             "colorbar": {
              "outlinewidth": 0,
              "ticks": ""
             }
            },
            "type": "scattergeo"
           }
          ],
          "scattergl": [
           {
            "marker": {
             "colorbar": {
              "outlinewidth": 0,
              "ticks": ""
             }
            },
            "type": "scattergl"
           }
          ],
          "scattermapbox": [
           {
            "marker": {
             "colorbar": {
              "outlinewidth": 0,
              "ticks": ""
             }
            },
            "type": "scattermapbox"
           }
          ],
          "scatterpolar": [
           {
            "marker": {
             "colorbar": {
              "outlinewidth": 0,
              "ticks": ""
             }
            },
            "type": "scatterpolar"
           }
          ],
          "scatterpolargl": [
           {
            "marker": {
             "colorbar": {
              "outlinewidth": 0,
              "ticks": ""
             }
            },
            "type": "scatterpolargl"
           }
          ],
          "scatterternary": [
           {
            "marker": {
             "colorbar": {
              "outlinewidth": 0,
              "ticks": ""
             }
            },
            "type": "scatterternary"
           }
          ],
          "surface": [
           {
            "colorbar": {
             "outlinewidth": 0,
             "ticks": ""
            },
            "colorscale": [
             [
              0,
              "#0d0887"
             ],
             [
              0.1111111111111111,
              "#46039f"
             ],
             [
              0.2222222222222222,
              "#7201a8"
             ],
             [
              0.3333333333333333,
              "#9c179e"
             ],
             [
              0.4444444444444444,
              "#bd3786"
             ],
             [
              0.5555555555555556,
              "#d8576b"
             ],
             [
              0.6666666666666666,
              "#ed7953"
             ],
             [
              0.7777777777777778,
              "#fb9f3a"
             ],
             [
              0.8888888888888888,
              "#fdca26"
             ],
             [
              1,
              "#f0f921"
             ]
            ],
            "type": "surface"
           }
          ],
          "table": [
           {
            "cells": {
             "fill": {
              "color": "#EBF0F8"
             },
             "line": {
              "color": "white"
             }
            },
            "header": {
             "fill": {
              "color": "#C8D4E3"
             },
             "line": {
              "color": "white"
             }
            },
            "type": "table"
           }
          ]
         },
         "layout": {
          "annotationdefaults": {
           "arrowcolor": "#2a3f5f",
           "arrowhead": 0,
           "arrowwidth": 1
          },
          "autotypenumbers": "strict",
          "coloraxis": {
           "colorbar": {
            "outlinewidth": 0,
            "ticks": ""
           }
          },
          "colorscale": {
           "diverging": [
            [
             0,
             "#8e0152"
            ],
            [
             0.1,
             "#c51b7d"
            ],
            [
             0.2,
             "#de77ae"
            ],
            [
             0.3,
             "#f1b6da"
            ],
            [
             0.4,
             "#fde0ef"
            ],
            [
             0.5,
             "#f7f7f7"
            ],
            [
             0.6,
             "#e6f5d0"
            ],
            [
             0.7,
             "#b8e186"
            ],
            [
             0.8,
             "#7fbc41"
            ],
            [
             0.9,
             "#4d9221"
            ],
            [
             1,
             "#276419"
            ]
           ],
           "sequential": [
            [
             0,
             "#0d0887"
            ],
            [
             0.1111111111111111,
             "#46039f"
            ],
            [
             0.2222222222222222,
             "#7201a8"
            ],
            [
             0.3333333333333333,
             "#9c179e"
            ],
            [
             0.4444444444444444,
             "#bd3786"
            ],
            [
             0.5555555555555556,
             "#d8576b"
            ],
            [
             0.6666666666666666,
             "#ed7953"
            ],
            [
             0.7777777777777778,
             "#fb9f3a"
            ],
            [
             0.8888888888888888,
             "#fdca26"
            ],
            [
             1,
             "#f0f921"
            ]
           ],
           "sequentialminus": [
            [
             0,
             "#0d0887"
            ],
            [
             0.1111111111111111,
             "#46039f"
            ],
            [
             0.2222222222222222,
             "#7201a8"
            ],
            [
             0.3333333333333333,
             "#9c179e"
            ],
            [
             0.4444444444444444,
             "#bd3786"
            ],
            [
             0.5555555555555556,
             "#d8576b"
            ],
            [
             0.6666666666666666,
             "#ed7953"
            ],
            [
             0.7777777777777778,
             "#fb9f3a"
            ],
            [
             0.8888888888888888,
             "#fdca26"
            ],
            [
             1,
             "#f0f921"
            ]
           ]
          },
          "colorway": [
           "#636efa",
           "#EF553B",
           "#00cc96",
           "#ab63fa",
           "#FFA15A",
           "#19d3f3",
           "#FF6692",
           "#B6E880",
           "#FF97FF",
           "#FECB52"
          ],
          "font": {
           "color": "#2a3f5f"
          },
          "geo": {
           "bgcolor": "white",
           "lakecolor": "white",
           "landcolor": "#E5ECF6",
           "showlakes": true,
           "showland": true,
           "subunitcolor": "white"
          },
          "hoverlabel": {
           "align": "left"
          },
          "hovermode": "closest",
          "mapbox": {
           "style": "light"
          },
          "paper_bgcolor": "white",
          "plot_bgcolor": "#E5ECF6",
          "polar": {
           "angularaxis": {
            "gridcolor": "white",
            "linecolor": "white",
            "ticks": ""
           },
           "bgcolor": "#E5ECF6",
           "radialaxis": {
            "gridcolor": "white",
            "linecolor": "white",
            "ticks": ""
           }
          },
          "scene": {
           "xaxis": {
            "backgroundcolor": "#E5ECF6",
            "gridcolor": "white",
            "gridwidth": 2,
            "linecolor": "white",
            "showbackground": true,
            "ticks": "",
            "zerolinecolor": "white"
           },
           "yaxis": {
            "backgroundcolor": "#E5ECF6",
            "gridcolor": "white",
            "gridwidth": 2,
            "linecolor": "white",
            "showbackground": true,
            "ticks": "",
            "zerolinecolor": "white"
           },
           "zaxis": {
            "backgroundcolor": "#E5ECF6",
            "gridcolor": "white",
            "gridwidth": 2,
            "linecolor": "white",
            "showbackground": true,
            "ticks": "",
            "zerolinecolor": "white"
           }
          },
          "shapedefaults": {
           "line": {
            "color": "#2a3f5f"
           }
          },
          "ternary": {
           "aaxis": {
            "gridcolor": "white",
            "linecolor": "white",
            "ticks": ""
           },
           "baxis": {
            "gridcolor": "white",
            "linecolor": "white",
            "ticks": ""
           },
           "bgcolor": "#E5ECF6",
           "caxis": {
            "gridcolor": "white",
            "linecolor": "white",
            "ticks": ""
           }
          },
          "title": {
           "x": 0.05
          },
          "xaxis": {
           "automargin": true,
           "gridcolor": "white",
           "linecolor": "white",
           "ticks": "",
           "title": {
            "standoff": 15
           },
           "zerolinecolor": "white",
           "zerolinewidth": 2
          },
          "yaxis": {
           "automargin": true,
           "gridcolor": "white",
           "linecolor": "white",
           "ticks": "",
           "title": {
            "standoff": 15
           },
           "zerolinecolor": "white",
           "zerolinewidth": 2
          }
         }
        },
        "title": {
         "text": "Feature importances for XGBoost for target pf_rol_civil"
        }
       }
      }
     },
     "metadata": {},
     "output_type": "display_data"
    }
   ],
   "source": [
    "# Initialize dictionaries to store the best models\n",
    "best_models_rf = {}\n",
    "best_models_xgb = {}\n",
    "\n",
    "# Define the grids of hyperparameters to search over\n",
    "rf_params = {\n",
    "    'n_estimators': [100, 200, 300],\n",
    "    'max_depth': [None, 2, 4, 6],\n",
    "    'min_samples_split': [2, 5, 10]\n",
    "}\n",
    "\n",
    "xgb_params = {\n",
    "    'n_estimators': [100, 200, 300],\n",
    "    'learning_rate': [0.01, 0.05, 0.1],\n",
    "    'max_depth': [3, 5, 7],\n",
    "    'gamma': [0, 0.1, 0.2]\n",
    "}\n",
    "\n",
    "for target in selected_features_dict.keys():\n",
    "    print(f\"Performing grid search for models for {target}\")\n",
    "\n",
    "    # Get the best features for the target\n",
    "    best_features = list(selected_features_dict[target].keys())\n",
    "\n",
    "    # Subset X_train and X_test to only include the best features\n",
    "    X_train_best = X_train[best_features]\n",
    "    X_test_best = X_test[best_features]\n",
    "\n",
    "    # Perform grid search for the Random Forest model\n",
    "    print(\"Performing grid search for Random Forest Model\")\n",
    "    rf_grid = GridSearchCV(RandomForestClassifier(random_state=0), rf_params, cv=5)\n",
    "    rf_grid.fit(X_train_best, y_train[target])\n",
    "\n",
    "    # Store the best model\n",
    "    best_models_rf[target] = rf_grid.best_estimator_\n",
    "    \n",
    "    # Random Forest model\n",
    "    print(f\"Classification report for Random Forest model, {target}\")\n",
    "    y_pred_rf = best_models_rf[target].predict(X_test_best)\n",
    "    print(classification_report(y_test[target], y_pred_rf))\n",
    "\n",
    "    # Plot feature importance\n",
    "    importances = best_models_rf[target].feature_importances_\n",
    "    fig = go.Figure(go.Bar(\n",
    "        x=importances, \n",
    "        y=best_features, \n",
    "        orientation='h',\n",
    "        marker=dict(\n",
    "            color='rgba(58, 71, 80, 0.6)',\n",
    "            line=dict(color='rgba(58, 71, 80, 1.0)', width=3)\n",
    "        )\n",
    "    ))\n",
    "    fig.update_layout(title_text=f'Feature importances for RandomForest for target {target}')\n",
    "    fig.show()\n",
    "\n",
    "    # Perform grid search for the XGBoost model\n",
    "    print(\"Performing grid search for XGBoost Model\")\n",
    "    xgb_grid = GridSearchCV(XGBClassifier(use_label_encoder=False, eval_metric=\"logloss\"), xgb_params, cv=5)\n",
    "    xgb_grid.fit(X_train_best, y_train[target])\n",
    "\n",
    "    # Store the best model\n",
    "    best_models_xgb[target] = xgb_grid.best_estimator_\n",
    "\n",
    "    # XGBoost model\n",
    "    print(f\"Classification report for XGBoost model, {target}\")\n",
    "    y_pred_xgb = best_models_xgb[target].predict(X_test_best)\n",
    "    print(classification_report(y_test[target], y_pred_xgb))\n",
    "    \n",
    "    # Plot feature importance\n",
    "    importances = best_models_xgb[target].feature_importances_\n",
    "    fig = go.Figure(go.Bar(\n",
    "        x=importances, \n",
    "        y=best_features, \n",
    "        orientation='h',\n",
    "        marker=dict(\n",
    "            color='rgba(58, 71, 80, 0.6)',\n",
    "            line=dict(color='rgba(58, 71, 80, 1.0)', width=3)\n",
    "        )\n",
    "    ))\n",
    "    fig.update_layout(title_text=f'Feature importances for XGBoost for target {target}')\n",
    "    fig.show()"
   ]
  },
  {
   "cell_type": "code",
   "execution_count": 19,
   "metadata": {},
   "outputs": [
    {
     "name": "stdout",
     "output_type": "stream",
     "text": [
      "Performing grid search for models for ef_score\n",
      "Performing grid search for AdaBoost Model\n",
      "Evaluating AdaBoost model using time-series cross-validation, ef_score\n",
      "Accuracy: 0.9936\n",
      "Precision: 1.0000\n",
      "Recall: 0.9245\n",
      "F1-score: 0.9588\n"
     ]
    },
    {
     "data": {
      "application/vnd.plotly.v1+json": {
       "config": {
        "plotlyServerURL": "https://plot.ly"
       },
       "data": [
        {
         "marker": {
          "color": "rgba(58, 71, 80, 0.6)",
          "line": {
           "color": "rgba(58, 71, 80, 1.0)",
           "width": 3
          }
         },
         "orientation": "h",
         "type": "bar",
         "x": [
          0,
          0.04,
          0.02,
          0,
          0.14,
          0,
          0.04,
          0,
          0.01,
          0,
          0.03,
          0.01,
          0.07,
          0,
          0.03,
          0.15,
          0.01,
          0.09,
          0,
          0,
          0.01,
          0.03,
          0.01,
          0,
          0.04,
          0.01,
          0.03,
          0.01,
          0.04,
          0.01,
          0.1,
          0.01,
          0,
          0.01,
          0,
          0,
          0.05
         ],
         "y": [
          "pf_expression_cld",
          "ef_government",
          "ef_legal_military",
          "ef_gender",
          "ef_money_currency",
          "ef_trade_regulatory_nontariff",
          "ef_regulation_labor_firing",
          "ef_regulation_business_burden",
          "ef_regulation_business_impartial",
          "globalNorth",
          "ef_government_soa",
          "ef_legal_enforcement",
          "ef_regulation_labor_dismissal",
          "ef_legal_regulatory",
          "ef_legal_integrity",
          "ef_money_sd_data",
          "ef_legal_police",
          "ef_regulation_credit_ownership",
          "pf_ss_disappearances_disap",
          "pf_ss_disappearances_violent_data",
          "pf_ss_disappearances_fatalities",
          "pf_ss_disappearances",
          "pf_expression_direct_jailed_data",
          "pf_identity_divorce",
          "pf_identity_fgm",
          "ef_government_tax_income_data",
          "ef_money_sd",
          "ef_regulation_credit_private",
          "ef_regulation_credit_interest",
          "ef_regulation_credit",
          "ef_regulation_labor",
          "ef_regulation_business_adm",
          "ef_regulation_business_start",
          "ef_regulation_business_licensing",
          "ef_regulation_business_compliance",
          "ef_regulation_business",
          "ef_regulation"
         ]
        }
       ],
       "layout": {
        "template": {
         "data": {
          "bar": [
           {
            "error_x": {
             "color": "#2a3f5f"
            },
            "error_y": {
             "color": "#2a3f5f"
            },
            "marker": {
             "line": {
              "color": "#E5ECF6",
              "width": 0.5
             },
             "pattern": {
              "fillmode": "overlay",
              "size": 10,
              "solidity": 0.2
             }
            },
            "type": "bar"
           }
          ],
          "barpolar": [
           {
            "marker": {
             "line": {
              "color": "#E5ECF6",
              "width": 0.5
             },
             "pattern": {
              "fillmode": "overlay",
              "size": 10,
              "solidity": 0.2
             }
            },
            "type": "barpolar"
           }
          ],
          "carpet": [
           {
            "aaxis": {
             "endlinecolor": "#2a3f5f",
             "gridcolor": "white",
             "linecolor": "white",
             "minorgridcolor": "white",
             "startlinecolor": "#2a3f5f"
            },
            "baxis": {
             "endlinecolor": "#2a3f5f",
             "gridcolor": "white",
             "linecolor": "white",
             "minorgridcolor": "white",
             "startlinecolor": "#2a3f5f"
            },
            "type": "carpet"
           }
          ],
          "choropleth": [
           {
            "colorbar": {
             "outlinewidth": 0,
             "ticks": ""
            },
            "type": "choropleth"
           }
          ],
          "contour": [
           {
            "colorbar": {
             "outlinewidth": 0,
             "ticks": ""
            },
            "colorscale": [
             [
              0,
              "#0d0887"
             ],
             [
              0.1111111111111111,
              "#46039f"
             ],
             [
              0.2222222222222222,
              "#7201a8"
             ],
             [
              0.3333333333333333,
              "#9c179e"
             ],
             [
              0.4444444444444444,
              "#bd3786"
             ],
             [
              0.5555555555555556,
              "#d8576b"
             ],
             [
              0.6666666666666666,
              "#ed7953"
             ],
             [
              0.7777777777777778,
              "#fb9f3a"
             ],
             [
              0.8888888888888888,
              "#fdca26"
             ],
             [
              1,
              "#f0f921"
             ]
            ],
            "type": "contour"
           }
          ],
          "contourcarpet": [
           {
            "colorbar": {
             "outlinewidth": 0,
             "ticks": ""
            },
            "type": "contourcarpet"
           }
          ],
          "heatmap": [
           {
            "colorbar": {
             "outlinewidth": 0,
             "ticks": ""
            },
            "colorscale": [
             [
              0,
              "#0d0887"
             ],
             [
              0.1111111111111111,
              "#46039f"
             ],
             [
              0.2222222222222222,
              "#7201a8"
             ],
             [
              0.3333333333333333,
              "#9c179e"
             ],
             [
              0.4444444444444444,
              "#bd3786"
             ],
             [
              0.5555555555555556,
              "#d8576b"
             ],
             [
              0.6666666666666666,
              "#ed7953"
             ],
             [
              0.7777777777777778,
              "#fb9f3a"
             ],
             [
              0.8888888888888888,
              "#fdca26"
             ],
             [
              1,
              "#f0f921"
             ]
            ],
            "type": "heatmap"
           }
          ],
          "heatmapgl": [
           {
            "colorbar": {
             "outlinewidth": 0,
             "ticks": ""
            },
            "colorscale": [
             [
              0,
              "#0d0887"
             ],
             [
              0.1111111111111111,
              "#46039f"
             ],
             [
              0.2222222222222222,
              "#7201a8"
             ],
             [
              0.3333333333333333,
              "#9c179e"
             ],
             [
              0.4444444444444444,
              "#bd3786"
             ],
             [
              0.5555555555555556,
              "#d8576b"
             ],
             [
              0.6666666666666666,
              "#ed7953"
             ],
             [
              0.7777777777777778,
              "#fb9f3a"
             ],
             [
              0.8888888888888888,
              "#fdca26"
             ],
             [
              1,
              "#f0f921"
             ]
            ],
            "type": "heatmapgl"
           }
          ],
          "histogram": [
           {
            "marker": {
             "pattern": {
              "fillmode": "overlay",
              "size": 10,
              "solidity": 0.2
             }
            },
            "type": "histogram"
           }
          ],
          "histogram2d": [
           {
            "colorbar": {
             "outlinewidth": 0,
             "ticks": ""
            },
            "colorscale": [
             [
              0,
              "#0d0887"
             ],
             [
              0.1111111111111111,
              "#46039f"
             ],
             [
              0.2222222222222222,
              "#7201a8"
             ],
             [
              0.3333333333333333,
              "#9c179e"
             ],
             [
              0.4444444444444444,
              "#bd3786"
             ],
             [
              0.5555555555555556,
              "#d8576b"
             ],
             [
              0.6666666666666666,
              "#ed7953"
             ],
             [
              0.7777777777777778,
              "#fb9f3a"
             ],
             [
              0.8888888888888888,
              "#fdca26"
             ],
             [
              1,
              "#f0f921"
             ]
            ],
            "type": "histogram2d"
           }
          ],
          "histogram2dcontour": [
           {
            "colorbar": {
             "outlinewidth": 0,
             "ticks": ""
            },
            "colorscale": [
             [
              0,
              "#0d0887"
             ],
             [
              0.1111111111111111,
              "#46039f"
             ],
             [
              0.2222222222222222,
              "#7201a8"
             ],
             [
              0.3333333333333333,
              "#9c179e"
             ],
             [
              0.4444444444444444,
              "#bd3786"
             ],
             [
              0.5555555555555556,
              "#d8576b"
             ],
             [
              0.6666666666666666,
              "#ed7953"
             ],
             [
              0.7777777777777778,
              "#fb9f3a"
             ],
             [
              0.8888888888888888,
              "#fdca26"
             ],
             [
              1,
              "#f0f921"
             ]
            ],
            "type": "histogram2dcontour"
           }
          ],
          "mesh3d": [
           {
            "colorbar": {
             "outlinewidth": 0,
             "ticks": ""
            },
            "type": "mesh3d"
           }
          ],
          "parcoords": [
           {
            "line": {
             "colorbar": {
              "outlinewidth": 0,
              "ticks": ""
             }
            },
            "type": "parcoords"
           }
          ],
          "pie": [
           {
            "automargin": true,
            "type": "pie"
           }
          ],
          "scatter": [
           {
            "fillpattern": {
             "fillmode": "overlay",
             "size": 10,
             "solidity": 0.2
            },
            "type": "scatter"
           }
          ],
          "scatter3d": [
           {
            "line": {
             "colorbar": {
              "outlinewidth": 0,
              "ticks": ""
             }
            },
            "marker": {
             "colorbar": {
              "outlinewidth": 0,
              "ticks": ""
             }
            },
            "type": "scatter3d"
           }
          ],
          "scattercarpet": [
           {
            "marker": {
             "colorbar": {
              "outlinewidth": 0,
              "ticks": ""
             }
            },
            "type": "scattercarpet"
           }
          ],
          "scattergeo": [
           {
            "marker": {
             "colorbar": {
              "outlinewidth": 0,
              "ticks": ""
             }
            },
            "type": "scattergeo"
           }
          ],
          "scattergl": [
           {
            "marker": {
             "colorbar": {
              "outlinewidth": 0,
              "ticks": ""
             }
            },
            "type": "scattergl"
           }
          ],
          "scattermapbox": [
           {
            "marker": {
             "colorbar": {
              "outlinewidth": 0,
              "ticks": ""
             }
            },
            "type": "scattermapbox"
           }
          ],
          "scatterpolar": [
           {
            "marker": {
             "colorbar": {
              "outlinewidth": 0,
              "ticks": ""
             }
            },
            "type": "scatterpolar"
           }
          ],
          "scatterpolargl": [
           {
            "marker": {
             "colorbar": {
              "outlinewidth": 0,
              "ticks": ""
             }
            },
            "type": "scatterpolargl"
           }
          ],
          "scatterternary": [
           {
            "marker": {
             "colorbar": {
              "outlinewidth": 0,
              "ticks": ""
             }
            },
            "type": "scatterternary"
           }
          ],
          "surface": [
           {
            "colorbar": {
             "outlinewidth": 0,
             "ticks": ""
            },
            "colorscale": [
             [
              0,
              "#0d0887"
             ],
             [
              0.1111111111111111,
              "#46039f"
             ],
             [
              0.2222222222222222,
              "#7201a8"
             ],
             [
              0.3333333333333333,
              "#9c179e"
             ],
             [
              0.4444444444444444,
              "#bd3786"
             ],
             [
              0.5555555555555556,
              "#d8576b"
             ],
             [
              0.6666666666666666,
              "#ed7953"
             ],
             [
              0.7777777777777778,
              "#fb9f3a"
             ],
             [
              0.8888888888888888,
              "#fdca26"
             ],
             [
              1,
              "#f0f921"
             ]
            ],
            "type": "surface"
           }
          ],
          "table": [
           {
            "cells": {
             "fill": {
              "color": "#EBF0F8"
             },
             "line": {
              "color": "white"
             }
            },
            "header": {
             "fill": {
              "color": "#C8D4E3"
             },
             "line": {
              "color": "white"
             }
            },
            "type": "table"
           }
          ]
         },
         "layout": {
          "annotationdefaults": {
           "arrowcolor": "#2a3f5f",
           "arrowhead": 0,
           "arrowwidth": 1
          },
          "autotypenumbers": "strict",
          "coloraxis": {
           "colorbar": {
            "outlinewidth": 0,
            "ticks": ""
           }
          },
          "colorscale": {
           "diverging": [
            [
             0,
             "#8e0152"
            ],
            [
             0.1,
             "#c51b7d"
            ],
            [
             0.2,
             "#de77ae"
            ],
            [
             0.3,
             "#f1b6da"
            ],
            [
             0.4,
             "#fde0ef"
            ],
            [
             0.5,
             "#f7f7f7"
            ],
            [
             0.6,
             "#e6f5d0"
            ],
            [
             0.7,
             "#b8e186"
            ],
            [
             0.8,
             "#7fbc41"
            ],
            [
             0.9,
             "#4d9221"
            ],
            [
             1,
             "#276419"
            ]
           ],
           "sequential": [
            [
             0,
             "#0d0887"
            ],
            [
             0.1111111111111111,
             "#46039f"
            ],
            [
             0.2222222222222222,
             "#7201a8"
            ],
            [
             0.3333333333333333,
             "#9c179e"
            ],
            [
             0.4444444444444444,
             "#bd3786"
            ],
            [
             0.5555555555555556,
             "#d8576b"
            ],
            [
             0.6666666666666666,
             "#ed7953"
            ],
            [
             0.7777777777777778,
             "#fb9f3a"
            ],
            [
             0.8888888888888888,
             "#fdca26"
            ],
            [
             1,
             "#f0f921"
            ]
           ],
           "sequentialminus": [
            [
             0,
             "#0d0887"
            ],
            [
             0.1111111111111111,
             "#46039f"
            ],
            [
             0.2222222222222222,
             "#7201a8"
            ],
            [
             0.3333333333333333,
             "#9c179e"
            ],
            [
             0.4444444444444444,
             "#bd3786"
            ],
            [
             0.5555555555555556,
             "#d8576b"
            ],
            [
             0.6666666666666666,
             "#ed7953"
            ],
            [
             0.7777777777777778,
             "#fb9f3a"
            ],
            [
             0.8888888888888888,
             "#fdca26"
            ],
            [
             1,
             "#f0f921"
            ]
           ]
          },
          "colorway": [
           "#636efa",
           "#EF553B",
           "#00cc96",
           "#ab63fa",
           "#FFA15A",
           "#19d3f3",
           "#FF6692",
           "#B6E880",
           "#FF97FF",
           "#FECB52"
          ],
          "font": {
           "color": "#2a3f5f"
          },
          "geo": {
           "bgcolor": "white",
           "lakecolor": "white",
           "landcolor": "#E5ECF6",
           "showlakes": true,
           "showland": true,
           "subunitcolor": "white"
          },
          "hoverlabel": {
           "align": "left"
          },
          "hovermode": "closest",
          "mapbox": {
           "style": "light"
          },
          "paper_bgcolor": "white",
          "plot_bgcolor": "#E5ECF6",
          "polar": {
           "angularaxis": {
            "gridcolor": "white",
            "linecolor": "white",
            "ticks": ""
           },
           "bgcolor": "#E5ECF6",
           "radialaxis": {
            "gridcolor": "white",
            "linecolor": "white",
            "ticks": ""
           }
          },
          "scene": {
           "xaxis": {
            "backgroundcolor": "#E5ECF6",
            "gridcolor": "white",
            "gridwidth": 2,
            "linecolor": "white",
            "showbackground": true,
            "ticks": "",
            "zerolinecolor": "white"
           },
           "yaxis": {
            "backgroundcolor": "#E5ECF6",
            "gridcolor": "white",
            "gridwidth": 2,
            "linecolor": "white",
            "showbackground": true,
            "ticks": "",
            "zerolinecolor": "white"
           },
           "zaxis": {
            "backgroundcolor": "#E5ECF6",
            "gridcolor": "white",
            "gridwidth": 2,
            "linecolor": "white",
            "showbackground": true,
            "ticks": "",
            "zerolinecolor": "white"
           }
          },
          "shapedefaults": {
           "line": {
            "color": "#2a3f5f"
           }
          },
          "ternary": {
           "aaxis": {
            "gridcolor": "white",
            "linecolor": "white",
            "ticks": ""
           },
           "baxis": {
            "gridcolor": "white",
            "linecolor": "white",
            "ticks": ""
           },
           "bgcolor": "#E5ECF6",
           "caxis": {
            "gridcolor": "white",
            "linecolor": "white",
            "ticks": ""
           }
          },
          "title": {
           "x": 0.05
          },
          "xaxis": {
           "automargin": true,
           "gridcolor": "white",
           "linecolor": "white",
           "ticks": "",
           "title": {
            "standoff": 15
           },
           "zerolinecolor": "white",
           "zerolinewidth": 2
          },
          "yaxis": {
           "automargin": true,
           "gridcolor": "white",
           "linecolor": "white",
           "ticks": "",
           "title": {
            "standoff": 15
           },
           "zerolinecolor": "white",
           "zerolinewidth": 2
          }
         }
        },
        "title": {
         "text": "Feature importances for AdaBoost for target ef_score"
        }
       }
      }
     },
     "metadata": {},
     "output_type": "display_data"
    },
    {
     "name": "stdout",
     "output_type": "stream",
     "text": [
      "Performing grid search for models for hf_score\n",
      "Performing grid search for AdaBoost Model\n",
      "Evaluating AdaBoost model using time-series cross-validation, hf_score\n",
      "Accuracy: 0.9936\n",
      "Precision: 1.0000\n",
      "Recall: 0.9245\n",
      "F1-score: 0.9588\n"
     ]
    },
    {
     "data": {
      "application/vnd.plotly.v1+json": {
       "config": {
        "plotlyServerURL": "https://plot.ly"
       },
       "data": [
        {
         "marker": {
          "color": "rgba(58, 71, 80, 0.6)",
          "line": {
           "color": "rgba(58, 71, 80, 1.0)",
           "width": 3
          }
         },
         "orientation": "h",
         "type": "bar",
         "x": [
          0,
          0.04,
          0.02,
          0,
          0.14,
          0,
          0.04,
          0,
          0.01,
          0,
          0.03,
          0.01,
          0.07,
          0,
          0.03,
          0.15,
          0.01,
          0.09,
          0,
          0,
          0.01,
          0.03,
          0.01,
          0,
          0.04,
          0.01,
          0.03,
          0.01,
          0.04,
          0.01,
          0.1,
          0.01,
          0,
          0.01,
          0,
          0,
          0.05
         ],
         "y": [
          "pf_expression_cld",
          "ef_government",
          "ef_legal_military",
          "ef_gender",
          "ef_money_currency",
          "ef_trade_regulatory_nontariff",
          "ef_regulation_labor_firing",
          "ef_regulation_business_burden",
          "ef_regulation_business_impartial",
          "globalNorth",
          "ef_government_soa",
          "ef_legal_enforcement",
          "ef_regulation_labor_dismissal",
          "ef_legal_regulatory",
          "ef_legal_integrity",
          "ef_money_sd_data",
          "ef_legal_police",
          "ef_regulation_credit_ownership",
          "pf_ss_disappearances_disap",
          "pf_ss_disappearances_violent_data",
          "pf_ss_disappearances_fatalities",
          "pf_ss_disappearances",
          "pf_expression_direct_jailed_data",
          "pf_identity_divorce",
          "pf_identity_fgm",
          "ef_government_tax_income_data",
          "ef_money_sd",
          "ef_regulation_credit_private",
          "ef_regulation_credit_interest",
          "ef_regulation_credit",
          "ef_regulation_labor",
          "ef_regulation_business_adm",
          "ef_regulation_business_start",
          "ef_regulation_business_licensing",
          "ef_regulation_business_compliance",
          "ef_regulation_business",
          "ef_regulation"
         ]
        }
       ],
       "layout": {
        "template": {
         "data": {
          "bar": [
           {
            "error_x": {
             "color": "#2a3f5f"
            },
            "error_y": {
             "color": "#2a3f5f"
            },
            "marker": {
             "line": {
              "color": "#E5ECF6",
              "width": 0.5
             },
             "pattern": {
              "fillmode": "overlay",
              "size": 10,
              "solidity": 0.2
             }
            },
            "type": "bar"
           }
          ],
          "barpolar": [
           {
            "marker": {
             "line": {
              "color": "#E5ECF6",
              "width": 0.5
             },
             "pattern": {
              "fillmode": "overlay",
              "size": 10,
              "solidity": 0.2
             }
            },
            "type": "barpolar"
           }
          ],
          "carpet": [
           {
            "aaxis": {
             "endlinecolor": "#2a3f5f",
             "gridcolor": "white",
             "linecolor": "white",
             "minorgridcolor": "white",
             "startlinecolor": "#2a3f5f"
            },
            "baxis": {
             "endlinecolor": "#2a3f5f",
             "gridcolor": "white",
             "linecolor": "white",
             "minorgridcolor": "white",
             "startlinecolor": "#2a3f5f"
            },
            "type": "carpet"
           }
          ],
          "choropleth": [
           {
            "colorbar": {
             "outlinewidth": 0,
             "ticks": ""
            },
            "type": "choropleth"
           }
          ],
          "contour": [
           {
            "colorbar": {
             "outlinewidth": 0,
             "ticks": ""
            },
            "colorscale": [
             [
              0,
              "#0d0887"
             ],
             [
              0.1111111111111111,
              "#46039f"
             ],
             [
              0.2222222222222222,
              "#7201a8"
             ],
             [
              0.3333333333333333,
              "#9c179e"
             ],
             [
              0.4444444444444444,
              "#bd3786"
             ],
             [
              0.5555555555555556,
              "#d8576b"
             ],
             [
              0.6666666666666666,
              "#ed7953"
             ],
             [
              0.7777777777777778,
              "#fb9f3a"
             ],
             [
              0.8888888888888888,
              "#fdca26"
             ],
             [
              1,
              "#f0f921"
             ]
            ],
            "type": "contour"
           }
          ],
          "contourcarpet": [
           {
            "colorbar": {
             "outlinewidth": 0,
             "ticks": ""
            },
            "type": "contourcarpet"
           }
          ],
          "heatmap": [
           {
            "colorbar": {
             "outlinewidth": 0,
             "ticks": ""
            },
            "colorscale": [
             [
              0,
              "#0d0887"
             ],
             [
              0.1111111111111111,
              "#46039f"
             ],
             [
              0.2222222222222222,
              "#7201a8"
             ],
             [
              0.3333333333333333,
              "#9c179e"
             ],
             [
              0.4444444444444444,
              "#bd3786"
             ],
             [
              0.5555555555555556,
              "#d8576b"
             ],
             [
              0.6666666666666666,
              "#ed7953"
             ],
             [
              0.7777777777777778,
              "#fb9f3a"
             ],
             [
              0.8888888888888888,
              "#fdca26"
             ],
             [
              1,
              "#f0f921"
             ]
            ],
            "type": "heatmap"
           }
          ],
          "heatmapgl": [
           {
            "colorbar": {
             "outlinewidth": 0,
             "ticks": ""
            },
            "colorscale": [
             [
              0,
              "#0d0887"
             ],
             [
              0.1111111111111111,
              "#46039f"
             ],
             [
              0.2222222222222222,
              "#7201a8"
             ],
             [
              0.3333333333333333,
              "#9c179e"
             ],
             [
              0.4444444444444444,
              "#bd3786"
             ],
             [
              0.5555555555555556,
              "#d8576b"
             ],
             [
              0.6666666666666666,
              "#ed7953"
             ],
             [
              0.7777777777777778,
              "#fb9f3a"
             ],
             [
              0.8888888888888888,
              "#fdca26"
             ],
             [
              1,
              "#f0f921"
             ]
            ],
            "type": "heatmapgl"
           }
          ],
          "histogram": [
           {
            "marker": {
             "pattern": {
              "fillmode": "overlay",
              "size": 10,
              "solidity": 0.2
             }
            },
            "type": "histogram"
           }
          ],
          "histogram2d": [
           {
            "colorbar": {
             "outlinewidth": 0,
             "ticks": ""
            },
            "colorscale": [
             [
              0,
              "#0d0887"
             ],
             [
              0.1111111111111111,
              "#46039f"
             ],
             [
              0.2222222222222222,
              "#7201a8"
             ],
             [
              0.3333333333333333,
              "#9c179e"
             ],
             [
              0.4444444444444444,
              "#bd3786"
             ],
             [
              0.5555555555555556,
              "#d8576b"
             ],
             [
              0.6666666666666666,
              "#ed7953"
             ],
             [
              0.7777777777777778,
              "#fb9f3a"
             ],
             [
              0.8888888888888888,
              "#fdca26"
             ],
             [
              1,
              "#f0f921"
             ]
            ],
            "type": "histogram2d"
           }
          ],
          "histogram2dcontour": [
           {
            "colorbar": {
             "outlinewidth": 0,
             "ticks": ""
            },
            "colorscale": [
             [
              0,
              "#0d0887"
             ],
             [
              0.1111111111111111,
              "#46039f"
             ],
             [
              0.2222222222222222,
              "#7201a8"
             ],
             [
              0.3333333333333333,
              "#9c179e"
             ],
             [
              0.4444444444444444,
              "#bd3786"
             ],
             [
              0.5555555555555556,
              "#d8576b"
             ],
             [
              0.6666666666666666,
              "#ed7953"
             ],
             [
              0.7777777777777778,
              "#fb9f3a"
             ],
             [
              0.8888888888888888,
              "#fdca26"
             ],
             [
              1,
              "#f0f921"
             ]
            ],
            "type": "histogram2dcontour"
           }
          ],
          "mesh3d": [
           {
            "colorbar": {
             "outlinewidth": 0,
             "ticks": ""
            },
            "type": "mesh3d"
           }
          ],
          "parcoords": [
           {
            "line": {
             "colorbar": {
              "outlinewidth": 0,
              "ticks": ""
             }
            },
            "type": "parcoords"
           }
          ],
          "pie": [
           {
            "automargin": true,
            "type": "pie"
           }
          ],
          "scatter": [
           {
            "fillpattern": {
             "fillmode": "overlay",
             "size": 10,
             "solidity": 0.2
            },
            "type": "scatter"
           }
          ],
          "scatter3d": [
           {
            "line": {
             "colorbar": {
              "outlinewidth": 0,
              "ticks": ""
             }
            },
            "marker": {
             "colorbar": {
              "outlinewidth": 0,
              "ticks": ""
             }
            },
            "type": "scatter3d"
           }
          ],
          "scattercarpet": [
           {
            "marker": {
             "colorbar": {
              "outlinewidth": 0,
              "ticks": ""
             }
            },
            "type": "scattercarpet"
           }
          ],
          "scattergeo": [
           {
            "marker": {
             "colorbar": {
              "outlinewidth": 0,
              "ticks": ""
             }
            },
            "type": "scattergeo"
           }
          ],
          "scattergl": [
           {
            "marker": {
             "colorbar": {
              "outlinewidth": 0,
              "ticks": ""
             }
            },
            "type": "scattergl"
           }
          ],
          "scattermapbox": [
           {
            "marker": {
             "colorbar": {
              "outlinewidth": 0,
              "ticks": ""
             }
            },
            "type": "scattermapbox"
           }
          ],
          "scatterpolar": [
           {
            "marker": {
             "colorbar": {
              "outlinewidth": 0,
              "ticks": ""
             }
            },
            "type": "scatterpolar"
           }
          ],
          "scatterpolargl": [
           {
            "marker": {
             "colorbar": {
              "outlinewidth": 0,
              "ticks": ""
             }
            },
            "type": "scatterpolargl"
           }
          ],
          "scatterternary": [
           {
            "marker": {
             "colorbar": {
              "outlinewidth": 0,
              "ticks": ""
             }
            },
            "type": "scatterternary"
           }
          ],
          "surface": [
           {
            "colorbar": {
             "outlinewidth": 0,
             "ticks": ""
            },
            "colorscale": [
             [
              0,
              "#0d0887"
             ],
             [
              0.1111111111111111,
              "#46039f"
             ],
             [
              0.2222222222222222,
              "#7201a8"
             ],
             [
              0.3333333333333333,
              "#9c179e"
             ],
             [
              0.4444444444444444,
              "#bd3786"
             ],
             [
              0.5555555555555556,
              "#d8576b"
             ],
             [
              0.6666666666666666,
              "#ed7953"
             ],
             [
              0.7777777777777778,
              "#fb9f3a"
             ],
             [
              0.8888888888888888,
              "#fdca26"
             ],
             [
              1,
              "#f0f921"
             ]
            ],
            "type": "surface"
           }
          ],
          "table": [
           {
            "cells": {
             "fill": {
              "color": "#EBF0F8"
             },
             "line": {
              "color": "white"
             }
            },
            "header": {
             "fill": {
              "color": "#C8D4E3"
             },
             "line": {
              "color": "white"
             }
            },
            "type": "table"
           }
          ]
         },
         "layout": {
          "annotationdefaults": {
           "arrowcolor": "#2a3f5f",
           "arrowhead": 0,
           "arrowwidth": 1
          },
          "autotypenumbers": "strict",
          "coloraxis": {
           "colorbar": {
            "outlinewidth": 0,
            "ticks": ""
           }
          },
          "colorscale": {
           "diverging": [
            [
             0,
             "#8e0152"
            ],
            [
             0.1,
             "#c51b7d"
            ],
            [
             0.2,
             "#de77ae"
            ],
            [
             0.3,
             "#f1b6da"
            ],
            [
             0.4,
             "#fde0ef"
            ],
            [
             0.5,
             "#f7f7f7"
            ],
            [
             0.6,
             "#e6f5d0"
            ],
            [
             0.7,
             "#b8e186"
            ],
            [
             0.8,
             "#7fbc41"
            ],
            [
             0.9,
             "#4d9221"
            ],
            [
             1,
             "#276419"
            ]
           ],
           "sequential": [
            [
             0,
             "#0d0887"
            ],
            [
             0.1111111111111111,
             "#46039f"
            ],
            [
             0.2222222222222222,
             "#7201a8"
            ],
            [
             0.3333333333333333,
             "#9c179e"
            ],
            [
             0.4444444444444444,
             "#bd3786"
            ],
            [
             0.5555555555555556,
             "#d8576b"
            ],
            [
             0.6666666666666666,
             "#ed7953"
            ],
            [
             0.7777777777777778,
             "#fb9f3a"
            ],
            [
             0.8888888888888888,
             "#fdca26"
            ],
            [
             1,
             "#f0f921"
            ]
           ],
           "sequentialminus": [
            [
             0,
             "#0d0887"
            ],
            [
             0.1111111111111111,
             "#46039f"
            ],
            [
             0.2222222222222222,
             "#7201a8"
            ],
            [
             0.3333333333333333,
             "#9c179e"
            ],
            [
             0.4444444444444444,
             "#bd3786"
            ],
            [
             0.5555555555555556,
             "#d8576b"
            ],
            [
             0.6666666666666666,
             "#ed7953"
            ],
            [
             0.7777777777777778,
             "#fb9f3a"
            ],
            [
             0.8888888888888888,
             "#fdca26"
            ],
            [
             1,
             "#f0f921"
            ]
           ]
          },
          "colorway": [
           "#636efa",
           "#EF553B",
           "#00cc96",
           "#ab63fa",
           "#FFA15A",
           "#19d3f3",
           "#FF6692",
           "#B6E880",
           "#FF97FF",
           "#FECB52"
          ],
          "font": {
           "color": "#2a3f5f"
          },
          "geo": {
           "bgcolor": "white",
           "lakecolor": "white",
           "landcolor": "#E5ECF6",
           "showlakes": true,
           "showland": true,
           "subunitcolor": "white"
          },
          "hoverlabel": {
           "align": "left"
          },
          "hovermode": "closest",
          "mapbox": {
           "style": "light"
          },
          "paper_bgcolor": "white",
          "plot_bgcolor": "#E5ECF6",
          "polar": {
           "angularaxis": {
            "gridcolor": "white",
            "linecolor": "white",
            "ticks": ""
           },
           "bgcolor": "#E5ECF6",
           "radialaxis": {
            "gridcolor": "white",
            "linecolor": "white",
            "ticks": ""
           }
          },
          "scene": {
           "xaxis": {
            "backgroundcolor": "#E5ECF6",
            "gridcolor": "white",
            "gridwidth": 2,
            "linecolor": "white",
            "showbackground": true,
            "ticks": "",
            "zerolinecolor": "white"
           },
           "yaxis": {
            "backgroundcolor": "#E5ECF6",
            "gridcolor": "white",
            "gridwidth": 2,
            "linecolor": "white",
            "showbackground": true,
            "ticks": "",
            "zerolinecolor": "white"
           },
           "zaxis": {
            "backgroundcolor": "#E5ECF6",
            "gridcolor": "white",
            "gridwidth": 2,
            "linecolor": "white",
            "showbackground": true,
            "ticks": "",
            "zerolinecolor": "white"
           }
          },
          "shapedefaults": {
           "line": {
            "color": "#2a3f5f"
           }
          },
          "ternary": {
           "aaxis": {
            "gridcolor": "white",
            "linecolor": "white",
            "ticks": ""
           },
           "baxis": {
            "gridcolor": "white",
            "linecolor": "white",
            "ticks": ""
           },
           "bgcolor": "#E5ECF6",
           "caxis": {
            "gridcolor": "white",
            "linecolor": "white",
            "ticks": ""
           }
          },
          "title": {
           "x": 0.05
          },
          "xaxis": {
           "automargin": true,
           "gridcolor": "white",
           "linecolor": "white",
           "ticks": "",
           "title": {
            "standoff": 15
           },
           "zerolinecolor": "white",
           "zerolinewidth": 2
          },
          "yaxis": {
           "automargin": true,
           "gridcolor": "white",
           "linecolor": "white",
           "ticks": "",
           "title": {
            "standoff": 15
           },
           "zerolinecolor": "white",
           "zerolinewidth": 2
          }
         }
        },
        "title": {
         "text": "Feature importances for AdaBoost for target hf_score"
        }
       }
      }
     },
     "metadata": {},
     "output_type": "display_data"
    },
    {
     "name": "stdout",
     "output_type": "stream",
     "text": [
      "Performing grid search for models for pf_expression_bti\n",
      "Performing grid search for AdaBoost Model\n",
      "Evaluating AdaBoost model using time-series cross-validation, pf_expression_bti\n",
      "Accuracy: 0.9281\n",
      "Precision: 0.8825\n",
      "Recall: 0.8747\n",
      "F1-score: 0.8756\n"
     ]
    },
    {
     "data": {
      "application/vnd.plotly.v1+json": {
       "config": {
        "plotlyServerURL": "https://plot.ly"
       },
       "data": [
        {
         "marker": {
          "color": "rgba(58, 71, 80, 0.6)",
          "line": {
           "color": "rgba(58, 71, 80, 1.0)",
           "width": 3
          }
         },
         "orientation": "h",
         "type": "bar",
         "x": [
          0.03333333333333333,
          0.03333333333333333,
          0.006666666666666667,
          0.013333333333333334,
          0.013333333333333334,
          0.05333333333333334,
          0.02,
          0.06,
          0.03333333333333333,
          0,
          0.02666666666666667,
          0.06666666666666667,
          0.04666666666666667,
          0.06,
          0.08666666666666667,
          0.03333333333333333,
          0.03333333333333333,
          0,
          0.02666666666666667,
          0.006666666666666667,
          0.006666666666666667,
          0,
          0.006666666666666667,
          0.006666666666666667,
          0,
          0.013333333333333334,
          0.02666666666666667,
          0.02,
          0.03333333333333333,
          0.03333333333333333,
          0.02,
          0.02,
          0.006666666666666667,
          0.006666666666666667,
          0.013333333333333334,
          0.006666666666666667,
          0.013333333333333334,
          0.006666666666666667,
          0.006666666666666667,
          0.02,
          0.006666666666666667,
          0.04,
          0.006666666666666667,
          0.006666666666666667,
          0.006666666666666667,
          0,
          0.013333333333333334
         ],
         "y": [
          "pf_ss_disappearances_organized",
          "pf_ss",
          "pf_expression_direct_killed_data",
          "ef_government",
          "ef_legal_military",
          "ef_legal_integrity",
          "ef_money_inflation",
          "ef_regulation_labor_bargain",
          "ef_regulation_labor",
          "globalNorth",
          "ef_government_soa",
          "ef_legal_enforcement",
          "ef_regulation_labor_dismissal",
          "ef_regulation_business_impartial",
          "ef_legal_regulatory",
          "ef_money_sd_data",
          "ef_legal_police",
          "ef_money_currency",
          "ef_regulation_credit_ownership",
          "pf_ss_disappearances_disap",
          "pf_ss_disappearances_violent",
          "pf_ss_disappearances_fatalities",
          "pf_ss_disappearances_fatalities_data",
          "pf_ss_disappearances_injuries",
          "pf_ss_disappearances_injuries_data",
          "pf_ss_disappearances",
          "pf_expression_direct_killed",
          "pf_expression_cld",
          "pf_identity_divorce",
          "ef_government_tax_income_data",
          "ef_government_tax_payroll_data",
          "ef_trade_tariffs_revenue",
          "ef_trade_tariffs_sd",
          "ef_trade_tariffs_sd_data",
          "ef_trade_tariffs",
          "ef_trade_regulatory_nontariff",
          "ef_trade_black",
          "ef_trade_movement_capital",
          "ef_trade_movement_visit",
          "ef_regulation_credit_private",
          "ef_regulation_credit",
          "ef_regulation_labor_minwage",
          "ef_regulation_labor_firing",
          "ef_regulation_labor_hours",
          "ef_regulation_labor_conscription",
          "ef_regulation_business",
          "ef_regulation"
         ]
        }
       ],
       "layout": {
        "template": {
         "data": {
          "bar": [
           {
            "error_x": {
             "color": "#2a3f5f"
            },
            "error_y": {
             "color": "#2a3f5f"
            },
            "marker": {
             "line": {
              "color": "#E5ECF6",
              "width": 0.5
             },
             "pattern": {
              "fillmode": "overlay",
              "size": 10,
              "solidity": 0.2
             }
            },
            "type": "bar"
           }
          ],
          "barpolar": [
           {
            "marker": {
             "line": {
              "color": "#E5ECF6",
              "width": 0.5
             },
             "pattern": {
              "fillmode": "overlay",
              "size": 10,
              "solidity": 0.2
             }
            },
            "type": "barpolar"
           }
          ],
          "carpet": [
           {
            "aaxis": {
             "endlinecolor": "#2a3f5f",
             "gridcolor": "white",
             "linecolor": "white",
             "minorgridcolor": "white",
             "startlinecolor": "#2a3f5f"
            },
            "baxis": {
             "endlinecolor": "#2a3f5f",
             "gridcolor": "white",
             "linecolor": "white",
             "minorgridcolor": "white",
             "startlinecolor": "#2a3f5f"
            },
            "type": "carpet"
           }
          ],
          "choropleth": [
           {
            "colorbar": {
             "outlinewidth": 0,
             "ticks": ""
            },
            "type": "choropleth"
           }
          ],
          "contour": [
           {
            "colorbar": {
             "outlinewidth": 0,
             "ticks": ""
            },
            "colorscale": [
             [
              0,
              "#0d0887"
             ],
             [
              0.1111111111111111,
              "#46039f"
             ],
             [
              0.2222222222222222,
              "#7201a8"
             ],
             [
              0.3333333333333333,
              "#9c179e"
             ],
             [
              0.4444444444444444,
              "#bd3786"
             ],
             [
              0.5555555555555556,
              "#d8576b"
             ],
             [
              0.6666666666666666,
              "#ed7953"
             ],
             [
              0.7777777777777778,
              "#fb9f3a"
             ],
             [
              0.8888888888888888,
              "#fdca26"
             ],
             [
              1,
              "#f0f921"
             ]
            ],
            "type": "contour"
           }
          ],
          "contourcarpet": [
           {
            "colorbar": {
             "outlinewidth": 0,
             "ticks": ""
            },
            "type": "contourcarpet"
           }
          ],
          "heatmap": [
           {
            "colorbar": {
             "outlinewidth": 0,
             "ticks": ""
            },
            "colorscale": [
             [
              0,
              "#0d0887"
             ],
             [
              0.1111111111111111,
              "#46039f"
             ],
             [
              0.2222222222222222,
              "#7201a8"
             ],
             [
              0.3333333333333333,
              "#9c179e"
             ],
             [
              0.4444444444444444,
              "#bd3786"
             ],
             [
              0.5555555555555556,
              "#d8576b"
             ],
             [
              0.6666666666666666,
              "#ed7953"
             ],
             [
              0.7777777777777778,
              "#fb9f3a"
             ],
             [
              0.8888888888888888,
              "#fdca26"
             ],
             [
              1,
              "#f0f921"
             ]
            ],
            "type": "heatmap"
           }
          ],
          "heatmapgl": [
           {
            "colorbar": {
             "outlinewidth": 0,
             "ticks": ""
            },
            "colorscale": [
             [
              0,
              "#0d0887"
             ],
             [
              0.1111111111111111,
              "#46039f"
             ],
             [
              0.2222222222222222,
              "#7201a8"
             ],
             [
              0.3333333333333333,
              "#9c179e"
             ],
             [
              0.4444444444444444,
              "#bd3786"
             ],
             [
              0.5555555555555556,
              "#d8576b"
             ],
             [
              0.6666666666666666,
              "#ed7953"
             ],
             [
              0.7777777777777778,
              "#fb9f3a"
             ],
             [
              0.8888888888888888,
              "#fdca26"
             ],
             [
              1,
              "#f0f921"
             ]
            ],
            "type": "heatmapgl"
           }
          ],
          "histogram": [
           {
            "marker": {
             "pattern": {
              "fillmode": "overlay",
              "size": 10,
              "solidity": 0.2
             }
            },
            "type": "histogram"
           }
          ],
          "histogram2d": [
           {
            "colorbar": {
             "outlinewidth": 0,
             "ticks": ""
            },
            "colorscale": [
             [
              0,
              "#0d0887"
             ],
             [
              0.1111111111111111,
              "#46039f"
             ],
             [
              0.2222222222222222,
              "#7201a8"
             ],
             [
              0.3333333333333333,
              "#9c179e"
             ],
             [
              0.4444444444444444,
              "#bd3786"
             ],
             [
              0.5555555555555556,
              "#d8576b"
             ],
             [
              0.6666666666666666,
              "#ed7953"
             ],
             [
              0.7777777777777778,
              "#fb9f3a"
             ],
             [
              0.8888888888888888,
              "#fdca26"
             ],
             [
              1,
              "#f0f921"
             ]
            ],
            "type": "histogram2d"
           }
          ],
          "histogram2dcontour": [
           {
            "colorbar": {
             "outlinewidth": 0,
             "ticks": ""
            },
            "colorscale": [
             [
              0,
              "#0d0887"
             ],
             [
              0.1111111111111111,
              "#46039f"
             ],
             [
              0.2222222222222222,
              "#7201a8"
             ],
             [
              0.3333333333333333,
              "#9c179e"
             ],
             [
              0.4444444444444444,
              "#bd3786"
             ],
             [
              0.5555555555555556,
              "#d8576b"
             ],
             [
              0.6666666666666666,
              "#ed7953"
             ],
             [
              0.7777777777777778,
              "#fb9f3a"
             ],
             [
              0.8888888888888888,
              "#fdca26"
             ],
             [
              1,
              "#f0f921"
             ]
            ],
            "type": "histogram2dcontour"
           }
          ],
          "mesh3d": [
           {
            "colorbar": {
             "outlinewidth": 0,
             "ticks": ""
            },
            "type": "mesh3d"
           }
          ],
          "parcoords": [
           {
            "line": {
             "colorbar": {
              "outlinewidth": 0,
              "ticks": ""
             }
            },
            "type": "parcoords"
           }
          ],
          "pie": [
           {
            "automargin": true,
            "type": "pie"
           }
          ],
          "scatter": [
           {
            "fillpattern": {
             "fillmode": "overlay",
             "size": 10,
             "solidity": 0.2
            },
            "type": "scatter"
           }
          ],
          "scatter3d": [
           {
            "line": {
             "colorbar": {
              "outlinewidth": 0,
              "ticks": ""
             }
            },
            "marker": {
             "colorbar": {
              "outlinewidth": 0,
              "ticks": ""
             }
            },
            "type": "scatter3d"
           }
          ],
          "scattercarpet": [
           {
            "marker": {
             "colorbar": {
              "outlinewidth": 0,
              "ticks": ""
             }
            },
            "type": "scattercarpet"
           }
          ],
          "scattergeo": [
           {
            "marker": {
             "colorbar": {
              "outlinewidth": 0,
              "ticks": ""
             }
            },
            "type": "scattergeo"
           }
          ],
          "scattergl": [
           {
            "marker": {
             "colorbar": {
              "outlinewidth": 0,
              "ticks": ""
             }
            },
            "type": "scattergl"
           }
          ],
          "scattermapbox": [
           {
            "marker": {
             "colorbar": {
              "outlinewidth": 0,
              "ticks": ""
             }
            },
            "type": "scattermapbox"
           }
          ],
          "scatterpolar": [
           {
            "marker": {
             "colorbar": {
              "outlinewidth": 0,
              "ticks": ""
             }
            },
            "type": "scatterpolar"
           }
          ],
          "scatterpolargl": [
           {
            "marker": {
             "colorbar": {
              "outlinewidth": 0,
              "ticks": ""
             }
            },
            "type": "scatterpolargl"
           }
          ],
          "scatterternary": [
           {
            "marker": {
             "colorbar": {
              "outlinewidth": 0,
              "ticks": ""
             }
            },
            "type": "scatterternary"
           }
          ],
          "surface": [
           {
            "colorbar": {
             "outlinewidth": 0,
             "ticks": ""
            },
            "colorscale": [
             [
              0,
              "#0d0887"
             ],
             [
              0.1111111111111111,
              "#46039f"
             ],
             [
              0.2222222222222222,
              "#7201a8"
             ],
             [
              0.3333333333333333,
              "#9c179e"
             ],
             [
              0.4444444444444444,
              "#bd3786"
             ],
             [
              0.5555555555555556,
              "#d8576b"
             ],
             [
              0.6666666666666666,
              "#ed7953"
             ],
             [
              0.7777777777777778,
              "#fb9f3a"
             ],
             [
              0.8888888888888888,
              "#fdca26"
             ],
             [
              1,
              "#f0f921"
             ]
            ],
            "type": "surface"
           }
          ],
          "table": [
           {
            "cells": {
             "fill": {
              "color": "#EBF0F8"
             },
             "line": {
              "color": "white"
             }
            },
            "header": {
             "fill": {
              "color": "#C8D4E3"
             },
             "line": {
              "color": "white"
             }
            },
            "type": "table"
           }
          ]
         },
         "layout": {
          "annotationdefaults": {
           "arrowcolor": "#2a3f5f",
           "arrowhead": 0,
           "arrowwidth": 1
          },
          "autotypenumbers": "strict",
          "coloraxis": {
           "colorbar": {
            "outlinewidth": 0,
            "ticks": ""
           }
          },
          "colorscale": {
           "diverging": [
            [
             0,
             "#8e0152"
            ],
            [
             0.1,
             "#c51b7d"
            ],
            [
             0.2,
             "#de77ae"
            ],
            [
             0.3,
             "#f1b6da"
            ],
            [
             0.4,
             "#fde0ef"
            ],
            [
             0.5,
             "#f7f7f7"
            ],
            [
             0.6,
             "#e6f5d0"
            ],
            [
             0.7,
             "#b8e186"
            ],
            [
             0.8,
             "#7fbc41"
            ],
            [
             0.9,
             "#4d9221"
            ],
            [
             1,
             "#276419"
            ]
           ],
           "sequential": [
            [
             0,
             "#0d0887"
            ],
            [
             0.1111111111111111,
             "#46039f"
            ],
            [
             0.2222222222222222,
             "#7201a8"
            ],
            [
             0.3333333333333333,
             "#9c179e"
            ],
            [
             0.4444444444444444,
             "#bd3786"
            ],
            [
             0.5555555555555556,
             "#d8576b"
            ],
            [
             0.6666666666666666,
             "#ed7953"
            ],
            [
             0.7777777777777778,
             "#fb9f3a"
            ],
            [
             0.8888888888888888,
             "#fdca26"
            ],
            [
             1,
             "#f0f921"
            ]
           ],
           "sequentialminus": [
            [
             0,
             "#0d0887"
            ],
            [
             0.1111111111111111,
             "#46039f"
            ],
            [
             0.2222222222222222,
             "#7201a8"
            ],
            [
             0.3333333333333333,
             "#9c179e"
            ],
            [
             0.4444444444444444,
             "#bd3786"
            ],
            [
             0.5555555555555556,
             "#d8576b"
            ],
            [
             0.6666666666666666,
             "#ed7953"
            ],
            [
             0.7777777777777778,
             "#fb9f3a"
            ],
            [
             0.8888888888888888,
             "#fdca26"
            ],
            [
             1,
             "#f0f921"
            ]
           ]
          },
          "colorway": [
           "#636efa",
           "#EF553B",
           "#00cc96",
           "#ab63fa",
           "#FFA15A",
           "#19d3f3",
           "#FF6692",
           "#B6E880",
           "#FF97FF",
           "#FECB52"
          ],
          "font": {
           "color": "#2a3f5f"
          },
          "geo": {
           "bgcolor": "white",
           "lakecolor": "white",
           "landcolor": "#E5ECF6",
           "showlakes": true,
           "showland": true,
           "subunitcolor": "white"
          },
          "hoverlabel": {
           "align": "left"
          },
          "hovermode": "closest",
          "mapbox": {
           "style": "light"
          },
          "paper_bgcolor": "white",
          "plot_bgcolor": "#E5ECF6",
          "polar": {
           "angularaxis": {
            "gridcolor": "white",
            "linecolor": "white",
            "ticks": ""
           },
           "bgcolor": "#E5ECF6",
           "radialaxis": {
            "gridcolor": "white",
            "linecolor": "white",
            "ticks": ""
           }
          },
          "scene": {
           "xaxis": {
            "backgroundcolor": "#E5ECF6",
            "gridcolor": "white",
            "gridwidth": 2,
            "linecolor": "white",
            "showbackground": true,
            "ticks": "",
            "zerolinecolor": "white"
           },
           "yaxis": {
            "backgroundcolor": "#E5ECF6",
            "gridcolor": "white",
            "gridwidth": 2,
            "linecolor": "white",
            "showbackground": true,
            "ticks": "",
            "zerolinecolor": "white"
           },
           "zaxis": {
            "backgroundcolor": "#E5ECF6",
            "gridcolor": "white",
            "gridwidth": 2,
            "linecolor": "white",
            "showbackground": true,
            "ticks": "",
            "zerolinecolor": "white"
           }
          },
          "shapedefaults": {
           "line": {
            "color": "#2a3f5f"
           }
          },
          "ternary": {
           "aaxis": {
            "gridcolor": "white",
            "linecolor": "white",
            "ticks": ""
           },
           "baxis": {
            "gridcolor": "white",
            "linecolor": "white",
            "ticks": ""
           },
           "bgcolor": "#E5ECF6",
           "caxis": {
            "gridcolor": "white",
            "linecolor": "white",
            "ticks": ""
           }
          },
          "title": {
           "x": 0.05
          },
          "xaxis": {
           "automargin": true,
           "gridcolor": "white",
           "linecolor": "white",
           "ticks": "",
           "title": {
            "standoff": 15
           },
           "zerolinecolor": "white",
           "zerolinewidth": 2
          },
          "yaxis": {
           "automargin": true,
           "gridcolor": "white",
           "linecolor": "white",
           "ticks": "",
           "title": {
            "standoff": 15
           },
           "zerolinecolor": "white",
           "zerolinewidth": 2
          }
         }
        },
        "title": {
         "text": "Feature importances for AdaBoost for target pf_expression_bti"
        }
       }
      }
     },
     "metadata": {},
     "output_type": "display_data"
    },
    {
     "name": "stdout",
     "output_type": "stream",
     "text": [
      "Performing grid search for models for pf_rol_civil\n",
      "Performing grid search for AdaBoost Model\n",
      "Evaluating AdaBoost model using time-series cross-validation, pf_rol_civil\n",
      "Accuracy: 0.7921\n",
      "Precision: 0.7527\n",
      "Recall: 0.9381\n",
      "F1-score: 0.8230\n"
     ]
    },
    {
     "data": {
      "application/vnd.plotly.v1+json": {
       "config": {
        "plotlyServerURL": "https://plot.ly"
       },
       "data": [
        {
         "marker": {
          "color": "rgba(58, 71, 80, 0.6)",
          "line": {
           "color": "rgba(58, 71, 80, 1.0)",
           "width": 3
          }
         },
         "orientation": "h",
         "type": "bar",
         "x": [
          0.006666666666666667,
          0.06666666666666667,
          0.05333333333333334,
          0.006666666666666667,
          0.02,
          0.013333333333333334,
          0.03333333333333333,
          0.02,
          0.08,
          0.006666666666666667,
          0.04666666666666667,
          0.02,
          0.03333333333333333,
          0.05333333333333334,
          0.02666666666666667,
          0.02666666666666667,
          0.03333333333333333,
          0,
          0.013333333333333334,
          0.006666666666666667,
          0,
          0,
          0.02666666666666667,
          0,
          0.013333333333333334,
          0.03333333333333333,
          0.013333333333333334,
          0.006666666666666667,
          0.006666666666666667,
          0.02,
          0.006666666666666667,
          0.03333333333333333,
          0.013333333333333334,
          0.006666666666666667,
          0.05333333333333334,
          0.04,
          0.02666666666666667,
          0.02666666666666667,
          0.013333333333333334,
          0.006666666666666667,
          0.02,
          0.013333333333333334,
          0.03333333333333333,
          0.02
         ],
         "y": [
          "pf_ss_disappearances_violent",
          "pf_ss_disappearances",
          "ef_legal_enforcement",
          "ef_gender",
          "ef_trade_tariffs_revenue",
          "ef_trade_tariffs_revenue_data",
          "ef_regulation_labor_bargain",
          "ef_regulation_business_adm",
          "ef_regulation_business_start",
          "globalNorth",
          "ef_government_soa",
          "ef_regulation_labor_dismissal",
          "ef_regulation_business_impartial",
          "ef_legal_regulatory",
          "ef_legal_integrity",
          "ef_money_sd_data",
          "ef_legal_police",
          "ef_money_currency",
          "ef_regulation_credit_ownership",
          "pf_ss_disappearances_fatalities",
          "pf_ss_disappearances_fatalities_data",
          "pf_ss_disappearances_injuries_data",
          "pf_ss",
          "pf_expression_direct_killed",
          "pf_expression_direct_killed_data",
          "pf_expression_direct_jailed",
          "pf_expression_cld",
          "pf_identity_divorce",
          "pf_identity_fgm",
          "ef_legal_military",
          "ef_money_sd",
          "ef_money_inflation",
          "ef_money_inflation_data",
          "ef_trade_movement_capital",
          "ef_trade_movement_visit",
          "ef_regulation_credit",
          "ef_regulation_labor_minwage",
          "ef_regulation_labor_firing",
          "ef_regulation_labor_hours",
          "ef_regulation_labor_conscription",
          "ef_regulation_labor",
          "ef_regulation_business_burden",
          "ef_regulation_business_licensing",
          "ef_regulation_business"
         ]
        }
       ],
       "layout": {
        "template": {
         "data": {
          "bar": [
           {
            "error_x": {
             "color": "#2a3f5f"
            },
            "error_y": {
             "color": "#2a3f5f"
            },
            "marker": {
             "line": {
              "color": "#E5ECF6",
              "width": 0.5
             },
             "pattern": {
              "fillmode": "overlay",
              "size": 10,
              "solidity": 0.2
             }
            },
            "type": "bar"
           }
          ],
          "barpolar": [
           {
            "marker": {
             "line": {
              "color": "#E5ECF6",
              "width": 0.5
             },
             "pattern": {
              "fillmode": "overlay",
              "size": 10,
              "solidity": 0.2
             }
            },
            "type": "barpolar"
           }
          ],
          "carpet": [
           {
            "aaxis": {
             "endlinecolor": "#2a3f5f",
             "gridcolor": "white",
             "linecolor": "white",
             "minorgridcolor": "white",
             "startlinecolor": "#2a3f5f"
            },
            "baxis": {
             "endlinecolor": "#2a3f5f",
             "gridcolor": "white",
             "linecolor": "white",
             "minorgridcolor": "white",
             "startlinecolor": "#2a3f5f"
            },
            "type": "carpet"
           }
          ],
          "choropleth": [
           {
            "colorbar": {
             "outlinewidth": 0,
             "ticks": ""
            },
            "type": "choropleth"
           }
          ],
          "contour": [
           {
            "colorbar": {
             "outlinewidth": 0,
             "ticks": ""
            },
            "colorscale": [
             [
              0,
              "#0d0887"
             ],
             [
              0.1111111111111111,
              "#46039f"
             ],
             [
              0.2222222222222222,
              "#7201a8"
             ],
             [
              0.3333333333333333,
              "#9c179e"
             ],
             [
              0.4444444444444444,
              "#bd3786"
             ],
             [
              0.5555555555555556,
              "#d8576b"
             ],
             [
              0.6666666666666666,
              "#ed7953"
             ],
             [
              0.7777777777777778,
              "#fb9f3a"
             ],
             [
              0.8888888888888888,
              "#fdca26"
             ],
             [
              1,
              "#f0f921"
             ]
            ],
            "type": "contour"
           }
          ],
          "contourcarpet": [
           {
            "colorbar": {
             "outlinewidth": 0,
             "ticks": ""
            },
            "type": "contourcarpet"
           }
          ],
          "heatmap": [
           {
            "colorbar": {
             "outlinewidth": 0,
             "ticks": ""
            },
            "colorscale": [
             [
              0,
              "#0d0887"
             ],
             [
              0.1111111111111111,
              "#46039f"
             ],
             [
              0.2222222222222222,
              "#7201a8"
             ],
             [
              0.3333333333333333,
              "#9c179e"
             ],
             [
              0.4444444444444444,
              "#bd3786"
             ],
             [
              0.5555555555555556,
              "#d8576b"
             ],
             [
              0.6666666666666666,
              "#ed7953"
             ],
             [
              0.7777777777777778,
              "#fb9f3a"
             ],
             [
              0.8888888888888888,
              "#fdca26"
             ],
             [
              1,
              "#f0f921"
             ]
            ],
            "type": "heatmap"
           }
          ],
          "heatmapgl": [
           {
            "colorbar": {
             "outlinewidth": 0,
             "ticks": ""
            },
            "colorscale": [
             [
              0,
              "#0d0887"
             ],
             [
              0.1111111111111111,
              "#46039f"
             ],
             [
              0.2222222222222222,
              "#7201a8"
             ],
             [
              0.3333333333333333,
              "#9c179e"
             ],
             [
              0.4444444444444444,
              "#bd3786"
             ],
             [
              0.5555555555555556,
              "#d8576b"
             ],
             [
              0.6666666666666666,
              "#ed7953"
             ],
             [
              0.7777777777777778,
              "#fb9f3a"
             ],
             [
              0.8888888888888888,
              "#fdca26"
             ],
             [
              1,
              "#f0f921"
             ]
            ],
            "type": "heatmapgl"
           }
          ],
          "histogram": [
           {
            "marker": {
             "pattern": {
              "fillmode": "overlay",
              "size": 10,
              "solidity": 0.2
             }
            },
            "type": "histogram"
           }
          ],
          "histogram2d": [
           {
            "colorbar": {
             "outlinewidth": 0,
             "ticks": ""
            },
            "colorscale": [
             [
              0,
              "#0d0887"
             ],
             [
              0.1111111111111111,
              "#46039f"
             ],
             [
              0.2222222222222222,
              "#7201a8"
             ],
             [
              0.3333333333333333,
              "#9c179e"
             ],
             [
              0.4444444444444444,
              "#bd3786"
             ],
             [
              0.5555555555555556,
              "#d8576b"
             ],
             [
              0.6666666666666666,
              "#ed7953"
             ],
             [
              0.7777777777777778,
              "#fb9f3a"
             ],
             [
              0.8888888888888888,
              "#fdca26"
             ],
             [
              1,
              "#f0f921"
             ]
            ],
            "type": "histogram2d"
           }
          ],
          "histogram2dcontour": [
           {
            "colorbar": {
             "outlinewidth": 0,
             "ticks": ""
            },
            "colorscale": [
             [
              0,
              "#0d0887"
             ],
             [
              0.1111111111111111,
              "#46039f"
             ],
             [
              0.2222222222222222,
              "#7201a8"
             ],
             [
              0.3333333333333333,
              "#9c179e"
             ],
             [
              0.4444444444444444,
              "#bd3786"
             ],
             [
              0.5555555555555556,
              "#d8576b"
             ],
             [
              0.6666666666666666,
              "#ed7953"
             ],
             [
              0.7777777777777778,
              "#fb9f3a"
             ],
             [
              0.8888888888888888,
              "#fdca26"
             ],
             [
              1,
              "#f0f921"
             ]
            ],
            "type": "histogram2dcontour"
           }
          ],
          "mesh3d": [
           {
            "colorbar": {
             "outlinewidth": 0,
             "ticks": ""
            },
            "type": "mesh3d"
           }
          ],
          "parcoords": [
           {
            "line": {
             "colorbar": {
              "outlinewidth": 0,
              "ticks": ""
             }
            },
            "type": "parcoords"
           }
          ],
          "pie": [
           {
            "automargin": true,
            "type": "pie"
           }
          ],
          "scatter": [
           {
            "fillpattern": {
             "fillmode": "overlay",
             "size": 10,
             "solidity": 0.2
            },
            "type": "scatter"
           }
          ],
          "scatter3d": [
           {
            "line": {
             "colorbar": {
              "outlinewidth": 0,
              "ticks": ""
             }
            },
            "marker": {
             "colorbar": {
              "outlinewidth": 0,
              "ticks": ""
             }
            },
            "type": "scatter3d"
           }
          ],
          "scattercarpet": [
           {
            "marker": {
             "colorbar": {
              "outlinewidth": 0,
              "ticks": ""
             }
            },
            "type": "scattercarpet"
           }
          ],
          "scattergeo": [
           {
            "marker": {
             "colorbar": {
              "outlinewidth": 0,
              "ticks": ""
             }
            },
            "type": "scattergeo"
           }
          ],
          "scattergl": [
           {
            "marker": {
             "colorbar": {
              "outlinewidth": 0,
              "ticks": ""
             }
            },
            "type": "scattergl"
           }
          ],
          "scattermapbox": [
           {
            "marker": {
             "colorbar": {
              "outlinewidth": 0,
              "ticks": ""
             }
            },
            "type": "scattermapbox"
           }
          ],
          "scatterpolar": [
           {
            "marker": {
             "colorbar": {
              "outlinewidth": 0,
              "ticks": ""
             }
            },
            "type": "scatterpolar"
           }
          ],
          "scatterpolargl": [
           {
            "marker": {
             "colorbar": {
              "outlinewidth": 0,
              "ticks": ""
             }
            },
            "type": "scatterpolargl"
           }
          ],
          "scatterternary": [
           {
            "marker": {
             "colorbar": {
              "outlinewidth": 0,
              "ticks": ""
             }
            },
            "type": "scatterternary"
           }
          ],
          "surface": [
           {
            "colorbar": {
             "outlinewidth": 0,
             "ticks": ""
            },
            "colorscale": [
             [
              0,
              "#0d0887"
             ],
             [
              0.1111111111111111,
              "#46039f"
             ],
             [
              0.2222222222222222,
              "#7201a8"
             ],
             [
              0.3333333333333333,
              "#9c179e"
             ],
             [
              0.4444444444444444,
              "#bd3786"
             ],
             [
              0.5555555555555556,
              "#d8576b"
             ],
             [
              0.6666666666666666,
              "#ed7953"
             ],
             [
              0.7777777777777778,
              "#fb9f3a"
             ],
             [
              0.8888888888888888,
              "#fdca26"
             ],
             [
              1,
              "#f0f921"
             ]
            ],
            "type": "surface"
           }
          ],
          "table": [
           {
            "cells": {
             "fill": {
              "color": "#EBF0F8"
             },
             "line": {
              "color": "white"
             }
            },
            "header": {
             "fill": {
              "color": "#C8D4E3"
             },
             "line": {
              "color": "white"
             }
            },
            "type": "table"
           }
          ]
         },
         "layout": {
          "annotationdefaults": {
           "arrowcolor": "#2a3f5f",
           "arrowhead": 0,
           "arrowwidth": 1
          },
          "autotypenumbers": "strict",
          "coloraxis": {
           "colorbar": {
            "outlinewidth": 0,
            "ticks": ""
           }
          },
          "colorscale": {
           "diverging": [
            [
             0,
             "#8e0152"
            ],
            [
             0.1,
             "#c51b7d"
            ],
            [
             0.2,
             "#de77ae"
            ],
            [
             0.3,
             "#f1b6da"
            ],
            [
             0.4,
             "#fde0ef"
            ],
            [
             0.5,
             "#f7f7f7"
            ],
            [
             0.6,
             "#e6f5d0"
            ],
            [
             0.7,
             "#b8e186"
            ],
            [
             0.8,
             "#7fbc41"
            ],
            [
             0.9,
             "#4d9221"
            ],
            [
             1,
             "#276419"
            ]
           ],
           "sequential": [
            [
             0,
             "#0d0887"
            ],
            [
             0.1111111111111111,
             "#46039f"
            ],
            [
             0.2222222222222222,
             "#7201a8"
            ],
            [
             0.3333333333333333,
             "#9c179e"
            ],
            [
             0.4444444444444444,
             "#bd3786"
            ],
            [
             0.5555555555555556,
             "#d8576b"
            ],
            [
             0.6666666666666666,
             "#ed7953"
            ],
            [
             0.7777777777777778,
             "#fb9f3a"
            ],
            [
             0.8888888888888888,
             "#fdca26"
            ],
            [
             1,
             "#f0f921"
            ]
           ],
           "sequentialminus": [
            [
             0,
             "#0d0887"
            ],
            [
             0.1111111111111111,
             "#46039f"
            ],
            [
             0.2222222222222222,
             "#7201a8"
            ],
            [
             0.3333333333333333,
             "#9c179e"
            ],
            [
             0.4444444444444444,
             "#bd3786"
            ],
            [
             0.5555555555555556,
             "#d8576b"
            ],
            [
             0.6666666666666666,
             "#ed7953"
            ],
            [
             0.7777777777777778,
             "#fb9f3a"
            ],
            [
             0.8888888888888888,
             "#fdca26"
            ],
            [
             1,
             "#f0f921"
            ]
           ]
          },
          "colorway": [
           "#636efa",
           "#EF553B",
           "#00cc96",
           "#ab63fa",
           "#FFA15A",
           "#19d3f3",
           "#FF6692",
           "#B6E880",
           "#FF97FF",
           "#FECB52"
          ],
          "font": {
           "color": "#2a3f5f"
          },
          "geo": {
           "bgcolor": "white",
           "lakecolor": "white",
           "landcolor": "#E5ECF6",
           "showlakes": true,
           "showland": true,
           "subunitcolor": "white"
          },
          "hoverlabel": {
           "align": "left"
          },
          "hovermode": "closest",
          "mapbox": {
           "style": "light"
          },
          "paper_bgcolor": "white",
          "plot_bgcolor": "#E5ECF6",
          "polar": {
           "angularaxis": {
            "gridcolor": "white",
            "linecolor": "white",
            "ticks": ""
           },
           "bgcolor": "#E5ECF6",
           "radialaxis": {
            "gridcolor": "white",
            "linecolor": "white",
            "ticks": ""
           }
          },
          "scene": {
           "xaxis": {
            "backgroundcolor": "#E5ECF6",
            "gridcolor": "white",
            "gridwidth": 2,
            "linecolor": "white",
            "showbackground": true,
            "ticks": "",
            "zerolinecolor": "white"
           },
           "yaxis": {
            "backgroundcolor": "#E5ECF6",
            "gridcolor": "white",
            "gridwidth": 2,
            "linecolor": "white",
            "showbackground": true,
            "ticks": "",
            "zerolinecolor": "white"
           },
           "zaxis": {
            "backgroundcolor": "#E5ECF6",
            "gridcolor": "white",
            "gridwidth": 2,
            "linecolor": "white",
            "showbackground": true,
            "ticks": "",
            "zerolinecolor": "white"
           }
          },
          "shapedefaults": {
           "line": {
            "color": "#2a3f5f"
           }
          },
          "ternary": {
           "aaxis": {
            "gridcolor": "white",
            "linecolor": "white",
            "ticks": ""
           },
           "baxis": {
            "gridcolor": "white",
            "linecolor": "white",
            "ticks": ""
           },
           "bgcolor": "#E5ECF6",
           "caxis": {
            "gridcolor": "white",
            "linecolor": "white",
            "ticks": ""
           }
          },
          "title": {
           "x": 0.05
          },
          "xaxis": {
           "automargin": true,
           "gridcolor": "white",
           "linecolor": "white",
           "ticks": "",
           "title": {
            "standoff": 15
           },
           "zerolinecolor": "white",
           "zerolinewidth": 2
          },
          "yaxis": {
           "automargin": true,
           "gridcolor": "white",
           "linecolor": "white",
           "ticks": "",
           "title": {
            "standoff": 15
           },
           "zerolinecolor": "white",
           "zerolinewidth": 2
          }
         }
        },
        "title": {
         "text": "Feature importances for AdaBoost for target pf_rol_civil"
        }
       }
      }
     },
     "metadata": {},
     "output_type": "display_data"
    }
   ],
   "source": [
    "from sklearn.ensemble import AdaBoostClassifier\n",
    "from sklearn.tree import DecisionTreeClassifier\n",
    "from sklearn.model_selection import TimeSeriesSplit\n",
    "from sklearn.metrics import accuracy_score, precision_score, recall_score, f1_score\n",
    "import matplotlib.pyplot as plt\n",
    "import numpy as np\n",
    "\n",
    "# Create a time series split object\n",
    "tscv = TimeSeriesSplit(n_splits=5)\n",
    "\n",
    "# Define the grids of hyperparameters to search over\n",
    "ada_params = {\n",
    "    'n_estimators': [50, 100, 150],\n",
    "    'learning_rate': [0.01, 0.1, 1]\n",
    "}\n",
    "\n",
    "# Initialize dictionary to store the best models\n",
    "best_models_ada = {}\n",
    "\n",
    "# Loop through each target and train a model\n",
    "for target in selected_features_dict.keys():\n",
    "    print(f\"Performing grid search for models for {target}\")\n",
    "\n",
    "    # Get the best features for the target\n",
    "    best_features = list(selected_features_dict[target].keys())\n",
    "\n",
    "    # Subset X_train and X_test to only include the best features\n",
    "    X_train_best = X_train[best_features]\n",
    "    X_test_best = X_test[best_features]\n",
    "\n",
    "    # Perform grid search for the AdaBoost model\n",
    "    print(\"Performing grid search for AdaBoost Model\")\n",
    "    ada_grid = GridSearchCV(AdaBoostClassifier(DecisionTreeClassifier(max_depth=1), random_state=0), ada_params, cv=tscv)\n",
    "    ada_grid.fit(X_train_best, y_train[target])\n",
    "\n",
    "    # Store the best model\n",
    "    best_models_ada[target] = ada_grid.best_estimator_\n",
    "\n",
    "    # Initialize lists to store metrics\n",
    "    accuracy_scores, precision_scores, recall_scores, f1_scores = [], [], [], []\n",
    "\n",
    "    # AdaBoost model\n",
    "    print(f\"Evaluating AdaBoost model using time-series cross-validation, {target}\")\n",
    "    for train_index, test_index in tscv.split(X_train_best):\n",
    "        X_train_cv, X_test_cv = X_train_best.iloc[train_index], X_train_best.iloc[test_index]\n",
    "        y_train_cv, y_test_cv = y_train[target].iloc[train_index], y_train[target].iloc[test_index]\n",
    "\n",
    "        best_models_ada[target].fit(X_train_cv, y_train_cv)\n",
    "        y_pred = best_models_ada[target].predict(X_test_cv)\n",
    "\n",
    "        # Calculate evaluation metrics\n",
    "        accuracy_scores.append(accuracy_score(y_test_cv, y_pred))\n",
    "        precision_scores.append(precision_score(y_test_cv, y_pred))\n",
    "        recall_scores.append(recall_score(y_test_cv, y_pred))\n",
    "        f1_scores.append(f1_score(y_test_cv, y_pred))\n",
    "\n",
    "    # Print evaluation metrics\n",
    "    print(f\"Accuracy: {np.mean(accuracy_scores):.4f}\")\n",
    "    print(f\"Precision: {np.mean(precision_scores):.4f}\")\n",
    "    print(f\"Recall: {np.mean(recall_scores):.4f}\")\n",
    "    print(f\"F1-score: {np.mean(f1_scores):.4f}\")\n",
    "\n",
    "    # Plot feature importance for class 1\n",
    "    importances = best_models_ada[target].estimator_.feature_importances_[1]\n",
    "    feature_names = best_features\n",
    "    indices = np.argsort(importances)\n",
    "\n",
    "    plt.figure(figsize=(10, 6))\n",
    "    plt.title(f\"Feature Importances for Class 1 ({target})\")\n",
    "    plt.barh(range(len(indices)), importances[indices], color='b', align='center')\n",
    "    plt.yticks(range(len(indices)), [feature_names[i] for i in indices])\n",
    "    plt.xlabel(\"Importance\")\n",
    "    plt.show()"
   ]
  },
  {
   "cell_type": "code",
   "execution_count": null,
   "metadata": {},
   "outputs": [
    {
     "data": {
      "image/png": "[encoded data removed]",
      "text/plain": [
       "<Figure size 800x550 with 2 Axes>"
      ]
     },
     "metadata": {},
     "output_type": "display_data"
    },
    {
     "data": {
      "image/png": "[encoded data removed]",
      "text/plain": [
       "<Figure size 800x550 with 2 Axes>"
      ]
     },
     "metadata": {},
     "output_type": "display_data"
    },
    {
     "data": {
      "image/png": "[encoded data removed]",
      "text/plain": [
       "<Figure size 800x550 with 2 Axes>"
      ]
     },
     "metadata": {},
     "output_type": "display_data"
    },
    {
     "data": {
      "image/png": "[encoded data removed]",
      "text/plain": [
       "<Figure size 800x550 with 2 Axes>"
      ]
     },
     "metadata": {},
     "output_type": "display_data"
    },
    {
     "data": {
      "image/png": "[encoded data removed]",
      "text/plain": [
       "<Figure size 800x550 with 2 Axes>"
      ]
     },
     "metadata": {},
     "output_type": "display_data"
    },
    {
     "data": {
      "image/png": "[encoded data removed]",
      "text/plain": [
       "<Figure size 800x550 with 2 Axes>"
      ]
     },
     "metadata": {},
     "output_type": "display_data"
    },
    {
     "data": {
      "image/png": "[encoded data removed]",
      "text/plain": [
       "<Figure size 800x550 with 2 Axes>"
      ]
     },
     "metadata": {},
     "output_type": "display_data"
    },
    {
     "data": {
      "image/png": "[encoded data removed]",
      "text/plain": [
       "<Figure size 800x550 with 2 Axes>"
      ]
     },
     "metadata": {},
     "output_type": "display_data"
    }
   ],
   "source": [
    "from yellowbrick.classifier import ClassificationReport\n",
    "\n",
    "for target in selected_features_dict.keys():\n",
    "    best_features = list(selected_features_dict[target].keys())\n",
    "    X_train_best = X_train[best_features]\n",
    "    X_test_best = X_test[best_features]\n",
    "\n",
    "    # Random Forest\n",
    "    visualizer_rf = ClassificationReport(best_models_rf[target], classes=np.unique(y_train[target]), support=True)\n",
    "    visualizer_rf.fit(X_train_best, y_train[target])  \n",
    "    visualizer_rf.score(X_test_best, y_test[target])  \n",
    "    visualizer_rf.show()       \n",
    "\n",
    "    # XGBoost\n",
    "    visualizer_xgb = ClassificationReport(best_models_xgb[target], classes=np.unique(y_train[target]), support=True)\n",
    "    visualizer_xgb.fit(X_train_best, y_train[target])  \n",
    "    visualizer_xgb.score(X_test_best, y_test[target])  \n",
    "    visualizer_xgb.show()       "
   ]
  },
  {
   "attachments": {},
   "cell_type": "markdown",
   "metadata": {},
   "source": [
    "### AdaBoost and Neural Network"
   ]
  },
  {
   "cell_type": "code",
   "execution_count": 21,
   "metadata": {},
   "outputs": [
    {
     "name": "stdout",
     "output_type": "stream",
     "text": [
      "Performing grid search for models for ef_score\n",
      "Performing grid search for Neural Network Model\n"
     ]
    }
   ],
   "source": [
    "from sklearn.neural_network import MLPClassifier\n",
    "\n",
    "# Define the grids of hyperparameters to search over\n",
    "nn_params = {\n",
    "    'hidden_layer_sizes': [(50, 50), (100, 100), (150, 150), (100, 50), (150, 100)],\n",
    "    'learning_rate_init': [0.01, 0.001, 0.0001],\n",
    "    'max_iter': [200, 300, 400],\n",
    "    'alpha': [0.0001, 0.001, 0.01, 0.1],  # L2 penalty (regularization term) parameter\n",
    "}\n",
    "\n",
    "# Initialize dictionary to store the best models\n",
    "best_models_nn = {}\n",
    "\n",
    "for target in selected_features_dict.keys():\n",
    "    print(f\"Performing grid search for models for {target}\")\n",
    "\n",
    "    # Get the best features for the target\n",
    "    best_features = list(selected_features_dict[target].keys())\n",
    "\n",
    "    # Subset X_train and X_test to only include the best features\n",
    "    X_train_best = X_train[best_features]\n",
    "    X_test_best = X_test[best_features]\n",
    "\n",
    "    # Perform grid search for the Neural Network model\n",
    "    print(\"Performing grid search for Neural Network Model\")\n",
    "    nn_grid = GridSearchCV(MLPClassifier(random_state=0), nn_params, cv=5)\n",
    "    nn_grid.fit(X_train_best, y_train[target])\n",
    "\n",
    "    # Store the best model\n",
    "    best_models_nn[target] = nn_grid.best_estimator_\n",
    "\n",
    "    # Neural Network model\n",
    "    print(f\"Classification report for Neural Network model, {target}\")\n",
    "    y_pred_nn = best_models_nn[target].predict(X_test_best)\n",
    "    print(classification_report(y_test[target], y_pred_nn))\n"
   ]
  },
  {
   "attachments": {},
   "cell_type": "markdown",
   "metadata": {},
   "source": [
    "In this version of the code, I've added more hidden layers and neurons per layer to the hidden_layer_sizes parameter. The tuples in the hidden_layer_sizes list now represent the number of neurons in each layer of the network. For example, (50, 50) represents a network with two hidden layers, each containing 50 neurons. (100, 50) represents a network with two hidden layers, the first containing 100 neurons and the second containing 50.\n",
    "\n",
    "I've also added the alpha parameter to the hyperparameter grid. This parameter controls the amount of L2 regularization applied to the network, which can help to prevent overfitting by penalizing large weights in the network. Adding this parameter to the grid search can help to find the optimal balance between model complexity and overfitting."
   ]
  },
  {
   "attachments": {},
   "cell_type": "markdown",
   "metadata": {},
   "source": [
    "## Modelling: Spatial"
   ]
  },
  {
   "attachments": {},
   "cell_type": "markdown",
   "metadata": {},
   "source": [
    "### Bayesian Spatio-Temporal Interaction (BSTI) and  MGWR / GWR"
   ]
  },
  {
   "cell_type": "code",
   "execution_count": 1,
   "metadata": {},
   "outputs": [
    {
     "name": "stdout",
     "output_type": "stream",
     "text": [
      "1.7.3\n"
     ]
    }
   ],
   "source": [
    "import scipy\n",
    "print(scipy.__version__)"
   ]
  },
  {
   "cell_type": "code",
   "execution_count": 16,
   "metadata": {},
   "outputs": [
    {
     "name": "stdout",
     "output_type": "stream",
     "text": [
      "Collecting geopy\n",
      "  Downloading geopy-2.3.0-py3-none-any.whl (119 kB)\n",
      "\u001b[2K     \u001b[90m━━━━━━━━━━━━━━━━━━━━━━━━━━━━━━━━━━━━━━━\u001b[0m \u001b[32m119.8/119.8 kB\u001b[0m \u001b[31m8.8 MB/s\u001b[0m eta \u001b[36m0:00:00\u001b[0m\n",
      "\u001b[?25hCollecting geographiclib<3,>=1.52\n",
      "  Downloading geographiclib-2.0-py3-none-any.whl (40 kB)\n",
      "\u001b[2K     \u001b[90m━━━━━━━━━━━━━━━━━━━━━━━━━━━━━━━━━━━━━━━━\u001b[0m \u001b[32m40.3/40.3 kB\u001b[0m \u001b[31m5.1 MB/s\u001b[0m eta \u001b[36m0:00:00\u001b[0m\n",
      "\u001b[?25hInstalling collected packages: geographiclib, geopy\n",
      "Successfully installed geographiclib-2.0 geopy-2.3.0\n",
      "Note: you may need to restart the kernel to use updated packages.\n"
     ]
    }
   ],
   "source": [
    "%pip install geopy"
   ]
  },
  {
   "cell_type": "code",
   "execution_count": 13,
   "metadata": {},
   "outputs": [],
   "source": [
    "import pymc3 as pm\n",
    "import theano.tensor as tt\n",
    "from scipy.spatial.distance import cdist\n",
    "import geopy.distance\n",
    "from theano import shared"
   ]
  },
  {
   "cell_type": "code",
   "execution_count": 20,
   "metadata": {},
   "outputs": [],
   "source": [
    "def haversine(coord1, coord2):\n",
    "    \"\"\"\n",
    "    Calculate the great circle distance in kilometers between two points \n",
    "    on the earth (specified in decimal degrees)\n",
    "    \"\"\"\n",
    "    lat1, lon1 = coord1\n",
    "    lat2, lon2 = coord2\n",
    "    \n",
    "    # convert decimal degrees to radians \n",
    "    lon1, lat1, lon2, lat2 = map(np.radians, [lon1, lat1, lon2, lat2])\n",
    "\n",
    "    # haversine formula \n",
    "    dlon = lon2 - lon1 \n",
    "    dlat = lat2 - lat1 \n",
    "    a = np.sin(dlat/2)**2 + np.cos(lat1) * np.cos(lat2) * np.sin(dlon/2)**2\n",
    "    c = 2 * np.arcsin(np.sqrt(a)) \n",
    "    r = 6371 # Radius of earth in kilometers. Use 3956 for miles. Determines return value units.\n",
    "    return c * r\n",
    "\n",
    "def get_distance_matrix(coords):\n",
    "    dist_matrix = cdist(coords, coords, metric=haversine)\n",
    "    return dist_matrix"
   ]
  },
  {
   "cell_type": "code",
   "execution_count": 16,
   "metadata": {},
   "outputs": [],
   "source": [
    "# Extract x and y from the geometry as separate features\n",
    "gdf['lon'] = gdf['geometry'].centroid.x\n",
    "gdf['lat'] = gdf['geometry'].centroid.y\n",
    "\n",
    "# Store coordinates as list of tuples\n",
    "coords = list(zip(gdf['lat'], gdf['lon']))\n",
    "\n",
    "# spatial distance matrix\n",
    "spatial_dist = get_distance_matrix(coords)"
   ]
  },
  {
   "cell_type": "code",
   "execution_count": 17,
   "metadata": {},
   "outputs": [],
   "source": [
    "# temporal distance matrix \n",
    "temporal_dist = np.abs(gdf['year'].values[:, None] - gdf['year'].values[None, :])\n",
    "\n",
    "# spatio-temporal distance matrix\n",
    "spatio_temporal_dist = spatial_dist + temporal_dist"
   ]
  },
  {
   "cell_type": "code",
   "execution_count": null,
   "metadata": {},
   "outputs": [],
   "source": [
    "with pm.Model() as model:\n",
    "    # Define the length scale parameter for the covariance function\n",
    "    ls = pm.Gamma(\"ls\", alpha=2, beta=1)\n",
    "    \n",
    "    # Define the covariance function\n",
    "    cov_func = pm.gp.cov.ExpQuad(1, ls=ls)\n",
    "    \n",
    "    # Specify the mean function (this can be adjusted according to your needs)\n",
    "    mean_func = pm.gp.mean.Zero()\n",
    "\n",
    "    # The scale of the white noise term can be provided,\n",
    "    noise = pm.HalfCauchy('noise', beta=3)\n",
    "\n",
    "    # Define the GP\n",
    "    gp = pm.gp.Marginal(mean_func=mean_func, cov_func=cov_func)\n",
    "    \n",
    "    # Define the observed data for the GP\n",
    "    y = gdf['ef_score']\n",
    "    X = gdf[selected_features_dict['ef_score']].values\n",
    "    \n",
    "    # Marginal likelihood\n",
    "    y_ = gp.marginal_likelihood('y_', X=X, y=y, noise=noise)\n",
    "\n",
    "    # Use a Maximum a Posteriori (MAP) estimation to find the best model parameters\n",
    "    map_estimate = pm.find_MAP()"
   ]
  },
  {
   "cell_type": "code",
   "execution_count": 18,
   "metadata": {},
   "outputs": [],
   "source": [
    "# Define the observed data for the GP\n",
    "outcomes_train = gdf['ef_score']\n",
    "\n",
    "# Covariates (predictor features)\n",
    "X = gdf[selected_features_dict['ef_score']].values\n",
    "\n",
    "# Scale covariates\n",
    "scaler = StandardScaler()\n",
    "X_scaled = scaler.fit_transform(X)\n",
    "\n",
    "# Set up shared variables\n",
    "covariates_shared = shared(X_scaled)\n",
    "\n",
    "# Spatio-temporal distance matrix\n",
    "D_spatiotemporal = spatio_temporal_dist"
   ]
  },
  {
   "cell_type": "code",
   "execution_count": 18,
   "metadata": {},
   "outputs": [
    {
     "name": "stdout",
     "output_type": "stream",
     "text": [
      "Finding the MAP estimate...\n"
     ]
    },
    {
     "name": "stdout",
     "output_type": "stream",
     "text": [
      "\n",
      "MAP estimate found.\n",
      "Starting MCMC sampling...\n"
     ]
    },
    {
     "name": "stderr",
     "output_type": "stream",
     "text": [
      "Auto-assigning NUTS sampler...\n",
      "Initializing NUTS using jitter+adapt_diag...\n",
      "Multiprocess sampling (4 chains in 4 jobs)\n",
      "NUTS: [f_rotated_, tau, l]\n"
     ]
    }
   ],
   "source": [
    "# Set up the model\n",
    "with pm.Model() as model:\n",
    "    # Priors\n",
    "    l = pm.Gamma(\"l\", alpha=2, beta=1)\n",
    "    tau = pm.HalfCauchy(\"tau\", beta=5)\n",
    "\n",
    "    # Matern covariance function\n",
    "    cov_func = tau**2 * pm.gp.cov.Matern32(1, ls=l)\n",
    "\n",
    "    gp = pm.gp.Latent(cov_func=cov_func)\n",
    "    f = gp.prior(\"f\", X=D_spatiotemporal)\n",
    "\n",
    "    # Expected value of outcome\n",
    "    p = pm.Deterministic('p', pm.math.sigmoid(f))\n",
    "\n",
    "    # Likelihood (sampling distribution) of observations\n",
    "    y_obs = pm.Bernoulli('y_obs', p=p, observed=outcomes_train)\n",
    "\n",
    "# Get the MAP estimate\n",
    "with model:\n",
    "    print(\"Finding the MAP estimate...\")\n",
    "    map_estimate = pm.find_MAP()\n",
    "    print(\"MAP estimate found.\")\n",
    "\n",
    "# Fit the model with fewer iterations\n",
    "with model:\n",
    "    print(\"Starting MCMC sampling...\")\n",
    "    trace = pm.sample(500, tune=500, target_accept=0.95)\n",
    "    print(\"MCMC sampling completed.\")"
   ]
  },
  {
   "cell_type": "code",
   "execution_count": null,
   "metadata": {},
   "outputs": [],
   "source": [
    "# Set up the model\n",
    "with pm.Model() as model:\n",
    "    # Priors\n",
    "    l = pm.Gamma(\"l\", alpha=2, beta=1)\n",
    "    tau = pm.HalfCauchy(\"tau\", beta=5)\n",
    "    cov_func = tau**2 * pm.gp.cov.ExpQuad(1, ls=l)\n",
    "\n",
    "    gp = pm.gp.Latent(cov_func=cov_func)\n",
    "    f = gp.prior(\"f\", X=D_spatiotemporal)\n",
    "\n",
    "    # Expected value of outcome\n",
    "    p = pm.Deterministic('p', pm.math.sigmoid(f))\n",
    "\n",
    "    # Likelihood (sampling distribution) of observations\n",
    "    y_obs = pm.Bernoulli('y_obs', p=p, observed=outcomes_train)\n",
    "\n",
    "# Fit the model\n",
    "with model:\n",
    "    print(\"Starting model fitting...\")\n",
    "    trace = pm.sample(100, tune=100, target_accept=0.95)\n",
    "\n",
    "    # Print progress during model fitting\n",
    "    for i in range(1, 101):\n",
    "        if i % 100 == 0:\n",
    "            print(f\"Progress: {i}/100 iterations\")\n",
    "\n",
    "print(\"Model fitting completed.\")"
   ]
  },
  {
   "attachments": {},
   "cell_type": "markdown",
   "metadata": {},
   "source": [
    "## Modelling: Genetic"
   ]
  },
  {
   "cell_type": "code",
   "execution_count": 26,
   "metadata": {},
   "outputs": [
    {
     "name": "stdout",
     "output_type": "stream",
     "text": [
      "Collecting tpot\n",
      "  Downloading TPOT-0.11.7-py3-none-any.whl (87 kB)\n",
      "\u001b[2K     \u001b[90m━━━━━━━━━━━━━━━━━━━━━━━━━━━━━━━━━━━━━━━━\u001b[0m \u001b[32m87.2/87.2 kB\u001b[0m \u001b[31m4.9 MB/s\u001b[0m eta \u001b[36m0:00:00\u001b[0m\n",
      "\u001b[?25hCollecting deap>=1.2\n",
      "  Downloading deap-1.3.3-cp39-cp39-macosx_10_15_x86_64.whl (109 kB)\n",
      "\u001b[2K     \u001b[90m━━━━━━━━━━━━━━━━━━━━━━━━━━━━━━━━━━━━━━\u001b[0m \u001b[32m109.1/109.1 kB\u001b[0m \u001b[31m12.1 MB/s\u001b[0m eta \u001b[36m0:00:00\u001b[0m\n",
      "\u001b[?25hRequirement already satisfied: joblib>=0.13.2 in /Users/albertcortbanke/miniconda3/envs/msngdata/lib/python3.9/site-packages (from tpot) (1.1.1)\n",
      "Requirement already satisfied: scipy>=1.3.1 in /Users/albertcortbanke/miniconda3/envs/msngdata/lib/python3.9/site-packages (from tpot) (1.7.3)\n",
      "Requirement already satisfied: scikit-learn>=0.22.0 in /Users/albertcortbanke/miniconda3/envs/msngdata/lib/python3.9/site-packages (from tpot) (1.2.2)\n",
      "Requirement already satisfied: numpy>=1.16.3 in /Users/albertcortbanke/miniconda3/envs/msngdata/lib/python3.9/site-packages (from tpot) (1.22.1)\n",
      "Collecting update-checker>=0.16\n",
      "  Downloading update_checker-0.18.0-py3-none-any.whl (7.0 kB)\n",
      "Requirement already satisfied: tqdm>=4.36.1 in /Users/albertcortbanke/miniconda3/envs/msngdata/lib/python3.9/site-packages (from tpot) (4.65.0)\n",
      "Requirement already satisfied: pandas>=0.24.2 in /Users/albertcortbanke/miniconda3/envs/msngdata/lib/python3.9/site-packages (from tpot) (1.5.3)\n",
      "Requirement already satisfied: xgboost>=1.1.0 in /Users/albertcortbanke/miniconda3/envs/msngdata/lib/python3.9/site-packages (from tpot) (1.7.3)\n",
      "Collecting stopit>=1.1.1\n",
      "  Downloading stopit-1.1.2.tar.gz (18 kB)\n",
      "  Preparing metadata (setup.py) ... \u001b[?25ldone\n",
      "\u001b[?25hRequirement already satisfied: python-dateutil>=2.8.1 in /Users/albertcortbanke/miniconda3/envs/msngdata/lib/python3.9/site-packages (from pandas>=0.24.2->tpot) (2.8.2)\n",
      "Requirement already satisfied: pytz>=2020.1 in /Users/albertcortbanke/miniconda3/envs/msngdata/lib/python3.9/site-packages (from pandas>=0.24.2->tpot) (2022.7)\n",
      "Requirement already satisfied: threadpoolctl>=2.0.0 in /Users/albertcortbanke/miniconda3/envs/msngdata/lib/python3.9/site-packages (from scikit-learn>=0.22.0->tpot) (2.2.0)\n",
      "Requirement already satisfied: requests>=2.3.0 in /Users/albertcortbanke/miniconda3/envs/msngdata/lib/python3.9/site-packages (from update-checker>=0.16->tpot) (2.28.1)\n",
      "Requirement already satisfied: six>=1.5 in /Users/albertcortbanke/miniconda3/envs/msngdata/lib/python3.9/site-packages (from python-dateutil>=2.8.1->pandas>=0.24.2->tpot) (1.16.0)\n",
      "Requirement already satisfied: certifi>=2017.4.17 in /Users/albertcortbanke/miniconda3/envs/msngdata/lib/python3.9/site-packages (from requests>=2.3.0->update-checker>=0.16->tpot) (2022.12.7)\n",
      "Requirement already satisfied: idna<4,>=2.5 in /Users/albertcortbanke/miniconda3/envs/msngdata/lib/python3.9/site-packages (from requests>=2.3.0->update-checker>=0.16->tpot) (3.4)\n",
      "Requirement already satisfied: charset-normalizer<3,>=2 in /Users/albertcortbanke/miniconda3/envs/msngdata/lib/python3.9/site-packages (from requests>=2.3.0->update-checker>=0.16->tpot) (2.0.4)\n",
      "Requirement already satisfied: urllib3<1.27,>=1.21.1 in /Users/albertcortbanke/miniconda3/envs/msngdata/lib/python3.9/site-packages (from requests>=2.3.0->update-checker>=0.16->tpot) (1.26.15)\n",
      "Building wheels for collected packages: stopit\n",
      "  Building wheel for stopit (setup.py) ... \u001b[?25ldone\n",
      "\u001b[?25h  Created wheel for stopit: filename=stopit-1.1.2-py3-none-any.whl size=11937 sha256=bf8fb1ce328be6024d4c4676774e5352fcb19b8cbb664b6c3436b948b3aa074b\n",
      "  Stored in directory: /Users/albertcortbanke/Library/Caches/pip/wheels/48/8c/93/3afb1916772591fe6bcc25cdf8b1c5bdc362f0ec8e2f0fd413\n",
      "Successfully built stopit\n",
      "Installing collected packages: stopit, deap, update-checker, tpot\n",
      "Successfully installed deap-1.3.3 stopit-1.1.2 tpot-0.11.7 update-checker-0.18.0\n",
      "Note: you may need to restart the kernel to use updated packages.\n"
     ]
    }
   ],
   "source": [
    "%pip install tpot"
   ]
  },
  {
   "cell_type": "code",
   "execution_count": 14,
   "metadata": {},
   "outputs": [
    {
     "name": "stdout",
     "output_type": "stream",
     "text": [
      "Training model for ef_score\n",
      "                                                                              \n",
      "Generation 1 - Current best internal CV score: 0.9921182266009853\n",
      "                                                                              \n",
      "Generation 2 - Current best internal CV score: 0.9921182266009853\n",
      "                                                                              \n",
      "Generation 3 - Current best internal CV score: 0.993103448275862\n",
      "                                                                              \n",
      "Generation 4 - Current best internal CV score: 0.993103448275862\n",
      "                                                                              \n",
      "Generation 5 - Current best internal CV score: 0.993103448275862\n",
      "                                                                              \n",
      "Generation 6 - Current best internal CV score: 0.993103448275862\n",
      "                                                                              \n",
      "Generation 7 - Current best internal CV score: 0.993103448275862\n",
      "                                                                              \n",
      "Generation 8 - Current best internal CV score: 0.993103448275862\n",
      "                                                                              \n",
      "Generation 9 - Current best internal CV score: 0.993103448275862\n",
      "                                                                              \n",
      "Generation 10 - Current best internal CV score: 0.993103448275862\n",
      "                                                                              \n",
      "Best pipeline: RandomForestClassifier(SVC(input_matrix, C=0.1, kernel=linear), max_depth=7, min_samples_split=2, n_estimators=200)\n",
      "Classification Report for ef_score:\n",
      "              precision    recall  f1-score   support\n",
      "\n",
      "           0       1.00      1.00      1.00      1031\n",
      "           1       1.00      1.00      1.00        15\n",
      "\n",
      "    accuracy                           1.00      1046\n",
      "   macro avg       1.00      1.00      1.00      1046\n",
      "weighted avg       1.00      1.00      1.00      1046\n",
      "\n",
      "Training model for hf_score\n",
      "                                                                              \n",
      "Generation 1 - Current best internal CV score: 0.9921182266009853\n",
      "                                                                              \n",
      "Generation 2 - Current best internal CV score: 0.9921182266009853\n",
      "                                                                              \n",
      "Generation 3 - Current best internal CV score: 0.993103448275862\n",
      "                                                                              \n",
      "Generation 4 - Current best internal CV score: 0.993103448275862\n",
      "                                                                              \n",
      "Generation 5 - Current best internal CV score: 0.993103448275862\n",
      "                                                                              \n",
      "Generation 6 - Current best internal CV score: 0.993103448275862\n",
      "                                                                              \n",
      "Generation 7 - Current best internal CV score: 0.993103448275862\n",
      "                                                                              \n",
      "Generation 8 - Current best internal CV score: 0.993103448275862\n",
      "Optimization Progress:  88%|████████▊ | 484/550 [23:26<03:52,  3.52s/pipeline]"
     ]
    }
   ],
   "source": [
    "from tpot import TPOTClassifier\n",
    "from sklearn.model_selection import TimeSeriesSplit\n",
    "from sklearn.metrics import classification_report\n",
    "from sklearn.tree import DecisionTreeClassifier\n",
    "from sklearn.ensemble import GradientBoostingClassifier\n",
    "from xgboost import XGBClassifier\n",
    "\n",
    "# Initialize a dictionary to store models\n",
    "models = {}\n",
    "\n",
    "# Create a time series split object\n",
    "tscv = TimeSeriesSplit(n_splits=5)\n",
    "\n",
    "# Define the search space for models and hyperparameters with expanded ranges\n",
    "tpot_config = {\n",
    "    'sklearn.ensemble.AdaBoostClassifier': {\n",
    "        'n_estimators': range(50, 251, 50),\n",
    "        'learning_rate': [0.01, 0.1, 1],\n",
    "        'base_estimator': [\n",
    "            DecisionTreeClassifier(max_depth=1),\n",
    "            DecisionTreeClassifier(max_depth=2),\n",
    "            DecisionTreeClassifier(max_depth=3)\n",
    "        ]\n",
    "    },\n",
    "    'sklearn.ensemble.RandomForestClassifier': {\n",
    "        'n_estimators': range(100, 401, 100),\n",
    "        'max_depth': [3, 5, 7, None],\n",
    "        'min_samples_split': range(2, 11, 2)\n",
    "    },\n",
    "    'sklearn.svm.SVC': {\n",
    "        'C': [0.1, 1.0, 10.0],\n",
    "        'kernel': ['linear', 'rbf']\n",
    "    },\n",
    "    'sklearn.ensemble.GradientBoostingClassifier': {\n",
    "        'n_estimators': range(50, 251, 50),\n",
    "        'learning_rate': [0.01, 0.1, 1],\n",
    "        'max_depth': [3, 5, 7]\n",
    "    },\n",
    "    'xgboost.XGBClassifier': {\n",
    "        'n_estimators': range(50, 251, 50),\n",
    "        'learning_rate': [0.01, 0.1, 1],\n",
    "        'max_depth': [3, 5, 7]\n",
    "    }\n",
    "}\n",
    "\n",
    "for target, best_features in selected_features_dict.items():\n",
    "    print(f\"Training model for {target}\")\n",
    "    \n",
    "    # Subset X_train and X_test to only include the best features\n",
    "    X_train_best = X_train[best_features]\n",
    "    X_test_best = X_test[best_features]\n",
    "    \n",
    "    # Initialize TPOT with the desired configuration\n",
    "    tpot = TPOTClassifier(generations=10, population_size=50, cv=tscv, config_dict=tpot_config, random_state=0, verbosity=2)\n",
    "\n",
    "    # Fit TPOT to the training data with the best features\n",
    "    tpot.fit(X_train_best, y_train[target])\n",
    "\n",
    "    # Make predictions on the test set with the best features\n",
    "    y_pred = tpot.predict(X_test_best)\n",
    "\n",
    "    # Generate classification report\n",
    "    report = classification_report(y_test[target], y_pred)\n",
    "\n",
    "    # Print classification report\n",
    "    print(f\"Classification Report for {target}:\")\n",
    "    print(report)\n",
    "\n",
    "    # Store the best pipeline found by TPOT for the target\n",
    "    best_pipeline = tpot.fitted_pipeline_\n",
    "    models[target] = best_pipeline\n"
   ]
  }
 ],
 "metadata": {
  "kernelspec": {
   "display_name": "msngdata",
   "language": "python",
   "name": "python3"
  },
  "language_info": {
   "codemirror_mode": {
    "name": "ipython",
    "version": 3
   },
   "file_extension": ".py",
   "mimetype": "text/x-python",
   "name": "python",
   "nbconvert_exporter": "python",
   "pygments_lexer": "ipython3",
   "version": "3.9.16"
  },
  "orig_nbformat": 4
 },
 "nbformat": 4,
 "nbformat_minor": 2
}
